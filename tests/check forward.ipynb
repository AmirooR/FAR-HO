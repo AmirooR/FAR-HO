{
 "cells": [
  {
   "cell_type": "code",
   "execution_count": null,
   "metadata": {
    "collapsed": true
   },
   "outputs": [],
   "source": [
    "%load_ext autoreload\n",
    "%autoreload 2"
   ]
  },
  {
   "cell_type": "code",
   "execution_count": null,
   "metadata": {},
   "outputs": [],
   "source": [
    "import tensorflow as tf\n",
    "import numpy as np\n",
    "import experiment_manager as em\n",
    "import far_ho as far"
   ]
  },
  {
   "cell_type": "markdown",
   "metadata": {},
   "source": [
    "#### Checking implementation of `ForwardHG`. The hypergradients computed with `ForwardHG` must be the same as the one computed by `ReverseHG`."
   ]
  },
  {
   "cell_type": "code",
   "execution_count": null,
   "metadata": {
    "collapsed": true
   },
   "outputs": [],
   "source": [
    "def _test(method):\n",
    "    try: ss.close()\n",
    "    except: pass\n",
    "    tf.reset_default_graph()\n",
    "    ss = tf.InteractiveSession()\n",
    "    v1 = tf.Variable([[1., -1., 1.], [2., 10., 2.]])\n",
    "\n",
    "    v2 = tf.Variable([-1., 1., 0.2])\n",
    "    lmbd = far.get_hyperparameter('lambda', \n",
    "                              initializer=tf.ones_initializer,\n",
    "                             shape=v2.get_shape(), scalar=True)\n",
    "\n",
    "    cost = tf.reduce_mean(v1**2) + tf.reduce_sum(lmbd*v2**2)\n",
    "#     cost = tf.reduce_sum(lmbd*v2**2)\n",
    "\n",
    "    \n",
    "    \n",
    "    _et = far.get_hyperparameter('eta', 0.1)\n",
    "    io_optim = far.MomentumOptimizer(_et, far.get_hyperparameter('mu', .5))\n",
    "    # io_optim = far.GradientDescentOptimizer(_et)\n",
    "\n",
    "    io_optim_dict = io_optim.minimize(cost) \n",
    "    oo = tf.reduce_mean(v1*v2)\n",
    "#     oo = tf.reduce_mean(v2)\n",
    "    optim_oo = tf.train.AdamOptimizer(.01)\n",
    "    farho = far.HyperOptimizer(hypergradient=method())\n",
    "    farho.minimize(oo, optim_oo, cost, io_optim)\n",
    "    return ss, farho, cost, oo"
   ]
  },
  {
   "cell_type": "markdown",
   "metadata": {},
   "source": [
    "#### FORWARD"
   ]
  },
  {
   "cell_type": "code",
   "execution_count": null,
   "metadata": {},
   "outputs": [],
   "source": [
    "ss, farho, cost, oo = _test(far.ForwardHG)\n",
    "\n",
    "tf.global_variables_initializer().run()\n",
    "\n",
    "# execution with gradient descent! (looks ol)\n",
    "farho.run(10, _skip_hyper_ts=True)\n",
    "\n",
    "hypergrads_fhg = ss.run(far.utils.hypergradients())\n",
    "hypergrads_fhg"
   ]
  },
  {
   "cell_type": "markdown",
   "metadata": {},
   "source": [
    "#### REVERSE"
   ]
  },
  {
   "cell_type": "code",
   "execution_count": null,
   "metadata": {},
   "outputs": [],
   "source": [
    "ss, farho, cost, oo = _test(far.ReverseHg)\n",
    "\n",
    "tf.global_variables_initializer().run()\n",
    "\n",
    "# execution with gradient descent! (looks ol)\n",
    "farho.run(10, _skip_hyper_ts=True)\n",
    "\n",
    "hypergrads_rev = ss.run(far.utils.hypergradients())\n",
    "hypergrads_rev"
   ]
  },
  {
   "cell_type": "code",
   "execution_count": null,
   "metadata": {},
   "outputs": [],
   "source": [
    "print(np.linalg.norm(np.array(hypergrads_fhg) - np.array(hypergrads_rev)))"
   ]
  },
  {
   "cell_type": "markdown",
   "metadata": {},
   "source": [
    "#### OK... SOUNDS GOOD"
   ]
  },
  {
   "cell_type": "code",
   "execution_count": null,
   "metadata": {
    "collapsed": true
   },
   "outputs": [],
   "source": []
  }
 ],
 "metadata": {
  "anaconda-cloud": {},
  "kernelspec": {
   "display_name": "Python [conda root]",
   "language": "python",
   "name": "conda-root-py"
  },
  "language_info": {
   "codemirror_mode": {
    "name": "ipython",
    "version": 3
   },
   "file_extension": ".py",
   "mimetype": "text/x-python",
   "name": "python",
   "nbconvert_exporter": "python",
   "pygments_lexer": "ipython3",
   "version": "3.5.4"
  }
 },
 "nbformat": 4,
 "nbformat_minor": 1
}
