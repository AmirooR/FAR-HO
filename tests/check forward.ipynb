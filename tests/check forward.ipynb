{
 "cells": [
  {
   "cell_type": "code",
   "execution_count": 97,
   "metadata": {
    "collapsed": false
   },
   "outputs": [
    {
     "name": "stdout",
     "output_type": "stream",
     "text": [
      "The autoreload extension is already loaded. To reload it, use:\n",
      "  %reload_ext autoreload\n"
     ]
    }
   ],
   "source": [
    "%load_ext autoreload\n",
    "%autoreload 2"
   ]
  },
  {
   "cell_type": "code",
   "execution_count": 98,
   "metadata": {
    "collapsed": false
   },
   "outputs": [],
   "source": [
    "import tensorflow as tf\n",
    "import numpy as np\n",
    "import experiment_manager as em\n",
    "import far_ho as far"
   ]
  },
  {
   "cell_type": "code",
   "execution_count": 99,
   "metadata": {
    "collapsed": false
   },
   "outputs": [
    {
     "name": "stdout",
     "output_type": "stream",
     "text": [
      "4\n"
     ]
    }
   ],
   "source": [
    "far.utils._check()"
   ]
  },
  {
   "cell_type": "code",
   "execution_count": 100,
   "metadata": {
    "collapsed": true
   },
   "outputs": [],
   "source": [
    "try: ss.close()\n",
    "except: pass\n",
    "tf.reset_default_graph()\n",
    "ss = tf.InteractiveSession()\n",
    "# v1 = tf.Variable(1.)\n",
    "\n",
    "v2 = tf.Variable([-1.])"
   ]
  },
  {
   "cell_type": "code",
   "execution_count": 136,
   "metadata": {
    "collapsed": true
   },
   "outputs": [],
   "source": [
    "def _test(method=far.ForwardHG):\n",
    "    try: ss.close()\n",
    "    except: pass\n",
    "    tf.reset_default_graph()\n",
    "    ss = tf.InteractiveSession()\n",
    "    v1 = tf.Variable([[1., -1., 1.], [2., 10., 2.]])\n",
    "\n",
    "    v2 = tf.Variable([-1., 1., 0.2])\n",
    "    lmbd = far.get_hyperparameter('lambda', \n",
    "                              initializer=tf.ones_initializer,\n",
    "                             shape=v2.get_shape(), scalar=True)\n",
    "\n",
    "    cost = tf.reduce_mean(v1**2) + tf.reduce_sum(lmbd*v2**2)\n",
    "#     cost = tf.reduce_sum(lmbd*v2**2)\n",
    "\n",
    "    \n",
    "    \n",
    "    _et = far.get_hyperparameter('eta', 0.1)\n",
    "    io_optim = far.MomentumOptimizer(_et, far.get_hyperparameter('mu', .5))\n",
    "    # io_optim = far.GradientDescentOptimizer(_et)\n",
    "\n",
    "    io_optim_dict = io_optim.minimize(cost) \n",
    "    oo = tf.reduce_mean(v1*v2)\n",
    "#     oo = tf.reduce_mean(v2)\n",
    "    optim_oo = tf.train.AdamOptimizer(.01)\n",
    "    farho = far.HyperOptimizer(hypergradient=method())\n",
    "    farho.minimize(oo, optim_oo, cost, io_optim)\n",
    "    return ss, farho, cost, oo"
   ]
  },
  {
   "cell_type": "code",
   "execution_count": 137,
   "metadata": {
    "collapsed": false
   },
   "outputs": [
    {
     "name": "stdout",
     "output_type": "stream",
     "text": [
      "[<tf.Tensor 'Mean_1_1/gradients_4/Mean_1_1/DUMMY/Vectorization/Reshape_grad/Reshape:0' shape=(2, 3) dtype=float32>, <tf.Tensor 'Mean_1_1/gradients_4/Mean_1_1/DUMMY/Vectorization/Reshape_1_grad/Reshape:0' shape=(2, 3) dtype=float32>, <tf.Tensor 'Mean_1_1/gradients_4/Mean_1_1/DUMMY/Vectorization/Reshape_2_grad/Reshape:0' shape=(3,) dtype=float32>, <tf.Tensor 'Mean_1_1/gradients_4/Mean_1_1/DUMMY/Vectorization/Reshape_3_grad/Reshape:0' shape=(3,) dtype=float32>]\n",
      "[<tf.Tensor 'Mean_1_1/Dot_1/Sum:0' shape=() dtype=float32>, <tf.Tensor 'Mean_1_1/Dot_2/Sum:0' shape=() dtype=float32>]\n",
      "None\n",
      "[<tf.Tensor 'Mean_1_1/gradients_8/Mean_1_1/DUMMY/Vectorization/Reshape_grad/Reshape:0' shape=(2, 3) dtype=float32>, <tf.Tensor 'Mean_1_1/gradients_8/Mean_1_1/DUMMY/Vectorization/Reshape_1_grad/Reshape:0' shape=(2, 3) dtype=float32>, <tf.Tensor 'Mean_1_1/gradients_8/Mean_1_1/DUMMY/Vectorization/Reshape_2_grad/Reshape:0' shape=(3,) dtype=float32>, <tf.Tensor 'Mean_1_1/gradients_8/Mean_1_1/DUMMY/Vectorization/Reshape_3_grad/Reshape:0' shape=(3,) dtype=float32>]\n",
      "[<tf.Tensor 'Mean_1_1/Dot_4/Sum:0' shape=() dtype=float32>, <tf.Tensor 'Mean_1_1/Dot_5/Sum:0' shape=() dtype=float32>]\n",
      "None\n",
      "[<tf.Tensor 'Mean_1_1/gradients_12/Mean_1_1/DUMMY/Vectorization/Reshape_grad/Reshape:0' shape=(2, 3) dtype=float32>, <tf.Tensor 'Mean_1_1/gradients_12/Mean_1_1/DUMMY/Vectorization/Reshape_1_grad/Reshape:0' shape=(2, 3) dtype=float32>, <tf.Tensor 'Mean_1_1/gradients_12/Mean_1_1/DUMMY/Vectorization/Reshape_2_grad/Reshape:0' shape=(3,) dtype=float32>, <tf.Tensor 'Mean_1_1/gradients_12/Mean_1_1/DUMMY/Vectorization/Reshape_3_grad/Reshape:0' shape=(3,) dtype=float32>]\n",
      "[<tf.Tensor 'Mean_1_1/Dot_7/Sum:0' shape=() dtype=float32>, <tf.Tensor 'Mean_1_1/Dot_8/Sum:0' shape=() dtype=float32>]\n",
      "None\n",
      "[<tf.Tensor 'Mean_1_1/gradients_16/Mean_1_1/DUMMY/Vectorization/Reshape_grad/Reshape:0' shape=(2, 3) dtype=float32>, <tf.Tensor 'Mean_1_1/gradients_16/Mean_1_1/DUMMY/Vectorization/Reshape_1_grad/Reshape:0' shape=(2, 3) dtype=float32>, <tf.Tensor 'Mean_1_1/gradients_16/Mean_1_1/DUMMY/Vectorization/Reshape_2_grad/Reshape:0' shape=(3,) dtype=float32>, <tf.Tensor 'Mean_1_1/gradients_16/Mean_1_1/DUMMY/Vectorization/Reshape_3_grad/Reshape:0' shape=(3,) dtype=float32>]\n",
      "[<tf.Tensor 'Mean_1_1/Dot_10/Sum:0' shape=() dtype=float32>, <tf.Tensor 'Mean_1_1/Dot_11/Sum:0' shape=() dtype=float32>]\n",
      "None\n",
      "[<tf.Tensor 'Mean_1_1/gradients_20/Mean_1_1/DUMMY/Vectorization/Reshape_grad/Reshape:0' shape=(2, 3) dtype=float32>, <tf.Tensor 'Mean_1_1/gradients_20/Mean_1_1/DUMMY/Vectorization/Reshape_1_grad/Reshape:0' shape=(2, 3) dtype=float32>, <tf.Tensor 'Mean_1_1/gradients_20/Mean_1_1/DUMMY/Vectorization/Reshape_2_grad/Reshape:0' shape=(3,) dtype=float32>, <tf.Tensor 'Mean_1_1/gradients_20/Mean_1_1/DUMMY/Vectorization/Reshape_3_grad/Reshape:0' shape=(3,) dtype=float32>]\n",
      "[<tf.Tensor 'Mean_1_1/Dot_13/Sum:0' shape=() dtype=float32>, <tf.Tensor 'Mean_1_1/Dot_14/Sum:0' shape=() dtype=float32>]\n",
      "None\n"
     ]
    }
   ],
   "source": [
    "ss, farho, cost, oo = _test()"
   ]
  },
  {
   "cell_type": "code",
   "execution_count": 138,
   "metadata": {
    "collapsed": true
   },
   "outputs": [],
   "source": [
    "tf.global_variables_initializer().run()"
   ]
  },
  {
   "cell_type": "code",
   "execution_count": 139,
   "metadata": {
    "collapsed": false
   },
   "outputs": [
    {
     "data": {
      "text/plain": [
       "[-0.018393533, 0.055180617, 0.003678706, 0.53872275, -0.076542258]"
      ]
     },
     "execution_count": 139,
     "metadata": {},
     "output_type": "execute_result"
    }
   ],
   "source": [
    "# execution with gradient descent! (looks ol)\n",
    "farho.run(10, _skip_hyper_ts=True)\n",
    "\n",
    "ss.run(far.utils.hypergradients())"
   ]
  },
  {
   "cell_type": "code",
   "execution_count": null,
   "metadata": {
    "collapsed": true
   },
   "outputs": [],
   "source": []
  },
  {
   "cell_type": "code",
   "execution_count": 111,
   "metadata": {
    "collapsed": true
   },
   "outputs": [],
   "source": []
  },
  {
   "cell_type": "code",
   "execution_count": 87,
   "metadata": {
    "collapsed": true
   },
   "outputs": [],
   "source": [
    "zs = tf.get_collection(far.GraphKeys.ZS)"
   ]
  },
  {
   "cell_type": "code",
   "execution_count": 88,
   "metadata": {
    "collapsed": false
   },
   "outputs": [
    {
     "data": {
      "text/plain": [
       "[array([ 1.], dtype=float32),\n",
       " array([ 1.], dtype=float32),\n",
       " array([ 1.], dtype=float32),\n",
       " array([ 1.], dtype=float32),\n",
       " array([ 1.], dtype=float32),\n",
       " array([ 1.], dtype=float32)]"
      ]
     },
     "execution_count": 88,
     "metadata": {},
     "output_type": "execute_result"
    }
   ],
   "source": [
    "ss.run([z.assign(tf.ones_like(z)) for z in zs])"
   ]
  },
  {
   "cell_type": "code",
   "execution_count": 89,
   "metadata": {
    "collapsed": false
   },
   "outputs": [
    {
     "data": {
      "text/plain": [
       "<far_ho.optimizer.OptimizerDict at 0x1ad9ff60>"
      ]
     },
     "execution_count": 89,
     "metadata": {},
     "output_type": "execute_result"
    }
   ],
   "source": [
    "od = list(farho.hypergradient._optimizer_dicts)[0]\n",
    "od"
   ]
  },
  {
   "cell_type": "code",
   "execution_count": 90,
   "metadata": {
    "collapsed": true
   },
   "outputs": [],
   "source": [
    "dyn_d_z = far.dot(far.vectorize_all(zs[:2]), far.vectorize_all(od.dynamics))"
   ]
  },
  {
   "cell_type": "code",
   "execution_count": 91,
   "metadata": {
    "collapsed": false
   },
   "outputs": [],
   "source": [
    "grds = tf.gradients(dyn_d_z, od.state)"
   ]
  },
  {
   "cell_type": "code",
   "execution_count": 92,
   "metadata": {
    "collapsed": false
   },
   "outputs": [
    {
     "data": {
      "text/plain": [
       "[array([ 2.79999995], dtype=float32), array([ 0.44999999], dtype=float32)]"
      ]
     },
     "execution_count": 92,
     "metadata": {},
     "output_type": "execute_result"
    }
   ],
   "source": [
    "ss.run(grds)"
   ]
  },
  {
   "cell_type": "code",
   "execution_count": 83,
   "metadata": {
    "collapsed": false
   },
   "outputs": [
    {
     "data": {
      "text/plain": [
       "0.72"
      ]
     },
     "execution_count": 83,
     "metadata": {},
     "output_type": "execute_result"
    }
   ],
   "source": [
    "0.8 - 0.1*0.8"
   ]
  },
  {
   "cell_type": "code",
   "execution_count": 95,
   "metadata": {
    "collapsed": false
   },
   "outputs": [
    {
     "data": {
      "text/plain": [
       "0.45"
      ]
     },
     "execution_count": 95,
     "metadata": {},
     "output_type": "execute_result"
    }
   ],
   "source": [
    "- 0.1*0.5 + 0.5"
   ]
  },
  {
   "cell_type": "code",
   "execution_count": 96,
   "metadata": {
    "collapsed": false
   },
   "outputs": [
    {
     "data": {
      "text/plain": [
       "2.8"
      ]
     },
     "execution_count": 96,
     "metadata": {},
     "output_type": "execute_result"
    }
   ],
   "source": [
    "1 - 0.1*2 + 2"
   ]
  },
  {
   "cell_type": "code",
   "execution_count": 52,
   "metadata": {
    "collapsed": true
   },
   "outputs": [],
   "source": [
    "dynamics = od.dynamics"
   ]
  },
  {
   "cell_type": "code",
   "execution_count": null,
   "metadata": {
    "collapsed": true
   },
   "outputs": [],
   "source": [
    "a_matrix = [[\n",
    "        tf.gradients\n",
    "    ]]"
   ]
  },
  {
   "cell_type": "code",
   "execution_count": 64,
   "metadata": {
    "collapsed": false
   },
   "outputs": [
    {
     "data": {
      "text/plain": [
       "[<tf.Variable 'Variable:0' shape=(1,) dtype=float32_ref>,\n",
       " <tf.Variable 'Variable/Momentum:0' shape=(1,) dtype=float32_ref>]"
      ]
     },
     "execution_count": 64,
     "metadata": {},
     "output_type": "execute_result"
    }
   ],
   "source": [
    "od.state"
   ]
  },
  {
   "cell_type": "code",
   "execution_count": null,
   "metadata": {
    "collapsed": true
   },
   "outputs": [],
   "source": []
  },
  {
   "cell_type": "code",
   "execution_count": null,
   "metadata": {
    "collapsed": true
   },
   "outputs": [],
   "source": []
  },
  {
   "cell_type": "code",
   "execution_count": null,
   "metadata": {
    "collapsed": true
   },
   "outputs": [],
   "source": []
  },
  {
   "cell_type": "code",
   "execution_count": null,
   "metadata": {
    "collapsed": true
   },
   "outputs": [],
   "source": []
  },
  {
   "cell_type": "code",
   "execution_count": 43,
   "metadata": {
    "collapsed": false
   },
   "outputs": [],
   "source": [
    "a_d_z = farho.hypergradient.A_dot_zs[far.utils.hyperparameters()[0]]"
   ]
  },
  {
   "cell_type": "code",
   "execution_count": 45,
   "metadata": {
    "collapsed": false
   },
   "outputs": [
    {
     "data": {
      "text/plain": [
       "[array([ 2.79999995], dtype=float32), array([ 0.80999994], dtype=float32)]"
      ]
     },
     "execution_count": 45,
     "metadata": {},
     "output_type": "execute_result"
    }
   ],
   "source": [
    "ss.run(a_d_z)"
   ]
  },
  {
   "cell_type": "code",
   "execution_count": 47,
   "metadata": {
    "collapsed": false
   },
   "outputs": [
    {
     "data": {
      "text/plain": [
       "[1.0, 0.1, 0.89999998]"
      ]
     },
     "execution_count": 47,
     "metadata": {},
     "output_type": "execute_result"
    }
   ],
   "source": [
    "ss.run(far.utils.hyperparameters())"
   ]
  },
  {
   "cell_type": "code",
   "execution_count": 24,
   "metadata": {
    "collapsed": false
   },
   "outputs": [],
   "source": [
    "# ss.run(tf.get_collection(far.GraphKeys.ZS))"
   ]
  },
  {
   "cell_type": "code",
   "execution_count": 104,
   "metadata": {
    "collapsed": false
   },
   "outputs": [
    {
     "data": {
      "text/plain": [
       "[-0.070845306, -0.70845306, 0.17504753]"
      ]
     },
     "execution_count": 104,
     "metadata": {},
     "output_type": "execute_result"
    }
   ],
   "source": [
    "# execution with gradient descent! (looks ol)\n",
    "farho.run(10, _skip_hyper_ts=True)\n",
    "\n",
    "ss.run(far.utils.hypergradients())"
   ]
  },
  {
   "cell_type": "code",
   "execution_count": 26,
   "metadata": {
    "collapsed": false
   },
   "outputs": [],
   "source": [
    "# # execution with gradient descent! (looks ol)\n",
    "# run(1, _skip_hyper_ts=True)\n",
    "\n",
    "# ss.run(far.utils.hypergradients())"
   ]
  },
  {
   "cell_type": "code",
   "execution_count": 105,
   "metadata": {
    "collapsed": false
   },
   "outputs": [
    {
     "data": {
      "text/plain": [
       "(0.001059196, 0.032545291)"
      ]
     },
     "execution_count": 105,
     "metadata": {},
     "output_type": "execute_result"
    }
   ],
   "source": [
    "ss.run(cost), ss.run(oo)"
   ]
  },
  {
   "cell_type": "markdown",
   "metadata": {},
   "source": [
    "# CHECK WITH REVERSE_HG"
   ]
  },
  {
   "cell_type": "code",
   "execution_count": 140,
   "metadata": {
    "collapsed": true
   },
   "outputs": [],
   "source": [
    "ss, farho, cost, oo = _test(far.ReverseHg)"
   ]
  },
  {
   "cell_type": "code",
   "execution_count": 141,
   "metadata": {
    "collapsed": true
   },
   "outputs": [],
   "source": [
    "tf.global_variables_initializer().run()"
   ]
  },
  {
   "cell_type": "code",
   "execution_count": 142,
   "metadata": {
    "collapsed": false
   },
   "outputs": [
    {
     "data": {
      "text/plain": [
       "[-0.018393531, 0.055180617, 0.0036787055, 0.53872281, -0.076542258]"
      ]
     },
     "execution_count": 142,
     "metadata": {},
     "output_type": "execute_result"
    }
   ],
   "source": [
    "# execution with gradient descent! (looks ol)\n",
    "farho.run(10, _skip_hyper_ts=True)\n",
    "\n",
    "ss.run(far.utils.hypergradients())"
   ]
  },
  {
   "cell_type": "code",
   "execution_count": null,
   "metadata": {
    "collapsed": true
   },
   "outputs": [],
   "source": [
    "[0.0023056811, 0.046113621, -0.011393946]"
   ]
  },
  {
   "cell_type": "code",
   "execution_count": null,
   "metadata": {
    "collapsed": true
   },
   "outputs": [],
   "source": [
    "[0.00076856039, -0.00076856039, -0.00015371206, -0.0030742411, 0.00075959647]"
   ]
  },
  {
   "cell_type": "code",
   "execution_count": null,
   "metadata": {
    "collapsed": true
   },
   "outputs": [],
   "source": [
    "[-0.018393533, 0.055180617, 0.003678706, 0.53872275, -0.076542258]"
   ]
  },
  {
   "cell_type": "code",
   "execution_count": null,
   "metadata": {
    "collapsed": true
   },
   "outputs": [],
   "source": []
  },
  {
   "cell_type": "code",
   "execution_count": null,
   "metadata": {
    "collapsed": true
   },
   "outputs": [],
   "source": []
  },
  {
   "cell_type": "code",
   "execution_count": null,
   "metadata": {
    "collapsed": true
   },
   "outputs": [],
   "source": []
  },
  {
   "cell_type": "code",
   "execution_count": 29,
   "metadata": {
    "collapsed": true
   },
   "outputs": [],
   "source": [
    "try: ss.close()\n",
    "except: pass\n",
    "tf.reset_default_graph()\n",
    "ss = tf.InteractiveSession()\n",
    "v1 = tf.Variable(1.)\n",
    "\n",
    "v2 = tf.Variable([-1.])"
   ]
  },
  {
   "cell_type": "code",
   "execution_count": 73,
   "metadata": {
    "collapsed": true
   },
   "outputs": [],
   "source": [
    "lmbd = far.get_hyperparameter('lambda', \n",
    "                              initializer=tf.ones_initializer,\n",
    "                             shape=v2.get_shape(), scalar=True)\n",
    "\n",
    "cost = tf.reduce_mean(v1**2) + tf.reduce_sum(lmbd*v2**2)\n",
    "\n",
    "_et = far.get_hyperparameter('eta', 0.1)\n",
    "io_optim = far.MomentumOptimizer(_et, far.get_hyperparameter('mu', .9))\n",
    "# io_optim = far.GradientDescentOptimizer(_et)\n",
    "\n",
    "\n",
    "io_optim_dict = io_optim.minimize(cost) \n",
    "\n",
    "oo = tf.reduce_mean(v1*v2)\n",
    "\n",
    "optim_oo = tf.train.AdamOptimizer(.01)"
   ]
  },
  {
   "cell_type": "code",
   "execution_count": 74,
   "metadata": {
    "collapsed": true
   },
   "outputs": [],
   "source": [
    "farho = far.HyperOptimizer()\n",
    "run = farho.minimize(oo, optim_oo, cost, io_optim)"
   ]
  },
  {
   "cell_type": "code",
   "execution_count": 75,
   "metadata": {
    "collapsed": true
   },
   "outputs": [],
   "source": [
    "tf.global_variables_initializer().run()"
   ]
  },
  {
   "cell_type": "code",
   "execution_count": 76,
   "metadata": {
    "collapsed": false
   },
   "outputs": [
    {
     "data": {
      "text/plain": [
       "[-0.0066759503, -0.13351899, -0.0026351726]"
      ]
     },
     "execution_count": 76,
     "metadata": {},
     "output_type": "execute_result"
    }
   ],
   "source": [
    "# execution with gradient descent! (looks ol)\n",
    "run(10, _skip_hyper_ts=True)\n",
    "\n",
    "ss.run(far.utils.hypergradients())"
   ]
  },
  {
   "cell_type": "code",
   "execution_count": 77,
   "metadata": {
    "collapsed": false
   },
   "outputs": [
    {
     "data": {
      "text/plain": [
       "(3.8717641e-05, -1.935882e-05)"
      ]
     },
     "execution_count": 77,
     "metadata": {},
     "output_type": "execute_result"
    }
   ],
   "source": [
    "ss.run(cost), ss.run(oo)"
   ]
  },
  {
   "cell_type": "code",
   "execution_count": 46,
   "metadata": {
    "collapsed": false
   },
   "outputs": [
    {
     "data": {
      "text/plain": [
       "[0.028823035, 0.57646066]"
      ]
     },
     "execution_count": 46,
     "metadata": {},
     "output_type": "execute_result"
    }
   ],
   "source": [
    "# execution with gradient descent! (looks ol)\n",
    "run(10, _skip_hyper_ts=True)\n",
    "\n",
    "ss.run(far.utils.hypergradients())"
   ]
  },
  {
   "cell_type": "code",
   "execution_count": 78,
   "metadata": {
    "collapsed": false
   },
   "outputs": [
    {
     "data": {
      "text/plain": [
       "[0.16000001, 3.2, 0.0]"
      ]
     },
     "execution_count": 78,
     "metadata": {},
     "output_type": "execute_result"
    }
   ],
   "source": [
    "run(1, _skip_hyper_ts=True)\n",
    "\n",
    "ss.run(far.utils.hypergradients())"
   ]
  },
  {
   "cell_type": "code",
   "execution_count": null,
   "metadata": {
    "collapsed": true
   },
   "outputs": [],
   "source": [
    "[0.023399413, 0.14039648, -0.023399413, 0.0, 2.0279489]"
   ]
  }
 ],
 "metadata": {
  "anaconda-cloud": {},
  "kernelspec": {
   "display_name": "Python [conda root]",
   "language": "python",
   "name": "conda-root-py"
  },
  "language_info": {
   "codemirror_mode": {
    "name": "ipython",
    "version": 3
   },
   "file_extension": ".py",
   "mimetype": "text/x-python",
   "name": "python",
   "nbconvert_exporter": "python",
   "pygments_lexer": "ipython3",
   "version": "3.5.3"
  }
 },
 "nbformat": 4,
 "nbformat_minor": 1
}
