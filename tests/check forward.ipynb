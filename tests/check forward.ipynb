{
 "cells": [
  {
   "cell_type": "code",
   "execution_count": 1,
   "metadata": {
    "collapsed": true
   },
   "outputs": [],
   "source": [
    "%load_ext autoreload\n",
    "%autoreload 2"
   ]
  },
  {
   "cell_type": "code",
   "execution_count": 15,
   "metadata": {
    "collapsed": true
   },
   "outputs": [],
   "source": [
    "import tensorflow as tf\n",
    "import numpy as np\n",
    "import experiment_manager as em\n",
    "import far_ho as far"
   ]
  },
  {
   "cell_type": "code",
   "execution_count": 16,
   "metadata": {},
   "outputs": [
    {
     "name": "stdout",
     "output_type": "stream",
     "text": [
      "4\n"
     ]
    }
   ],
   "source": [
    "far.utils._check()"
   ]
  },
  {
   "cell_type": "code",
   "execution_count": 17,
   "metadata": {
    "collapsed": true
   },
   "outputs": [],
   "source": [
    "try: ss.close()\n",
    "except: pass\n",
    "tf.reset_default_graph()\n",
    "ss = tf.InteractiveSession()\n",
    "v1 = tf.Variable([1.,3])\n",
    "\n",
    "v2 = tf.Variable([[-1., -2], [1., 0.]])"
   ]
  },
  {
   "cell_type": "code",
   "execution_count": 18,
   "metadata": {
    "collapsed": true
   },
   "outputs": [],
   "source": [
    "lmbd = far.get_hyperparameter('lambda', \n",
    "                              initializer=tf.ones_initializer,\n",
    "                             shape=v2.get_shape(), scalar=True)\n",
    "\n",
    "cost = tf.reduce_mean(v1**2) + tf.reduce_sum(lmbd*v2**2)\n",
    "\n",
    "_et = far.get_hyperparameter('eta', 0.1)\n",
    "io_optim = far.MomentumOptimizer(_et, \n",
    "                                   far.get_hyperparameter('mu', .9))\n",
    "\n",
    "io_optim_dict = io_optim.minimize(cost) \n",
    "\n",
    "oo = tf.reduce_mean(v1*v2)\n",
    "\n",
    "optim_oo = tf.train.AdamOptimizer(.01)"
   ]
  },
  {
   "cell_type": "code",
   "execution_count": 19,
   "metadata": {},
   "outputs": [
    {
     "data": {
      "text/plain": [
       "[<tf.Variable 'lambda_components/0_0:0' shape=() dtype=float32_ref>,\n",
       " <tf.Variable 'lambda_components/0_1:0' shape=() dtype=float32_ref>,\n",
       " <tf.Variable 'lambda_components/1_0:0' shape=() dtype=float32_ref>,\n",
       " <tf.Variable 'lambda_components/1_1:0' shape=() dtype=float32_ref>,\n",
       " <tf.Variable 'eta:0' shape=() dtype=float32_ref>,\n",
       " <tf.Variable 'mu:0' shape=() dtype=float32_ref>]"
      ]
     },
     "execution_count": 19,
     "metadata": {},
     "output_type": "execute_result"
    }
   ],
   "source": [
    "far.utils.hyperparameters()"
   ]
  },
  {
   "cell_type": "code",
   "execution_count": 20,
   "metadata": {},
   "outputs": [
    {
     "data": {
      "text/plain": [
       "[<tf.Variable 'Variable:0' shape=(2,) dtype=float32_ref>,\n",
       " <tf.Variable 'Variable/Momentum:0' shape=(2,) dtype=float32_ref>,\n",
       " <tf.Variable 'Variable_1:0' shape=(2, 2) dtype=float32_ref>,\n",
       " <tf.Variable 'Variable_1/Momentum:0' shape=(2, 2) dtype=float32_ref>]"
      ]
     },
     "execution_count": 20,
     "metadata": {},
     "output_type": "execute_result"
    }
   ],
   "source": [
    "io_optim_dict.state"
   ]
  },
  {
   "cell_type": "code",
   "execution_count": 21,
   "metadata": {},
   "outputs": [
    {
     "name": "stdout",
     "output_type": "stream",
     "text": [
      "[<tf.Tensor 'Mean_1_1/gradients/mul_5_grad/Reshape:0' shape=(2,) dtype=float32>, None, <tf.Tensor 'Mean_1_1/gradients/mul_5_grad/Reshape_1:0' shape=(2, 2) dtype=float32>, None]\n",
      "[<tf.Variable 'Mean_1/Z/Variable/eta:0' shape=(2,) dtype=float32_ref>, <tf.Variable 'Mean_1/Z/Variable/Momentum/eta:0' shape=(2,) dtype=float32_ref>, <tf.Variable 'Mean_1/Z/Variable_1/eta:0' shape=(2, 2) dtype=float32_ref>, <tf.Variable 'Mean_1/Z/Variable_1/Momentum/eta:0' shape=(2, 2) dtype=float32_ref>]\n",
      "[<tf.Tensor 'Mean_1_1/mul:0' shape=(2,) dtype=float32>, <tf.Tensor 'Mean_1_1/mul_1:0' shape=(2, 2) dtype=float32>]\n"
     ]
    },
    {
     "ename": "ValueError",
     "evalue": "Shapes must be equal rank, but are 1 and 2\n\tFrom merging shape 0 with other shapes. for 'Mean_1_1/Rank/packed' (op: 'Pack') with input shapes: [2], [2,2].",
     "output_type": "error",
     "traceback": [
      "\u001b[0;31m---------------------------------------------------------------------------\u001b[0m",
      "\u001b[0;31mInvalidArgumentError\u001b[0m                      Traceback (most recent call last)",
      "\u001b[0;32m~/anaconda3/lib/python3.5/site-packages/tensorflow/python/framework/common_shapes.py\u001b[0m in \u001b[0;36m_call_cpp_shape_fn_impl\u001b[0;34m(op, input_tensors_needed, input_tensors_as_shapes_needed, debug_python_shape_fn, require_shape_fn)\u001b[0m\n\u001b[1;32m    670\u001b[0m           \u001b[0mgraph_def_version\u001b[0m\u001b[0;34m,\u001b[0m \u001b[0mnode_def_str\u001b[0m\u001b[0;34m,\u001b[0m \u001b[0minput_shapes\u001b[0m\u001b[0;34m,\u001b[0m \u001b[0minput_tensors\u001b[0m\u001b[0;34m,\u001b[0m\u001b[0;34m\u001b[0m\u001b[0m\n\u001b[0;32m--> 671\u001b[0;31m           input_tensors_as_shapes, status)\n\u001b[0m\u001b[1;32m    672\u001b[0m   \u001b[0;32mexcept\u001b[0m \u001b[0merrors\u001b[0m\u001b[0;34m.\u001b[0m\u001b[0mInvalidArgumentError\u001b[0m \u001b[0;32mas\u001b[0m \u001b[0merr\u001b[0m\u001b[0;34m:\u001b[0m\u001b[0;34m\u001b[0m\u001b[0m\n",
      "\u001b[0;32m~/anaconda3/lib/python3.5/contextlib.py\u001b[0m in \u001b[0;36m__exit__\u001b[0;34m(self, type, value, traceback)\u001b[0m\n\u001b[1;32m     65\u001b[0m             \u001b[0;32mtry\u001b[0m\u001b[0;34m:\u001b[0m\u001b[0;34m\u001b[0m\u001b[0m\n\u001b[0;32m---> 66\u001b[0;31m                 \u001b[0mnext\u001b[0m\u001b[0;34m(\u001b[0m\u001b[0mself\u001b[0m\u001b[0;34m.\u001b[0m\u001b[0mgen\u001b[0m\u001b[0;34m)\u001b[0m\u001b[0;34m\u001b[0m\u001b[0m\n\u001b[0m\u001b[1;32m     67\u001b[0m             \u001b[0;32mexcept\u001b[0m \u001b[0mStopIteration\u001b[0m\u001b[0;34m:\u001b[0m\u001b[0;34m\u001b[0m\u001b[0m\n",
      "\u001b[0;32m~/anaconda3/lib/python3.5/site-packages/tensorflow/python/framework/errors_impl.py\u001b[0m in \u001b[0;36mraise_exception_on_not_ok_status\u001b[0;34m()\u001b[0m\n\u001b[1;32m    465\u001b[0m           \u001b[0mcompat\u001b[0m\u001b[0;34m.\u001b[0m\u001b[0mas_text\u001b[0m\u001b[0;34m(\u001b[0m\u001b[0mpywrap_tensorflow\u001b[0m\u001b[0;34m.\u001b[0m\u001b[0mTF_Message\u001b[0m\u001b[0;34m(\u001b[0m\u001b[0mstatus\u001b[0m\u001b[0;34m)\u001b[0m\u001b[0;34m)\u001b[0m\u001b[0;34m,\u001b[0m\u001b[0;34m\u001b[0m\u001b[0m\n\u001b[0;32m--> 466\u001b[0;31m           pywrap_tensorflow.TF_GetCode(status))\n\u001b[0m\u001b[1;32m    467\u001b[0m   \u001b[0;32mfinally\u001b[0m\u001b[0;34m:\u001b[0m\u001b[0;34m\u001b[0m\u001b[0m\n",
      "\u001b[0;31mInvalidArgumentError\u001b[0m: Shapes must be equal rank, but are 1 and 2\n\tFrom merging shape 0 with other shapes. for 'Mean_1_1/Rank/packed' (op: 'Pack') with input shapes: [2], [2,2].",
      "\nDuring handling of the above exception, another exception occurred:\n",
      "\u001b[0;31mValueError\u001b[0m                                Traceback (most recent call last)",
      "\u001b[0;32m<ipython-input-21-7206130395f6>\u001b[0m in \u001b[0;36m<module>\u001b[0;34m()\u001b[0m\n\u001b[1;32m      1\u001b[0m \u001b[0mfarho\u001b[0m \u001b[0;34m=\u001b[0m \u001b[0mfar\u001b[0m\u001b[0;34m.\u001b[0m\u001b[0mHyperOptimizer\u001b[0m\u001b[0;34m(\u001b[0m\u001b[0mhypergradient\u001b[0m\u001b[0;34m=\u001b[0m\u001b[0mfar\u001b[0m\u001b[0;34m.\u001b[0m\u001b[0mForwardHG\u001b[0m\u001b[0;34m(\u001b[0m\u001b[0;34m)\u001b[0m\u001b[0;34m)\u001b[0m\u001b[0;34m\u001b[0m\u001b[0m\n\u001b[0;32m----> 2\u001b[0;31m \u001b[0mrun\u001b[0m \u001b[0;34m=\u001b[0m \u001b[0mfarho\u001b[0m\u001b[0;34m.\u001b[0m\u001b[0mminimize\u001b[0m\u001b[0;34m(\u001b[0m\u001b[0moo\u001b[0m\u001b[0;34m,\u001b[0m \u001b[0moptim_oo\u001b[0m\u001b[0;34m,\u001b[0m \u001b[0mcost\u001b[0m\u001b[0;34m,\u001b[0m \u001b[0mio_optim\u001b[0m\u001b[0;34m,\u001b[0m \u001b[0mhyper_list\u001b[0m\u001b[0;34m=\u001b[0m\u001b[0;34m[\u001b[0m\u001b[0m_et\u001b[0m\u001b[0;34m]\u001b[0m\u001b[0;34m)\u001b[0m\u001b[0;34m\u001b[0m\u001b[0m\n\u001b[0m",
      "\u001b[0;32m~/anaconda3/lib/python3.5/site-packages/far_ho/hyperparameters.py\u001b[0m in \u001b[0;36mminimize\u001b[0;34m(self, outer_objective, outer_objective_optimizer, inner_objective, inner_objective_optimizer, hyper_list, var_list, init_dynamics_dict, global_step, aggregation_fn, process_fn)\u001b[0m\n\u001b[1;32m    121\u001b[0m         \"\"\"\n\u001b[1;32m    122\u001b[0m         \u001b[0moptim_dict\u001b[0m \u001b[0;34m=\u001b[0m \u001b[0mself\u001b[0m\u001b[0;34m.\u001b[0m\u001b[0mset_dynamics\u001b[0m\u001b[0;34m(\u001b[0m\u001b[0minner_objective\u001b[0m\u001b[0;34m,\u001b[0m \u001b[0minner_objective_optimizer\u001b[0m\u001b[0;34m,\u001b[0m \u001b[0mvar_list\u001b[0m\u001b[0;34m,\u001b[0m \u001b[0minit_dynamics_dict\u001b[0m\u001b[0;34m)\u001b[0m\u001b[0;34m\u001b[0m\u001b[0m\n\u001b[0;32m--> 123\u001b[0;31m         \u001b[0mself\u001b[0m\u001b[0;34m.\u001b[0m\u001b[0mset_problem\u001b[0m\u001b[0;34m(\u001b[0m\u001b[0mouter_objective\u001b[0m\u001b[0;34m,\u001b[0m \u001b[0moptim_dict\u001b[0m\u001b[0;34m,\u001b[0m \u001b[0mouter_objective_optimizer\u001b[0m\u001b[0;34m,\u001b[0m \u001b[0mhyper_list\u001b[0m\u001b[0;34m,\u001b[0m \u001b[0mglobal_step\u001b[0m\u001b[0;34m)\u001b[0m\u001b[0;34m\u001b[0m\u001b[0m\n\u001b[0m\u001b[1;32m    124\u001b[0m         \u001b[0;32mreturn\u001b[0m \u001b[0mself\u001b[0m\u001b[0;34m.\u001b[0m\u001b[0mfinalize\u001b[0m\u001b[0;34m(\u001b[0m\u001b[0maggregation_fn\u001b[0m\u001b[0;34m=\u001b[0m\u001b[0maggregation_fn\u001b[0m\u001b[0;34m,\u001b[0m \u001b[0mprocess_fn\u001b[0m\u001b[0;34m=\u001b[0m\u001b[0mprocess_fn\u001b[0m\u001b[0;34m)\u001b[0m\u001b[0;34m\u001b[0m\u001b[0m\n\u001b[1;32m    125\u001b[0m \u001b[0;34m\u001b[0m\u001b[0m\n",
      "\u001b[0;32m~/anaconda3/lib/python3.5/site-packages/far_ho/hyperparameters.py\u001b[0m in \u001b[0;36mset_problem\u001b[0;34m(self, outer_objective, optim_dict, outer_objective_optimizer, hyper_list, global_step)\u001b[0m\n\u001b[1;32m    106\u001b[0m         \u001b[0;34m:\u001b[0m\u001b[0;32mreturn\u001b[0m\u001b[0;34m:\u001b[0m \u001b[0mitself\u001b[0m\u001b[0;34m\u001b[0m\u001b[0m\n\u001b[1;32m    107\u001b[0m         \"\"\"\n\u001b[0;32m--> 108\u001b[0;31m         \u001b[0mhyper_list\u001b[0m \u001b[0;34m=\u001b[0m \u001b[0mself\u001b[0m\u001b[0;34m.\u001b[0m\u001b[0m_hypergradient\u001b[0m\u001b[0;34m.\u001b[0m\u001b[0mcompute_gradients\u001b[0m\u001b[0;34m(\u001b[0m\u001b[0mouter_objective\u001b[0m\u001b[0;34m,\u001b[0m \u001b[0moptim_dict\u001b[0m\u001b[0;34m,\u001b[0m \u001b[0mhyper_list\u001b[0m\u001b[0;34m=\u001b[0m\u001b[0mhyper_list\u001b[0m\u001b[0;34m)\u001b[0m\u001b[0;34m\u001b[0m\u001b[0m\n\u001b[0m\u001b[1;32m    109\u001b[0m         \u001b[0mself\u001b[0m\u001b[0;34m.\u001b[0m\u001b[0m_h_optim_dict\u001b[0m\u001b[0;34m[\u001b[0m\u001b[0mouter_objective_optimizer\u001b[0m\u001b[0;34m]\u001b[0m\u001b[0;34m.\u001b[0m\u001b[0mupdate\u001b[0m\u001b[0;34m(\u001b[0m\u001b[0mhyper_list\u001b[0m\u001b[0;34m)\u001b[0m\u001b[0;34m\u001b[0m\u001b[0m\n\u001b[1;32m    110\u001b[0m         \u001b[0mself\u001b[0m\u001b[0;34m.\u001b[0m\u001b[0m_global_step\u001b[0m \u001b[0;34m=\u001b[0m \u001b[0mglobal_step\u001b[0m\u001b[0;34m\u001b[0m\u001b[0m\n",
      "\u001b[0;32m~/anaconda3/lib/python3.5/site-packages/far_ho/hypergradients.py\u001b[0m in \u001b[0;36mcompute_gradients\u001b[0;34m(self, outer_objective, optimizer_dict, hyper_list)\u001b[0m\n\u001b[1;32m    313\u001b[0m                          if d_oo_d_s is not None and z is not None]\n\u001b[1;32m    314\u001b[0m                 \u001b[0mprint\u001b[0m\u001b[0;34m(\u001b[0m\u001b[0md_E_T\u001b[0m\u001b[0;34m)\u001b[0m\u001b[0;34m\u001b[0m\u001b[0m\n\u001b[0;32m--> 315\u001b[0;31m                 \u001b[0mhg\u001b[0m \u001b[0;34m=\u001b[0m \u001b[0mmaybe_add\u001b[0m\u001b[0;34m(\u001b[0m\u001b[0mtf\u001b[0m\u001b[0;34m.\u001b[0m\u001b[0mreduce_sum\u001b[0m\u001b[0;34m(\u001b[0m\u001b[0md_E_T\u001b[0m\u001b[0;34m)\u001b[0m\u001b[0;34m,\u001b[0m \u001b[0md_oo_d_hyp\u001b[0m\u001b[0;34m)\u001b[0m\u001b[0;34m\u001b[0m\u001b[0m\n\u001b[0m\u001b[1;32m    316\u001b[0m \u001b[0;34m\u001b[0m\u001b[0m\n\u001b[1;32m    317\u001b[0m                 \u001b[0mself\u001b[0m\u001b[0;34m.\u001b[0m\u001b[0m_hypergrad_dictionary\u001b[0m\u001b[0;34m[\u001b[0m\u001b[0mhyp\u001b[0m\u001b[0;34m]\u001b[0m\u001b[0;34m.\u001b[0m\u001b[0mappend\u001b[0m\u001b[0;34m(\u001b[0m\u001b[0mhg\u001b[0m\u001b[0;34m)\u001b[0m\u001b[0;34m\u001b[0m\u001b[0m\n",
      "\u001b[0;32m~/anaconda3/lib/python3.5/site-packages/tensorflow/python/ops/math_ops.py\u001b[0m in \u001b[0;36mreduce_sum\u001b[0;34m(input_tensor, axis, keep_dims, name, reduction_indices)\u001b[0m\n\u001b[1;32m   1247\u001b[0m   return gen_math_ops._sum(\n\u001b[1;32m   1248\u001b[0m       \u001b[0minput_tensor\u001b[0m\u001b[0;34m,\u001b[0m\u001b[0;34m\u001b[0m\u001b[0m\n\u001b[0;32m-> 1249\u001b[0;31m       \u001b[0m_ReductionDims\u001b[0m\u001b[0;34m(\u001b[0m\u001b[0minput_tensor\u001b[0m\u001b[0;34m,\u001b[0m \u001b[0maxis\u001b[0m\u001b[0;34m,\u001b[0m \u001b[0mreduction_indices\u001b[0m\u001b[0;34m)\u001b[0m\u001b[0;34m,\u001b[0m\u001b[0;34m\u001b[0m\u001b[0m\n\u001b[0m\u001b[1;32m   1250\u001b[0m       \u001b[0mkeep_dims\u001b[0m\u001b[0;34m,\u001b[0m\u001b[0;34m\u001b[0m\u001b[0m\n\u001b[1;32m   1251\u001b[0m       name=name)\n",
      "\u001b[0;32m~/anaconda3/lib/python3.5/site-packages/tensorflow/python/ops/math_ops.py\u001b[0m in \u001b[0;36m_ReductionDims\u001b[0;34m(x, axis, reduction_indices)\u001b[0m\n\u001b[1;32m   1200\u001b[0m \u001b[0;34m\u001b[0m\u001b[0m\n\u001b[1;32m   1201\u001b[0m     \u001b[0;31m# Otherwise, we rely on Range and Rank to do the right thing at run-time.\u001b[0m\u001b[0;34m\u001b[0m\u001b[0;34m\u001b[0m\u001b[0m\n\u001b[0;32m-> 1202\u001b[0;31m     \u001b[0;32mreturn\u001b[0m \u001b[0mrange\u001b[0m\u001b[0;34m(\u001b[0m\u001b[0;36m0\u001b[0m\u001b[0;34m,\u001b[0m \u001b[0marray_ops\u001b[0m\u001b[0;34m.\u001b[0m\u001b[0mrank\u001b[0m\u001b[0;34m(\u001b[0m\u001b[0mx\u001b[0m\u001b[0;34m)\u001b[0m\u001b[0;34m)\u001b[0m\u001b[0;34m\u001b[0m\u001b[0m\n\u001b[0m\u001b[1;32m   1203\u001b[0m \u001b[0;34m\u001b[0m\u001b[0m\n\u001b[1;32m   1204\u001b[0m \u001b[0;34m\u001b[0m\u001b[0m\n",
      "\u001b[0;32m~/anaconda3/lib/python3.5/site-packages/tensorflow/python/ops/array_ops.py\u001b[0m in \u001b[0;36mrank\u001b[0;34m(input, name)\u001b[0m\n\u001b[1;32m    354\u001b[0m   \u001b[0;34m@\u001b[0m\u001b[0mend_compatibility\u001b[0m\u001b[0;34m\u001b[0m\u001b[0m\n\u001b[1;32m    355\u001b[0m   \"\"\"\n\u001b[0;32m--> 356\u001b[0;31m   \u001b[0;32mreturn\u001b[0m \u001b[0mrank_internal\u001b[0m\u001b[0;34m(\u001b[0m\u001b[0minput\u001b[0m\u001b[0;34m,\u001b[0m \u001b[0mname\u001b[0m\u001b[0;34m,\u001b[0m \u001b[0moptimize\u001b[0m\u001b[0;34m=\u001b[0m\u001b[0;32mTrue\u001b[0m\u001b[0;34m)\u001b[0m\u001b[0;34m\u001b[0m\u001b[0m\n\u001b[0m\u001b[1;32m    357\u001b[0m \u001b[0;34m\u001b[0m\u001b[0m\n\u001b[1;32m    358\u001b[0m \u001b[0;34m\u001b[0m\u001b[0m\n",
      "\u001b[0;32m~/anaconda3/lib/python3.5/site-packages/tensorflow/python/ops/array_ops.py\u001b[0m in \u001b[0;36mrank_internal\u001b[0;34m(input, name, optimize)\u001b[0m\n\u001b[1;32m    374\u001b[0m       \u001b[0;32mreturn\u001b[0m \u001b[0mgen_array_ops\u001b[0m\u001b[0;34m.\u001b[0m\u001b[0msize\u001b[0m\u001b[0;34m(\u001b[0m\u001b[0minput\u001b[0m\u001b[0;34m.\u001b[0m\u001b[0mdense_shape\u001b[0m\u001b[0;34m,\u001b[0m \u001b[0mname\u001b[0m\u001b[0;34m=\u001b[0m\u001b[0mname\u001b[0m\u001b[0;34m)\u001b[0m\u001b[0;34m\u001b[0m\u001b[0m\n\u001b[1;32m    375\u001b[0m     \u001b[0;32melse\u001b[0m\u001b[0;34m:\u001b[0m\u001b[0;34m\u001b[0m\u001b[0m\n\u001b[0;32m--> 376\u001b[0;31m       \u001b[0minput_tensor\u001b[0m \u001b[0;34m=\u001b[0m \u001b[0mops\u001b[0m\u001b[0;34m.\u001b[0m\u001b[0mconvert_to_tensor\u001b[0m\u001b[0;34m(\u001b[0m\u001b[0minput\u001b[0m\u001b[0;34m)\u001b[0m\u001b[0;34m\u001b[0m\u001b[0m\n\u001b[0m\u001b[1;32m    377\u001b[0m       \u001b[0minput_shape\u001b[0m \u001b[0;34m=\u001b[0m \u001b[0minput_tensor\u001b[0m\u001b[0;34m.\u001b[0m\u001b[0mget_shape\u001b[0m\u001b[0;34m(\u001b[0m\u001b[0;34m)\u001b[0m\u001b[0;34m\u001b[0m\u001b[0m\n\u001b[1;32m    378\u001b[0m       \u001b[0;32mif\u001b[0m \u001b[0moptimize\u001b[0m \u001b[0;32mand\u001b[0m \u001b[0minput_shape\u001b[0m\u001b[0;34m.\u001b[0m\u001b[0mndims\u001b[0m \u001b[0;32mis\u001b[0m \u001b[0;32mnot\u001b[0m \u001b[0;32mNone\u001b[0m\u001b[0;34m:\u001b[0m\u001b[0;34m\u001b[0m\u001b[0m\n",
      "\u001b[0;32m~/anaconda3/lib/python3.5/site-packages/tensorflow/python/framework/ops.py\u001b[0m in \u001b[0;36mconvert_to_tensor\u001b[0;34m(value, dtype, name, preferred_dtype)\u001b[0m\n\u001b[1;32m    674\u001b[0m       \u001b[0mname\u001b[0m\u001b[0;34m=\u001b[0m\u001b[0mname\u001b[0m\u001b[0;34m,\u001b[0m\u001b[0;34m\u001b[0m\u001b[0m\n\u001b[1;32m    675\u001b[0m       \u001b[0mpreferred_dtype\u001b[0m\u001b[0;34m=\u001b[0m\u001b[0mpreferred_dtype\u001b[0m\u001b[0;34m,\u001b[0m\u001b[0;34m\u001b[0m\u001b[0m\n\u001b[0;32m--> 676\u001b[0;31m       as_ref=False)\n\u001b[0m\u001b[1;32m    677\u001b[0m \u001b[0;34m\u001b[0m\u001b[0m\n\u001b[1;32m    678\u001b[0m \u001b[0;34m\u001b[0m\u001b[0m\n",
      "\u001b[0;32m~/anaconda3/lib/python3.5/site-packages/tensorflow/python/framework/ops.py\u001b[0m in \u001b[0;36minternal_convert_to_tensor\u001b[0;34m(value, dtype, name, as_ref, preferred_dtype)\u001b[0m\n\u001b[1;32m    739\u001b[0m \u001b[0;34m\u001b[0m\u001b[0m\n\u001b[1;32m    740\u001b[0m         \u001b[0;32mif\u001b[0m \u001b[0mret\u001b[0m \u001b[0;32mis\u001b[0m \u001b[0;32mNone\u001b[0m\u001b[0;34m:\u001b[0m\u001b[0;34m\u001b[0m\u001b[0m\n\u001b[0;32m--> 741\u001b[0;31m           \u001b[0mret\u001b[0m \u001b[0;34m=\u001b[0m \u001b[0mconversion_func\u001b[0m\u001b[0;34m(\u001b[0m\u001b[0mvalue\u001b[0m\u001b[0;34m,\u001b[0m \u001b[0mdtype\u001b[0m\u001b[0;34m=\u001b[0m\u001b[0mdtype\u001b[0m\u001b[0;34m,\u001b[0m \u001b[0mname\u001b[0m\u001b[0;34m=\u001b[0m\u001b[0mname\u001b[0m\u001b[0;34m,\u001b[0m \u001b[0mas_ref\u001b[0m\u001b[0;34m=\u001b[0m\u001b[0mas_ref\u001b[0m\u001b[0;34m)\u001b[0m\u001b[0;34m\u001b[0m\u001b[0m\n\u001b[0m\u001b[1;32m    742\u001b[0m \u001b[0;34m\u001b[0m\u001b[0m\n\u001b[1;32m    743\u001b[0m         \u001b[0;32mif\u001b[0m \u001b[0mret\u001b[0m \u001b[0;32mis\u001b[0m \u001b[0mNotImplemented\u001b[0m\u001b[0;34m:\u001b[0m\u001b[0;34m\u001b[0m\u001b[0m\n",
      "\u001b[0;32m~/anaconda3/lib/python3.5/site-packages/tensorflow/python/ops/array_ops.py\u001b[0m in \u001b[0;36m_autopacking_conversion_function\u001b[0;34m(v, dtype, name, as_ref)\u001b[0m\n\u001b[1;32m    917\u001b[0m   \u001b[0;32mif\u001b[0m \u001b[0mdtype\u001b[0m \u001b[0;32mis\u001b[0m \u001b[0;32mnot\u001b[0m \u001b[0;32mNone\u001b[0m \u001b[0;32mand\u001b[0m \u001b[0mdtype\u001b[0m \u001b[0;34m!=\u001b[0m \u001b[0minferred_dtype\u001b[0m\u001b[0;34m:\u001b[0m\u001b[0;34m\u001b[0m\u001b[0m\n\u001b[1;32m    918\u001b[0m     \u001b[0;32mreturn\u001b[0m \u001b[0mNotImplemented\u001b[0m\u001b[0;34m\u001b[0m\u001b[0m\n\u001b[0;32m--> 919\u001b[0;31m   \u001b[0;32mreturn\u001b[0m \u001b[0m_autopacking_helper\u001b[0m\u001b[0;34m(\u001b[0m\u001b[0mv\u001b[0m\u001b[0;34m,\u001b[0m \u001b[0minferred_dtype\u001b[0m\u001b[0;34m,\u001b[0m \u001b[0mname\u001b[0m \u001b[0;32mor\u001b[0m \u001b[0;34m\"packed\"\u001b[0m\u001b[0;34m)\u001b[0m\u001b[0;34m\u001b[0m\u001b[0m\n\u001b[0m\u001b[1;32m    920\u001b[0m \u001b[0;31m# pylint: enable=invalid-name\u001b[0m\u001b[0;34m\u001b[0m\u001b[0;34m\u001b[0m\u001b[0m\n\u001b[1;32m    921\u001b[0m \u001b[0;34m\u001b[0m\u001b[0m\n",
      "\u001b[0;32m~/anaconda3/lib/python3.5/site-packages/tensorflow/python/ops/array_ops.py\u001b[0m in \u001b[0;36m_autopacking_helper\u001b[0;34m(list_or_tuple, dtype, name)\u001b[0m\n\u001b[1;32m    880\u001b[0m           elems_as_tensors.append(\n\u001b[1;32m    881\u001b[0m               constant_op.constant(elem, dtype=dtype, name=str(i)))\n\u001b[0;32m--> 882\u001b[0;31m       \u001b[0;32mreturn\u001b[0m \u001b[0mgen_array_ops\u001b[0m\u001b[0;34m.\u001b[0m\u001b[0m_pack\u001b[0m\u001b[0;34m(\u001b[0m\u001b[0melems_as_tensors\u001b[0m\u001b[0;34m,\u001b[0m \u001b[0mname\u001b[0m\u001b[0;34m=\u001b[0m\u001b[0mscope\u001b[0m\u001b[0;34m)\u001b[0m\u001b[0;34m\u001b[0m\u001b[0m\n\u001b[0m\u001b[1;32m    883\u001b[0m     \u001b[0;32melse\u001b[0m\u001b[0;34m:\u001b[0m\u001b[0;34m\u001b[0m\u001b[0m\n\u001b[1;32m    884\u001b[0m       \u001b[0;32mreturn\u001b[0m \u001b[0mconverted_elems\u001b[0m\u001b[0;34m\u001b[0m\u001b[0m\n",
      "\u001b[0;32m~/anaconda3/lib/python3.5/site-packages/tensorflow/python/ops/gen_array_ops.py\u001b[0m in \u001b[0;36m_pack\u001b[0;34m(values, axis, name)\u001b[0m\n\u001b[1;32m   1850\u001b[0m     \u001b[0mA\u001b[0m\u001b[0;31m \u001b[0m\u001b[0;31m`\u001b[0m\u001b[0mTensor\u001b[0m\u001b[0;31m`\u001b[0m\u001b[0;34m.\u001b[0m \u001b[0mHas\u001b[0m \u001b[0mthe\u001b[0m \u001b[0msame\u001b[0m \u001b[0mtype\u001b[0m \u001b[0;32mas\u001b[0m\u001b[0;31m \u001b[0m\u001b[0;31m`\u001b[0m\u001b[0mvalues\u001b[0m\u001b[0;31m`\u001b[0m\u001b[0;34m.\u001b[0m \u001b[0mThe\u001b[0m \u001b[0mpacked\u001b[0m \u001b[0mtensor\u001b[0m\u001b[0;34m.\u001b[0m\u001b[0;34m\u001b[0m\u001b[0m\n\u001b[1;32m   1851\u001b[0m   \"\"\"\n\u001b[0;32m-> 1852\u001b[0;31m   \u001b[0mresult\u001b[0m \u001b[0;34m=\u001b[0m \u001b[0m_op_def_lib\u001b[0m\u001b[0;34m.\u001b[0m\u001b[0mapply_op\u001b[0m\u001b[0;34m(\u001b[0m\u001b[0;34m\"Pack\"\u001b[0m\u001b[0;34m,\u001b[0m \u001b[0mvalues\u001b[0m\u001b[0;34m=\u001b[0m\u001b[0mvalues\u001b[0m\u001b[0;34m,\u001b[0m \u001b[0maxis\u001b[0m\u001b[0;34m=\u001b[0m\u001b[0maxis\u001b[0m\u001b[0;34m,\u001b[0m \u001b[0mname\u001b[0m\u001b[0;34m=\u001b[0m\u001b[0mname\u001b[0m\u001b[0;34m)\u001b[0m\u001b[0;34m\u001b[0m\u001b[0m\n\u001b[0m\u001b[1;32m   1853\u001b[0m   \u001b[0;32mreturn\u001b[0m \u001b[0mresult\u001b[0m\u001b[0;34m\u001b[0m\u001b[0m\n\u001b[1;32m   1854\u001b[0m \u001b[0;34m\u001b[0m\u001b[0m\n",
      "\u001b[0;32m~/anaconda3/lib/python3.5/site-packages/tensorflow/python/framework/op_def_library.py\u001b[0m in \u001b[0;36mapply_op\u001b[0;34m(self, op_type_name, name, **keywords)\u001b[0m\n\u001b[1;32m    765\u001b[0m         op = g.create_op(op_type_name, inputs, output_types, name=scope,\n\u001b[1;32m    766\u001b[0m                          \u001b[0minput_types\u001b[0m\u001b[0;34m=\u001b[0m\u001b[0minput_types\u001b[0m\u001b[0;34m,\u001b[0m \u001b[0mattrs\u001b[0m\u001b[0;34m=\u001b[0m\u001b[0mattr_protos\u001b[0m\u001b[0;34m,\u001b[0m\u001b[0;34m\u001b[0m\u001b[0m\n\u001b[0;32m--> 767\u001b[0;31m                          op_def=op_def)\n\u001b[0m\u001b[1;32m    768\u001b[0m         \u001b[0;32mif\u001b[0m \u001b[0moutput_structure\u001b[0m\u001b[0;34m:\u001b[0m\u001b[0;34m\u001b[0m\u001b[0m\n\u001b[1;32m    769\u001b[0m           \u001b[0moutputs\u001b[0m \u001b[0;34m=\u001b[0m \u001b[0mop\u001b[0m\u001b[0;34m.\u001b[0m\u001b[0moutputs\u001b[0m\u001b[0;34m\u001b[0m\u001b[0m\n",
      "\u001b[0;32m~/anaconda3/lib/python3.5/site-packages/tensorflow/python/framework/ops.py\u001b[0m in \u001b[0;36mcreate_op\u001b[0;34m(self, op_type, inputs, dtypes, input_types, name, attrs, op_def, compute_shapes, compute_device)\u001b[0m\n\u001b[1;32m   2506\u001b[0m                     original_op=self._default_original_op, op_def=op_def)\n\u001b[1;32m   2507\u001b[0m     \u001b[0;32mif\u001b[0m \u001b[0mcompute_shapes\u001b[0m\u001b[0;34m:\u001b[0m\u001b[0;34m\u001b[0m\u001b[0m\n\u001b[0;32m-> 2508\u001b[0;31m       \u001b[0mset_shapes_for_outputs\u001b[0m\u001b[0;34m(\u001b[0m\u001b[0mret\u001b[0m\u001b[0;34m)\u001b[0m\u001b[0;34m\u001b[0m\u001b[0m\n\u001b[0m\u001b[1;32m   2509\u001b[0m     \u001b[0mself\u001b[0m\u001b[0;34m.\u001b[0m\u001b[0m_add_op\u001b[0m\u001b[0;34m(\u001b[0m\u001b[0mret\u001b[0m\u001b[0;34m)\u001b[0m\u001b[0;34m\u001b[0m\u001b[0m\n\u001b[1;32m   2510\u001b[0m     \u001b[0mself\u001b[0m\u001b[0;34m.\u001b[0m\u001b[0m_record_op_seen_by_control_dependencies\u001b[0m\u001b[0;34m(\u001b[0m\u001b[0mret\u001b[0m\u001b[0;34m)\u001b[0m\u001b[0;34m\u001b[0m\u001b[0m\n",
      "\u001b[0;32m~/anaconda3/lib/python3.5/site-packages/tensorflow/python/framework/ops.py\u001b[0m in \u001b[0;36mset_shapes_for_outputs\u001b[0;34m(op)\u001b[0m\n\u001b[1;32m   1871\u001b[0m       \u001b[0mshape_func\u001b[0m \u001b[0;34m=\u001b[0m \u001b[0m_call_cpp_shape_fn_and_require_op\u001b[0m\u001b[0;34m\u001b[0m\u001b[0m\n\u001b[1;32m   1872\u001b[0m \u001b[0;34m\u001b[0m\u001b[0m\n\u001b[0;32m-> 1873\u001b[0;31m   \u001b[0mshapes\u001b[0m \u001b[0;34m=\u001b[0m \u001b[0mshape_func\u001b[0m\u001b[0;34m(\u001b[0m\u001b[0mop\u001b[0m\u001b[0;34m)\u001b[0m\u001b[0;34m\u001b[0m\u001b[0m\n\u001b[0m\u001b[1;32m   1874\u001b[0m   \u001b[0;32mif\u001b[0m \u001b[0mshapes\u001b[0m \u001b[0;32mis\u001b[0m \u001b[0;32mNone\u001b[0m\u001b[0;34m:\u001b[0m\u001b[0;34m\u001b[0m\u001b[0m\n\u001b[1;32m   1875\u001b[0m     raise RuntimeError(\n",
      "\u001b[0;32m~/anaconda3/lib/python3.5/site-packages/tensorflow/python/framework/ops.py\u001b[0m in \u001b[0;36mcall_with_requiring\u001b[0;34m(op)\u001b[0m\n\u001b[1;32m   1821\u001b[0m \u001b[0;34m\u001b[0m\u001b[0m\n\u001b[1;32m   1822\u001b[0m   \u001b[0;32mdef\u001b[0m \u001b[0mcall_with_requiring\u001b[0m\u001b[0;34m(\u001b[0m\u001b[0mop\u001b[0m\u001b[0;34m)\u001b[0m\u001b[0;34m:\u001b[0m\u001b[0;34m\u001b[0m\u001b[0m\n\u001b[0;32m-> 1823\u001b[0;31m     \u001b[0;32mreturn\u001b[0m \u001b[0mcall_cpp_shape_fn\u001b[0m\u001b[0;34m(\u001b[0m\u001b[0mop\u001b[0m\u001b[0;34m,\u001b[0m \u001b[0mrequire_shape_fn\u001b[0m\u001b[0;34m=\u001b[0m\u001b[0;32mTrue\u001b[0m\u001b[0;34m)\u001b[0m\u001b[0;34m\u001b[0m\u001b[0m\n\u001b[0m\u001b[1;32m   1824\u001b[0m \u001b[0;34m\u001b[0m\u001b[0m\n\u001b[1;32m   1825\u001b[0m   \u001b[0m_call_cpp_shape_fn_and_require_op\u001b[0m \u001b[0;34m=\u001b[0m \u001b[0mcall_with_requiring\u001b[0m\u001b[0;34m\u001b[0m\u001b[0m\n",
      "\u001b[0;32m~/anaconda3/lib/python3.5/site-packages/tensorflow/python/framework/common_shapes.py\u001b[0m in \u001b[0;36mcall_cpp_shape_fn\u001b[0;34m(op, input_tensors_needed, input_tensors_as_shapes_needed, debug_python_shape_fn, require_shape_fn)\u001b[0m\n\u001b[1;32m    608\u001b[0m     res = _call_cpp_shape_fn_impl(op, input_tensors_needed,\n\u001b[1;32m    609\u001b[0m                                   \u001b[0minput_tensors_as_shapes_needed\u001b[0m\u001b[0;34m,\u001b[0m\u001b[0;34m\u001b[0m\u001b[0m\n\u001b[0;32m--> 610\u001b[0;31m                                   debug_python_shape_fn, require_shape_fn)\n\u001b[0m\u001b[1;32m    611\u001b[0m     \u001b[0;32mif\u001b[0m \u001b[0;32mnot\u001b[0m \u001b[0misinstance\u001b[0m\u001b[0;34m(\u001b[0m\u001b[0mres\u001b[0m\u001b[0;34m,\u001b[0m \u001b[0mdict\u001b[0m\u001b[0;34m)\u001b[0m\u001b[0;34m:\u001b[0m\u001b[0;34m\u001b[0m\u001b[0m\n\u001b[1;32m    612\u001b[0m       \u001b[0;31m# Handles the case where _call_cpp_shape_fn_impl calls unknown_shape(op).\u001b[0m\u001b[0;34m\u001b[0m\u001b[0;34m\u001b[0m\u001b[0m\n",
      "\u001b[0;32m~/anaconda3/lib/python3.5/site-packages/tensorflow/python/framework/common_shapes.py\u001b[0m in \u001b[0;36m_call_cpp_shape_fn_impl\u001b[0;34m(op, input_tensors_needed, input_tensors_as_shapes_needed, debug_python_shape_fn, require_shape_fn)\u001b[0m\n\u001b[1;32m    674\u001b[0m       \u001b[0mmissing_shape_fn\u001b[0m \u001b[0;34m=\u001b[0m \u001b[0;32mTrue\u001b[0m\u001b[0;34m\u001b[0m\u001b[0m\n\u001b[1;32m    675\u001b[0m     \u001b[0;32melse\u001b[0m\u001b[0;34m:\u001b[0m\u001b[0;34m\u001b[0m\u001b[0m\n\u001b[0;32m--> 676\u001b[0;31m       \u001b[0;32mraise\u001b[0m \u001b[0mValueError\u001b[0m\u001b[0;34m(\u001b[0m\u001b[0merr\u001b[0m\u001b[0;34m.\u001b[0m\u001b[0mmessage\u001b[0m\u001b[0;34m)\u001b[0m\u001b[0;34m\u001b[0m\u001b[0m\n\u001b[0m\u001b[1;32m    677\u001b[0m \u001b[0;34m\u001b[0m\u001b[0m\n\u001b[1;32m    678\u001b[0m   \u001b[0;32mif\u001b[0m \u001b[0mmissing_shape_fn\u001b[0m\u001b[0;34m:\u001b[0m\u001b[0;34m\u001b[0m\u001b[0m\n",
      "\u001b[0;31mValueError\u001b[0m: Shapes must be equal rank, but are 1 and 2\n\tFrom merging shape 0 with other shapes. for 'Mean_1_1/Rank/packed' (op: 'Pack') with input shapes: [2], [2,2]."
     ]
    }
   ],
   "source": [
    "farho = far.HyperOptimizer(hypergradient=far.ForwardHG())\n",
    "run = farho.minimize(oo, optim_oo, cost, io_optim, hyper_list=[_et])"
   ]
  },
  {
   "cell_type": "code",
   "execution_count": null,
   "metadata": {
    "collapsed": true
   },
   "outputs": [],
   "source": [
    "farho."
   ]
  },
  {
   "cell_type": "code",
   "execution_count": 147,
   "metadata": {
    "collapsed": true
   },
   "outputs": [],
   "source": [
    "only_dy = [v[1] for v in io_optim_dict.dynamics]"
   ]
  },
  {
   "cell_type": "code",
   "execution_count": 148,
   "metadata": {
    "collapsed": true
   },
   "outputs": [],
   "source": [
    "aux_v = [tf.zeros_like(v) for v in only_dy]"
   ]
  },
  {
   "cell_type": "code",
   "execution_count": 149,
   "metadata": {
    "collapsed": true
   },
   "outputs": [],
   "source": [
    "eta = far.utils.hyperparameters()[1]"
   ]
  },
  {
   "cell_type": "code",
   "execution_count": null,
   "metadata": {
    "collapsed": true
   },
   "outputs": [],
   "source": []
  },
  {
   "cell_type": "code",
   "execution_count": 150,
   "metadata": {},
   "outputs": [
    {
     "name": "stdout",
     "output_type": "stream",
     "text": [
      "[<tf.Tensor 'gradients_1/gradients/mul_grad/mul_1_grad/Reshape:0' shape=(2, 2) dtype=float32>, <tf.Tensor 'gradients_1/AddN_1:0' shape=() dtype=float32>, <tf.Tensor 'gradients_1/AddN_3:0' shape=() dtype=float32>]\n"
     ]
    }
   ],
   "source": [
    "## try to compute forward automatically.... far all scalar hyperparameters\n",
    "g_all_hypers = tf.gradients(far.utils.dot(far.utils.vectorize_all(only_dy), far.utils.vectorize_all(aux_v)),\n",
    "                           far.utils.hyperparameters())\n",
    "print(g_all_hypers)\n",
    "B_ts = [tf.gradients(g_eta, aux_v) for g_eta in g_all_hypers]"
   ]
  },
  {
   "cell_type": "code",
   "execution_count": 151,
   "metadata": {},
   "outputs": [
    {
     "data": {
      "text/plain": [
       "[<tf.Tensor 'gradients_1/gradients/mul_grad/mul_1_grad/Reshape:0' shape=(2, 2) dtype=float32>,\n",
       " <tf.Tensor 'gradients_1/AddN_1:0' shape=() dtype=float32>,\n",
       " <tf.Tensor 'gradients_1/AddN_3:0' shape=() dtype=float32>]"
      ]
     },
     "execution_count": 151,
     "metadata": {},
     "output_type": "execute_result"
    }
   ],
   "source": [
    "g_all_hypers"
   ]
  },
  {
   "cell_type": "code",
   "execution_count": 152,
   "metadata": {},
   "outputs": [
    {
     "data": {
      "text/plain": [
       "[[<tf.Tensor 'gradients_2/Vectorization_1/Reshape_grad/Reshape:0' shape=(2,) dtype=float32>,\n",
       "  <tf.Tensor 'gradients_2/Vectorization_1/Reshape_1_grad/Reshape:0' shape=(2,) dtype=float32>,\n",
       "  <tf.Tensor 'gradients_2/Vectorization_1/Reshape_2_grad/Reshape:0' shape=(2, 2) dtype=float32>,\n",
       "  <tf.Tensor 'gradients_2/Vectorization_1/Reshape_3_grad/Reshape:0' shape=(2, 2) dtype=float32>],\n",
       " [<tf.Tensor 'gradients_3/Vectorization_1/Reshape_grad/Reshape:0' shape=(2,) dtype=float32>,\n",
       "  <tf.Tensor 'gradients_3/Vectorization_1/Reshape_1_grad/Reshape:0' shape=(2,) dtype=float32>,\n",
       "  <tf.Tensor 'gradients_3/Vectorization_1/Reshape_2_grad/Reshape:0' shape=(2, 2) dtype=float32>,\n",
       "  <tf.Tensor 'gradients_3/Vectorization_1/Reshape_3_grad/Reshape:0' shape=(2, 2) dtype=float32>],\n",
       " [<tf.Tensor 'gradients_4/Vectorization_1/Reshape_grad/Reshape:0' shape=(2,) dtype=float32>,\n",
       "  <tf.Tensor 'gradients_4/Vectorization_1/Reshape_1_grad/Reshape:0' shape=(2,) dtype=float32>,\n",
       "  <tf.Tensor 'gradients_4/Vectorization_1/Reshape_2_grad/Reshape:0' shape=(2, 2) dtype=float32>,\n",
       "  <tf.Tensor 'gradients_4/Vectorization_1/Reshape_3_grad/Reshape:0' shape=(2, 2) dtype=float32>]]"
      ]
     },
     "execution_count": 152,
     "metadata": {},
     "output_type": "execute_result"
    }
   ],
   "source": [
    "B_ts"
   ]
  },
  {
   "cell_type": "code",
   "execution_count": 153,
   "metadata": {
    "collapsed": true
   },
   "outputs": [],
   "source": [
    "tf.global_variables_initializer().run()"
   ]
  },
  {
   "cell_type": "code",
   "execution_count": 154,
   "metadata": {},
   "outputs": [
    {
     "data": {
      "text/plain": [
       "[[array([ 0.,  0.], dtype=float32),\n",
       "  array([ 0.,  0.], dtype=float32),\n",
       "  array([[ 0.2       ,  0.40000001],\n",
       "         [-0.2       ,  0.        ]], dtype=float32),\n",
       "  array([[-2., -4.],\n",
       "         [ 2.,  0.]], dtype=float32)],\n",
       " [array([-1., -3.], dtype=float32),\n",
       "  array([ 0.,  0.], dtype=float32),\n",
       "  array([[ 2.,  4.],\n",
       "         [-2.,  0.]], dtype=float32),\n",
       "  array([[ 0.,  0.],\n",
       "         [ 0.,  0.]], dtype=float32)],\n",
       " [array([ 0.,  0.], dtype=float32),\n",
       "  array([ 0.,  0.], dtype=float32),\n",
       "  array([[ 0.,  0.],\n",
       "         [ 0.,  0.]], dtype=float32),\n",
       "  array([[ 0.,  0.],\n",
       "         [ 0.,  0.]], dtype=float32)]]"
      ]
     },
     "execution_count": 154,
     "metadata": {},
     "output_type": "execute_result"
    }
   ],
   "source": [
    "ss.run(B_ts)"
   ]
  },
  {
   "cell_type": "code",
   "execution_count": 143,
   "metadata": {},
   "outputs": [
    {
     "data": {
      "text/plain": [
       "[[array([ 0.,  0.], dtype=float32),\n",
       "  array([ 0.,  0.], dtype=float32),\n",
       "  array([[ 0.2       ,  0.40000001],\n",
       "         [-0.2       ,  0.        ]], dtype=float32),\n",
       "  array([[-2., -4.],\n",
       "         [ 2.,  0.]], dtype=float32)],\n",
       " [array([-1., -3.], dtype=float32),\n",
       "  array([ 0.,  0.], dtype=float32),\n",
       "  array([[ 2.,  4.],\n",
       "         [-2.,  0.]], dtype=float32),\n",
       "  array([[ 0.,  0.],\n",
       "         [ 0.,  0.]], dtype=float32)],\n",
       " [array([ 0.,  0.], dtype=float32),\n",
       "  array([ 0.,  0.], dtype=float32),\n",
       "  array([[ 0.,  0.],\n",
       "         [ 0.,  0.]], dtype=float32),\n",
       "  array([[ 0.,  0.],\n",
       "         [ 0.,  0.]], dtype=float32)]]"
      ]
     },
     "execution_count": 143,
     "metadata": {},
     "output_type": "execute_result"
    }
   ],
   "source": [
    "ss.run(B_ts)"
   ]
  },
  {
   "cell_type": "code",
   "execution_count": null,
   "metadata": {
    "collapsed": true
   },
   "outputs": [],
   "source": [
    "## try to compute forward automatically.... far all scalar hyperparameters\n",
    "dots_with_dummy_v = [far.utils.dot(dy, v) for dy, v in zip(only_dy, aux_v)]\n",
    "\n",
    "g_all_hypers = tf.gradients(far.utils.dot(far.utils.vectorize_all(only_dy), far.utils.vectorize_all(aux_v)),\n",
    "                           far.utils.hyperparameters())\n",
    "print(g_all_hypers)\n",
    "B_ts = [tf.gradients(g_eta, aux_v) for g_eta in g_all_hypers]"
   ]
  },
  {
   "cell_type": "code",
   "execution_count": 64,
   "metadata": {
    "collapsed": true
   },
   "outputs": [],
   "source": [
    "shape = (2, 3, 4, 1, 5)\n",
    "# for sh in np.shape:\n",
    "#     print(i)"
   ]
  },
  {
   "cell_type": "code",
   "execution_count": 65,
   "metadata": {},
   "outputs": [
    {
     "data": {
      "text/plain": [
       "120"
      ]
     },
     "execution_count": 65,
     "metadata": {},
     "output_type": "execute_result"
    }
   ],
   "source": [
    "np.multiply.reduce(shape)"
   ]
  },
  {
   "cell_type": "code",
   "execution_count": 66,
   "metadata": {},
   "outputs": [
    {
     "name": "stdout",
     "output_type": "stream",
     "text": [
      "(0, 0, 0, 0, 0)\n",
      "0_0_0_0_0\n",
      "(0, 0, 0, 0, 1)\n",
      "0_0_0_0_1\n",
      "(0, 0, 0, 0, 2)\n",
      "0_0_0_0_2\n",
      "(0, 0, 0, 0, 3)\n",
      "0_0_0_0_3\n",
      "(0, 0, 0, 0, 4)\n",
      "0_0_0_0_4\n",
      "(0, 0, 1, 0, 0)\n",
      "0_0_1_0_0\n",
      "(0, 0, 1, 0, 1)\n",
      "0_0_1_0_1\n",
      "(0, 0, 1, 0, 2)\n",
      "0_0_1_0_2\n",
      "(0, 0, 1, 0, 3)\n",
      "0_0_1_0_3\n",
      "(0, 0, 1, 0, 4)\n",
      "0_0_1_0_4\n",
      "(0, 0, 2, 0, 0)\n",
      "0_0_2_0_0\n",
      "(0, 0, 2, 0, 1)\n",
      "0_0_2_0_1\n",
      "(0, 0, 2, 0, 2)\n",
      "0_0_2_0_2\n",
      "(0, 0, 2, 0, 3)\n",
      "0_0_2_0_3\n",
      "(0, 0, 2, 0, 4)\n",
      "0_0_2_0_4\n",
      "(0, 0, 3, 0, 0)\n",
      "0_0_3_0_0\n",
      "(0, 0, 3, 0, 1)\n",
      "0_0_3_0_1\n",
      "(0, 0, 3, 0, 2)\n",
      "0_0_3_0_2\n",
      "(0, 0, 3, 0, 3)\n",
      "0_0_3_0_3\n",
      "(0, 0, 3, 0, 4)\n",
      "0_0_3_0_4\n",
      "(0, 1, 0, 0, 0)\n",
      "0_1_0_0_0\n",
      "(0, 1, 0, 0, 1)\n",
      "0_1_0_0_1\n",
      "(0, 1, 0, 0, 2)\n",
      "0_1_0_0_2\n",
      "(0, 1, 0, 0, 3)\n",
      "0_1_0_0_3\n",
      "(0, 1, 0, 0, 4)\n",
      "0_1_0_0_4\n",
      "(0, 1, 1, 0, 0)\n",
      "0_1_1_0_0\n",
      "(0, 1, 1, 0, 1)\n",
      "0_1_1_0_1\n",
      "(0, 1, 1, 0, 2)\n",
      "0_1_1_0_2\n",
      "(0, 1, 1, 0, 3)\n",
      "0_1_1_0_3\n",
      "(0, 1, 1, 0, 4)\n",
      "0_1_1_0_4\n",
      "(0, 1, 2, 0, 0)\n",
      "0_1_2_0_0\n",
      "(0, 1, 2, 0, 1)\n",
      "0_1_2_0_1\n",
      "(0, 1, 2, 0, 2)\n",
      "0_1_2_0_2\n",
      "(0, 1, 2, 0, 3)\n",
      "0_1_2_0_3\n",
      "(0, 1, 2, 0, 4)\n",
      "0_1_2_0_4\n",
      "(0, 1, 3, 0, 0)\n",
      "0_1_3_0_0\n",
      "(0, 1, 3, 0, 1)\n",
      "0_1_3_0_1\n",
      "(0, 1, 3, 0, 2)\n",
      "0_1_3_0_2\n",
      "(0, 1, 3, 0, 3)\n",
      "0_1_3_0_3\n",
      "(0, 1, 3, 0, 4)\n",
      "0_1_3_0_4\n",
      "(0, 2, 0, 0, 0)\n",
      "0_2_0_0_0\n",
      "(0, 2, 0, 0, 1)\n",
      "0_2_0_0_1\n",
      "(0, 2, 0, 0, 2)\n",
      "0_2_0_0_2\n",
      "(0, 2, 0, 0, 3)\n",
      "0_2_0_0_3\n",
      "(0, 2, 0, 0, 4)\n",
      "0_2_0_0_4\n",
      "(0, 2, 1, 0, 0)\n",
      "0_2_1_0_0\n",
      "(0, 2, 1, 0, 1)\n",
      "0_2_1_0_1\n",
      "(0, 2, 1, 0, 2)\n",
      "0_2_1_0_2\n",
      "(0, 2, 1, 0, 3)\n",
      "0_2_1_0_3\n",
      "(0, 2, 1, 0, 4)\n",
      "0_2_1_0_4\n",
      "(0, 2, 2, 0, 0)\n",
      "0_2_2_0_0\n",
      "(0, 2, 2, 0, 1)\n",
      "0_2_2_0_1\n",
      "(0, 2, 2, 0, 2)\n",
      "0_2_2_0_2\n",
      "(0, 2, 2, 0, 3)\n",
      "0_2_2_0_3\n",
      "(0, 2, 2, 0, 4)\n",
      "0_2_2_0_4\n",
      "(0, 2, 3, 0, 0)\n",
      "0_2_3_0_0\n",
      "(0, 2, 3, 0, 1)\n",
      "0_2_3_0_1\n",
      "(0, 2, 3, 0, 2)\n",
      "0_2_3_0_2\n",
      "(0, 2, 3, 0, 3)\n",
      "0_2_3_0_3\n",
      "(0, 2, 3, 0, 4)\n",
      "0_2_3_0_4\n",
      "(1, 0, 0, 0, 0)\n",
      "1_0_0_0_0\n",
      "(1, 0, 0, 0, 1)\n",
      "1_0_0_0_1\n",
      "(1, 0, 0, 0, 2)\n",
      "1_0_0_0_2\n",
      "(1, 0, 0, 0, 3)\n",
      "1_0_0_0_3\n",
      "(1, 0, 0, 0, 4)\n",
      "1_0_0_0_4\n",
      "(1, 0, 1, 0, 0)\n",
      "1_0_1_0_0\n",
      "(1, 0, 1, 0, 1)\n",
      "1_0_1_0_1\n",
      "(1, 0, 1, 0, 2)\n",
      "1_0_1_0_2\n",
      "(1, 0, 1, 0, 3)\n",
      "1_0_1_0_3\n",
      "(1, 0, 1, 0, 4)\n",
      "1_0_1_0_4\n",
      "(1, 0, 2, 0, 0)\n",
      "1_0_2_0_0\n",
      "(1, 0, 2, 0, 1)\n",
      "1_0_2_0_1\n",
      "(1, 0, 2, 0, 2)\n",
      "1_0_2_0_2\n",
      "(1, 0, 2, 0, 3)\n",
      "1_0_2_0_3\n",
      "(1, 0, 2, 0, 4)\n",
      "1_0_2_0_4\n",
      "(1, 0, 3, 0, 0)\n",
      "1_0_3_0_0\n",
      "(1, 0, 3, 0, 1)\n",
      "1_0_3_0_1\n",
      "(1, 0, 3, 0, 2)\n",
      "1_0_3_0_2\n",
      "(1, 0, 3, 0, 3)\n",
      "1_0_3_0_3\n",
      "(1, 0, 3, 0, 4)\n",
      "1_0_3_0_4\n",
      "(1, 1, 0, 0, 0)\n",
      "1_1_0_0_0\n",
      "(1, 1, 0, 0, 1)\n",
      "1_1_0_0_1\n",
      "(1, 1, 0, 0, 2)\n",
      "1_1_0_0_2\n",
      "(1, 1, 0, 0, 3)\n",
      "1_1_0_0_3\n",
      "(1, 1, 0, 0, 4)\n",
      "1_1_0_0_4\n",
      "(1, 1, 1, 0, 0)\n",
      "1_1_1_0_0\n",
      "(1, 1, 1, 0, 1)\n",
      "1_1_1_0_1\n",
      "(1, 1, 1, 0, 2)\n",
      "1_1_1_0_2\n",
      "(1, 1, 1, 0, 3)\n",
      "1_1_1_0_3\n",
      "(1, 1, 1, 0, 4)\n",
      "1_1_1_0_4\n",
      "(1, 1, 2, 0, 0)\n",
      "1_1_2_0_0\n",
      "(1, 1, 2, 0, 1)\n",
      "1_1_2_0_1\n",
      "(1, 1, 2, 0, 2)\n",
      "1_1_2_0_2\n",
      "(1, 1, 2, 0, 3)\n",
      "1_1_2_0_3\n",
      "(1, 1, 2, 0, 4)\n",
      "1_1_2_0_4\n",
      "(1, 1, 3, 0, 0)\n",
      "1_1_3_0_0\n",
      "(1, 1, 3, 0, 1)\n",
      "1_1_3_0_1\n",
      "(1, 1, 3, 0, 2)\n",
      "1_1_3_0_2\n",
      "(1, 1, 3, 0, 3)\n",
      "1_1_3_0_3\n",
      "(1, 1, 3, 0, 4)\n",
      "1_1_3_0_4\n",
      "(1, 2, 0, 0, 0)\n",
      "1_2_0_0_0\n",
      "(1, 2, 0, 0, 1)\n",
      "1_2_0_0_1\n",
      "(1, 2, 0, 0, 2)\n",
      "1_2_0_0_2\n",
      "(1, 2, 0, 0, 3)\n",
      "1_2_0_0_3\n",
      "(1, 2, 0, 0, 4)\n",
      "1_2_0_0_4\n",
      "(1, 2, 1, 0, 0)\n",
      "1_2_1_0_0\n",
      "(1, 2, 1, 0, 1)\n",
      "1_2_1_0_1\n",
      "(1, 2, 1, 0, 2)\n",
      "1_2_1_0_2\n",
      "(1, 2, 1, 0, 3)\n",
      "1_2_1_0_3\n",
      "(1, 2, 1, 0, 4)\n",
      "1_2_1_0_4\n",
      "(1, 2, 2, 0, 0)\n",
      "1_2_2_0_0\n",
      "(1, 2, 2, 0, 1)\n",
      "1_2_2_0_1\n",
      "(1, 2, 2, 0, 2)\n",
      "1_2_2_0_2\n",
      "(1, 2, 2, 0, 3)\n",
      "1_2_2_0_3\n",
      "(1, 2, 2, 0, 4)\n",
      "1_2_2_0_4\n",
      "(1, 2, 3, 0, 0)\n",
      "1_2_3_0_0\n",
      "(1, 2, 3, 0, 1)\n",
      "1_2_3_0_1\n",
      "(1, 2, 3, 0, 2)\n",
      "1_2_3_0_2\n",
      "(1, 2, 3, 0, 3)\n",
      "1_2_3_0_3\n",
      "(1, 2, 3, 0, 4)\n",
      "1_2_3_0_4\n"
     ]
    }
   ],
   "source": [
    "a = np.zeros(shape)\n",
    "for k in range(np.multiply.reduce(shape)):\n",
    "    indices = np.unravel_index(k, shape) \n",
    "    print(indices)\n",
    "    print('_'.join([str(ind) for ind in indices]))\n",
    "    a[indices] = k"
   ]
  },
  {
   "cell_type": "code",
   "execution_count": 67,
   "metadata": {},
   "outputs": [
    {
     "data": {
      "text/plain": [
       "True"
      ]
     },
     "execution_count": 67,
     "metadata": {},
     "output_type": "execute_result"
    }
   ],
   "source": [
    "isinstance(lmbd.shape, tf.TensorShape)"
   ]
  },
  {
   "cell_type": "code",
   "execution_count": 68,
   "metadata": {},
   "outputs": [
    {
     "data": {
      "text/plain": [
       "array([[[[[   0.,    1.,    2.,    3.,    4.]],\n",
       "\n",
       "         [[   5.,    6.,    7.,    8.,    9.]],\n",
       "\n",
       "         [[  10.,   11.,   12.,   13.,   14.]],\n",
       "\n",
       "         [[  15.,   16.,   17.,   18.,   19.]]],\n",
       "\n",
       "\n",
       "        [[[  20.,   21.,   22.,   23.,   24.]],\n",
       "\n",
       "         [[  25.,   26.,   27.,   28.,   29.]],\n",
       "\n",
       "         [[  30.,   31.,   32.,   33.,   34.]],\n",
       "\n",
       "         [[  35.,   36.,   37.,   38.,   39.]]],\n",
       "\n",
       "\n",
       "        [[[  40.,   41.,   42.,   43.,   44.]],\n",
       "\n",
       "         [[  45.,   46.,   47.,   48.,   49.]],\n",
       "\n",
       "         [[  50.,   51.,   52.,   53.,   54.]],\n",
       "\n",
       "         [[  55.,   56.,   57.,   58.,   59.]]]],\n",
       "\n",
       "\n",
       "\n",
       "       [[[[  60.,   61.,   62.,   63.,   64.]],\n",
       "\n",
       "         [[  65.,   66.,   67.,   68.,   69.]],\n",
       "\n",
       "         [[  70.,   71.,   72.,   73.,   74.]],\n",
       "\n",
       "         [[  75.,   76.,   77.,   78.,   79.]]],\n",
       "\n",
       "\n",
       "        [[[  80.,   81.,   82.,   83.,   84.]],\n",
       "\n",
       "         [[  85.,   86.,   87.,   88.,   89.]],\n",
       "\n",
       "         [[  90.,   91.,   92.,   93.,   94.]],\n",
       "\n",
       "         [[  95.,   96.,   97.,   98.,   99.]]],\n",
       "\n",
       "\n",
       "        [[[ 100.,  101.,  102.,  103.,  104.]],\n",
       "\n",
       "         [[ 105.,  106.,  107.,  108.,  109.]],\n",
       "\n",
       "         [[ 110.,  111.,  112.,  113.,  114.]],\n",
       "\n",
       "         [[ 115.,  116.,  117.,  118.,  119.]]]]])"
      ]
     },
     "execution_count": 68,
     "metadata": {},
     "output_type": "execute_result"
    }
   ],
   "source": [
    "a"
   ]
  },
  {
   "cell_type": "code",
   "execution_count": 161,
   "metadata": {},
   "outputs": [
    {
     "data": {
      "text/plain": [
       "[None, None]"
      ]
     },
     "execution_count": 161,
     "metadata": {},
     "output_type": "execute_result"
    }
   ],
   "source": [
    "np.any([None, [None, None]])"
   ]
  },
  {
   "cell_type": "code",
   "execution_count": 157,
   "metadata": {
    "collapsed": true
   },
   "outputs": [],
   "source": [
    "if lmbd is None:\n",
    "    print(1)"
   ]
  },
  {
   "cell_type": "code",
   "execution_count": 69,
   "metadata": {},
   "outputs": [
    {
     "data": {
      "text/plain": [
       "(2, 3, 4, 1, 5)"
      ]
     },
     "execution_count": 69,
     "metadata": {},
     "output_type": "execute_result"
    }
   ],
   "source": [
    "a.shape"
   ]
  },
  {
   "cell_type": "code",
   "execution_count": 70,
   "metadata": {
    "collapsed": true
   },
   "outputs": [],
   "source": [
    "from functools import reduce"
   ]
  },
  {
   "cell_type": "code",
   "execution_count": 75,
   "metadata": {
    "collapsed": true
   },
   "outputs": [],
   "source": [
    "res = reduce(lambda a, v: [a]*v, shape[::-1], None)"
   ]
  },
  {
   "cell_type": "code",
   "execution_count": 78,
   "metadata": {
    "collapsed": true
   },
   "outputs": [],
   "source": [
    "indices = (1,1, 1, 0, 1)"
   ]
  },
  {
   "cell_type": "code",
   "execution_count": 77,
   "metadata": {},
   "outputs": [
    {
     "ename": "SyntaxError",
     "evalue": "invalid syntax (<ipython-input-77-283a6d95f30d>, line 1)",
     "output_type": "error",
     "traceback": [
      "\u001b[0;36m  File \u001b[0;32m\"<ipython-input-77-283a6d95f30d>\"\u001b[0;36m, line \u001b[0;32m1\u001b[0m\n\u001b[0;31m    res[*(1,1, 1, 0, 1)]\u001b[0m\n\u001b[0m        ^\u001b[0m\n\u001b[0;31mSyntaxError\u001b[0m\u001b[0;31m:\u001b[0m invalid syntax\n"
     ]
    }
   ],
   "source": [
    "res[(1,1, 1, 0, 1)]"
   ]
  },
  {
   "cell_type": "code",
   "execution_count": 84,
   "metadata": {
    "collapsed": true
   },
   "outputs": [],
   "source": [
    "a = [\n",
    "    [tf.get_variable('11', initializer=1.), tf.get_variable('21', initializer=0.)]\n",
    "]"
   ]
  },
  {
   "cell_type": "code",
   "execution_count": 85,
   "metadata": {},
   "outputs": [
    {
     "data": {
      "text/plain": [
       "array([[<tf.Variable '11:0' shape=() dtype=float32_ref>,\n",
       "        <tf.Variable '21:0' shape=() dtype=float32_ref>]], dtype=object)"
      ]
     },
     "execution_count": 85,
     "metadata": {},
     "output_type": "execute_result"
    }
   ],
   "source": [
    "np.array(a)"
   ]
  },
  {
   "cell_type": "code",
   "execution_count": 114,
   "metadata": {},
   "outputs": [
    {
     "ename": "TypeError",
     "evalue": "Expected binary or unicode string, got None",
     "output_type": "error",
     "traceback": [
      "\u001b[0;31m---------------------------------------------------------------------------\u001b[0m",
      "\u001b[0;31mTypeError\u001b[0m                                 Traceback (most recent call last)",
      "\u001b[0;32m<ipython-input-114-be4b85e9abb3>\u001b[0m in \u001b[0;36m<module>\u001b[0;34m()\u001b[0m\n\u001b[0;32m----> 1\u001b[0;31m \u001b[0mc\u001b[0m \u001b[0;34m=\u001b[0m \u001b[0mtf\u001b[0m\u001b[0;34m.\u001b[0m\u001b[0mconvert_to_tensor\u001b[0m\u001b[0;34m(\u001b[0m\u001b[0mnp\u001b[0m\u001b[0;34m.\u001b[0m\u001b[0marray\u001b[0m\u001b[0;34m(\u001b[0m\u001b[0ma\u001b[0m\u001b[0;34m,\u001b[0m \u001b[0mdtype\u001b[0m\u001b[0;34m=\u001b[0m\u001b[0mtf\u001b[0m\u001b[0;34m.\u001b[0m\u001b[0mVariable\u001b[0m\u001b[0;34m)\u001b[0m\u001b[0;34m)\u001b[0m\u001b[0;34m\u001b[0m\u001b[0m\n\u001b[0m",
      "\u001b[0;32m~/anaconda3/lib/python3.5/site-packages/tensorflow/python/framework/ops.py\u001b[0m in \u001b[0;36mconvert_to_tensor\u001b[0;34m(value, dtype, name, preferred_dtype)\u001b[0m\n\u001b[1;32m    674\u001b[0m       \u001b[0mname\u001b[0m\u001b[0;34m=\u001b[0m\u001b[0mname\u001b[0m\u001b[0;34m,\u001b[0m\u001b[0;34m\u001b[0m\u001b[0m\n\u001b[1;32m    675\u001b[0m       \u001b[0mpreferred_dtype\u001b[0m\u001b[0;34m=\u001b[0m\u001b[0mpreferred_dtype\u001b[0m\u001b[0;34m,\u001b[0m\u001b[0;34m\u001b[0m\u001b[0m\n\u001b[0;32m--> 676\u001b[0;31m       as_ref=False)\n\u001b[0m\u001b[1;32m    677\u001b[0m \u001b[0;34m\u001b[0m\u001b[0m\n\u001b[1;32m    678\u001b[0m \u001b[0;34m\u001b[0m\u001b[0m\n",
      "\u001b[0;32m~/anaconda3/lib/python3.5/site-packages/tensorflow/python/framework/ops.py\u001b[0m in \u001b[0;36minternal_convert_to_tensor\u001b[0;34m(value, dtype, name, as_ref, preferred_dtype)\u001b[0m\n\u001b[1;32m    739\u001b[0m \u001b[0;34m\u001b[0m\u001b[0m\n\u001b[1;32m    740\u001b[0m         \u001b[0;32mif\u001b[0m \u001b[0mret\u001b[0m \u001b[0;32mis\u001b[0m \u001b[0;32mNone\u001b[0m\u001b[0;34m:\u001b[0m\u001b[0;34m\u001b[0m\u001b[0m\n\u001b[0;32m--> 741\u001b[0;31m           \u001b[0mret\u001b[0m \u001b[0;34m=\u001b[0m \u001b[0mconversion_func\u001b[0m\u001b[0;34m(\u001b[0m\u001b[0mvalue\u001b[0m\u001b[0;34m,\u001b[0m \u001b[0mdtype\u001b[0m\u001b[0;34m=\u001b[0m\u001b[0mdtype\u001b[0m\u001b[0;34m,\u001b[0m \u001b[0mname\u001b[0m\u001b[0;34m=\u001b[0m\u001b[0mname\u001b[0m\u001b[0;34m,\u001b[0m \u001b[0mas_ref\u001b[0m\u001b[0;34m=\u001b[0m\u001b[0mas_ref\u001b[0m\u001b[0;34m)\u001b[0m\u001b[0;34m\u001b[0m\u001b[0m\n\u001b[0m\u001b[1;32m    742\u001b[0m \u001b[0;34m\u001b[0m\u001b[0m\n\u001b[1;32m    743\u001b[0m         \u001b[0;32mif\u001b[0m \u001b[0mret\u001b[0m \u001b[0;32mis\u001b[0m \u001b[0mNotImplemented\u001b[0m\u001b[0;34m:\u001b[0m\u001b[0;34m\u001b[0m\u001b[0m\n",
      "\u001b[0;32m~/anaconda3/lib/python3.5/site-packages/tensorflow/python/framework/constant_op.py\u001b[0m in \u001b[0;36m_constant_tensor_conversion_function\u001b[0;34m(v, dtype, name, as_ref)\u001b[0m\n\u001b[1;32m    111\u001b[0m                                          as_ref=False):\n\u001b[1;32m    112\u001b[0m   \u001b[0m_\u001b[0m \u001b[0;34m=\u001b[0m \u001b[0mas_ref\u001b[0m\u001b[0;34m\u001b[0m\u001b[0m\n\u001b[0;32m--> 113\u001b[0;31m   \u001b[0;32mreturn\u001b[0m \u001b[0mconstant\u001b[0m\u001b[0;34m(\u001b[0m\u001b[0mv\u001b[0m\u001b[0;34m,\u001b[0m \u001b[0mdtype\u001b[0m\u001b[0;34m=\u001b[0m\u001b[0mdtype\u001b[0m\u001b[0;34m,\u001b[0m \u001b[0mname\u001b[0m\u001b[0;34m=\u001b[0m\u001b[0mname\u001b[0m\u001b[0;34m)\u001b[0m\u001b[0;34m\u001b[0m\u001b[0m\n\u001b[0m\u001b[1;32m    114\u001b[0m \u001b[0;34m\u001b[0m\u001b[0m\n\u001b[1;32m    115\u001b[0m \u001b[0;34m\u001b[0m\u001b[0m\n",
      "\u001b[0;32m~/anaconda3/lib/python3.5/site-packages/tensorflow/python/framework/constant_op.py\u001b[0m in \u001b[0;36mconstant\u001b[0;34m(value, dtype, shape, name, verify_shape)\u001b[0m\n\u001b[1;32m    100\u001b[0m   \u001b[0mtensor_value\u001b[0m \u001b[0;34m=\u001b[0m \u001b[0mattr_value_pb2\u001b[0m\u001b[0;34m.\u001b[0m\u001b[0mAttrValue\u001b[0m\u001b[0;34m(\u001b[0m\u001b[0;34m)\u001b[0m\u001b[0;34m\u001b[0m\u001b[0m\n\u001b[1;32m    101\u001b[0m   tensor_value.tensor.CopyFrom(\n\u001b[0;32m--> 102\u001b[0;31m       tensor_util.make_tensor_proto(value, dtype=dtype, shape=shape, verify_shape=verify_shape))\n\u001b[0m\u001b[1;32m    103\u001b[0m   \u001b[0mdtype_value\u001b[0m \u001b[0;34m=\u001b[0m \u001b[0mattr_value_pb2\u001b[0m\u001b[0;34m.\u001b[0m\u001b[0mAttrValue\u001b[0m\u001b[0;34m(\u001b[0m\u001b[0mtype\u001b[0m\u001b[0;34m=\u001b[0m\u001b[0mtensor_value\u001b[0m\u001b[0;34m.\u001b[0m\u001b[0mtensor\u001b[0m\u001b[0;34m.\u001b[0m\u001b[0mdtype\u001b[0m\u001b[0;34m)\u001b[0m\u001b[0;34m\u001b[0m\u001b[0m\n\u001b[1;32m    104\u001b[0m   const_tensor = g.create_op(\n",
      "\u001b[0;32m~/anaconda3/lib/python3.5/site-packages/tensorflow/python/framework/tensor_util.py\u001b[0m in \u001b[0;36mmake_tensor_proto\u001b[0;34m(values, dtype, shape, verify_shape)\u001b[0m\n\u001b[1;32m    471\u001b[0m     raise TypeError(\"Element type not supported in TensorProto: %s\" %\n\u001b[1;32m    472\u001b[0m                     numpy_dtype.name)\n\u001b[0;32m--> 473\u001b[0;31m   \u001b[0mappend_fn\u001b[0m\u001b[0;34m(\u001b[0m\u001b[0mtensor_proto\u001b[0m\u001b[0;34m,\u001b[0m \u001b[0mproto_values\u001b[0m\u001b[0;34m)\u001b[0m\u001b[0;34m\u001b[0m\u001b[0m\n\u001b[0m\u001b[1;32m    474\u001b[0m \u001b[0;34m\u001b[0m\u001b[0m\n\u001b[1;32m    475\u001b[0m   \u001b[0;32mreturn\u001b[0m \u001b[0mtensor_proto\u001b[0m\u001b[0;34m\u001b[0m\u001b[0m\n",
      "\u001b[0;32m~/anaconda3/lib/python3.5/site-packages/tensorflow/python/framework/tensor_util.py\u001b[0m in \u001b[0;36mSlowAppendObjectArrayToTensorProto\u001b[0;34m(tensor_proto, proto_values)\u001b[0m\n\u001b[1;32m    107\u001b[0m \u001b[0;34m\u001b[0m\u001b[0m\n\u001b[1;32m    108\u001b[0m   \u001b[0;32mdef\u001b[0m \u001b[0mSlowAppendObjectArrayToTensorProto\u001b[0m\u001b[0;34m(\u001b[0m\u001b[0mtensor_proto\u001b[0m\u001b[0;34m,\u001b[0m \u001b[0mproto_values\u001b[0m\u001b[0;34m)\u001b[0m\u001b[0;34m:\u001b[0m\u001b[0;34m\u001b[0m\u001b[0m\n\u001b[0;32m--> 109\u001b[0;31m     \u001b[0mtensor_proto\u001b[0m\u001b[0;34m.\u001b[0m\u001b[0mstring_val\u001b[0m\u001b[0;34m.\u001b[0m\u001b[0mextend\u001b[0m\u001b[0;34m(\u001b[0m\u001b[0;34m[\u001b[0m\u001b[0mcompat\u001b[0m\u001b[0;34m.\u001b[0m\u001b[0mas_bytes\u001b[0m\u001b[0;34m(\u001b[0m\u001b[0mx\u001b[0m\u001b[0;34m)\u001b[0m \u001b[0;32mfor\u001b[0m \u001b[0mx\u001b[0m \u001b[0;32min\u001b[0m \u001b[0mproto_values\u001b[0m\u001b[0;34m]\u001b[0m\u001b[0;34m)\u001b[0m\u001b[0;34m\u001b[0m\u001b[0m\n\u001b[0m\u001b[1;32m    110\u001b[0m \u001b[0;34m\u001b[0m\u001b[0m\n\u001b[1;32m    111\u001b[0m   \u001b[0;32mdef\u001b[0m \u001b[0mSlowAppendBoolArrayToTensorProto\u001b[0m\u001b[0;34m(\u001b[0m\u001b[0mtensor_proto\u001b[0m\u001b[0;34m,\u001b[0m \u001b[0mproto_values\u001b[0m\u001b[0;34m)\u001b[0m\u001b[0;34m:\u001b[0m\u001b[0;34m\u001b[0m\u001b[0m\n",
      "\u001b[0;32m~/anaconda3/lib/python3.5/site-packages/tensorflow/python/framework/tensor_util.py\u001b[0m in \u001b[0;36m<listcomp>\u001b[0;34m(.0)\u001b[0m\n\u001b[1;32m    107\u001b[0m \u001b[0;34m\u001b[0m\u001b[0m\n\u001b[1;32m    108\u001b[0m   \u001b[0;32mdef\u001b[0m \u001b[0mSlowAppendObjectArrayToTensorProto\u001b[0m\u001b[0;34m(\u001b[0m\u001b[0mtensor_proto\u001b[0m\u001b[0;34m,\u001b[0m \u001b[0mproto_values\u001b[0m\u001b[0;34m)\u001b[0m\u001b[0;34m:\u001b[0m\u001b[0;34m\u001b[0m\u001b[0m\n\u001b[0;32m--> 109\u001b[0;31m     \u001b[0mtensor_proto\u001b[0m\u001b[0;34m.\u001b[0m\u001b[0mstring_val\u001b[0m\u001b[0;34m.\u001b[0m\u001b[0mextend\u001b[0m\u001b[0;34m(\u001b[0m\u001b[0;34m[\u001b[0m\u001b[0mcompat\u001b[0m\u001b[0;34m.\u001b[0m\u001b[0mas_bytes\u001b[0m\u001b[0;34m(\u001b[0m\u001b[0mx\u001b[0m\u001b[0;34m)\u001b[0m \u001b[0;32mfor\u001b[0m \u001b[0mx\u001b[0m \u001b[0;32min\u001b[0m \u001b[0mproto_values\u001b[0m\u001b[0;34m]\u001b[0m\u001b[0;34m)\u001b[0m\u001b[0;34m\u001b[0m\u001b[0m\n\u001b[0m\u001b[1;32m    110\u001b[0m \u001b[0;34m\u001b[0m\u001b[0m\n\u001b[1;32m    111\u001b[0m   \u001b[0;32mdef\u001b[0m \u001b[0mSlowAppendBoolArrayToTensorProto\u001b[0m\u001b[0;34m(\u001b[0m\u001b[0mtensor_proto\u001b[0m\u001b[0;34m,\u001b[0m \u001b[0mproto_values\u001b[0m\u001b[0;34m)\u001b[0m\u001b[0;34m:\u001b[0m\u001b[0;34m\u001b[0m\u001b[0m\n",
      "\u001b[0;32m~/anaconda3/lib/python3.5/site-packages/tensorflow/python/util/compat.py\u001b[0m in \u001b[0;36mas_bytes\u001b[0;34m(bytes_or_text, encoding)\u001b[0m\n\u001b[1;32m     63\u001b[0m   \u001b[0;32melse\u001b[0m\u001b[0;34m:\u001b[0m\u001b[0;34m\u001b[0m\u001b[0m\n\u001b[1;32m     64\u001b[0m     raise TypeError('Expected binary or unicode string, got %r' %\n\u001b[0;32m---> 65\u001b[0;31m                     (bytes_or_text,))\n\u001b[0m\u001b[1;32m     66\u001b[0m \u001b[0;34m\u001b[0m\u001b[0m\n\u001b[1;32m     67\u001b[0m \u001b[0;34m\u001b[0m\u001b[0m\n",
      "\u001b[0;31mTypeError\u001b[0m: Expected binary or unicode string, got None"
     ]
    }
   ],
   "source": [
    "c = tf.convert_to_tensor(np.array(a, dtype=tf.Variable))"
   ]
  },
  {
   "cell_type": "code",
   "execution_count": 92,
   "metadata": {
    "collapsed": true
   },
   "outputs": [],
   "source": [
    "a = np.empty(shape, tf.Variable)"
   ]
  },
  {
   "cell_type": "code",
   "execution_count": 95,
   "metadata": {
    "collapsed": true
   },
   "outputs": [],
   "source": [
    "a[indices] = tf.get_variable('dckan', initializer=1.)"
   ]
  },
  {
   "cell_type": "code",
   "execution_count": 96,
   "metadata": {},
   "outputs": [
    {
     "data": {
      "text/plain": [
       "array([[[[[None, None, None, None, None]],\n",
       "\n",
       "         [[None, None, None, None, None]],\n",
       "\n",
       "         [[None, None, None, None, None]],\n",
       "\n",
       "         [[None, None, None, None, None]]],\n",
       "\n",
       "\n",
       "        [[[None, None, None, None, None]],\n",
       "\n",
       "         [[None, None, None, None, None]],\n",
       "\n",
       "         [[None, None, None, None, None]],\n",
       "\n",
       "         [[None, None, None, None, None]]],\n",
       "\n",
       "\n",
       "        [[[None, None, None, None, None]],\n",
       "\n",
       "         [[None, None, None, None, None]],\n",
       "\n",
       "         [[None, None, None, None, None]],\n",
       "\n",
       "         [[None, None, None, None, None]]]],\n",
       "\n",
       "\n",
       "\n",
       "       [[[[None, None, None, None, None]],\n",
       "\n",
       "         [[None, None, None, None, None]],\n",
       "\n",
       "         [[None, None, None, None, None]],\n",
       "\n",
       "         [[None, None, None, None, None]]],\n",
       "\n",
       "\n",
       "        [[[None, None, None, None, None]],\n",
       "\n",
       "         [[None, <tf.Variable 'dckan:0' shape=() dtype=float32_ref>, None,\n",
       "           None, None]],\n",
       "\n",
       "         [[None, None, None, None, None]],\n",
       "\n",
       "         [[None, None, None, None, None]]],\n",
       "\n",
       "\n",
       "        [[[None, None, None, None, None]],\n",
       "\n",
       "         [[None, None, None, None, None]],\n",
       "\n",
       "         [[None, None, None, None, None]],\n",
       "\n",
       "         [[None, None, None, None, None]]]]], dtype=object)"
      ]
     },
     "execution_count": 96,
     "metadata": {},
     "output_type": "execute_result"
    }
   ],
   "source": [
    "a"
   ]
  },
  {
   "cell_type": "code",
   "execution_count": 115,
   "metadata": {
    "collapsed": true
   },
   "outputs": [],
   "source": [
    "def get_hyperparameter(name, initializer=None, shape=None, dtype=None, scalar=False):\n",
    "    \"\"\"\n",
    "    Creates an hyperparameter variable, which is a GLOBAL_VARIABLE\n",
    "    and HYPERPARAMETER. Mirrors the behavior of `tf.get_variable`.\n",
    "\n",
    "    :param name: name of this hyperparameter\n",
    "    :param initializer: initializer or initial value (can be np.array or float)\n",
    "    :param shape: optional shape, may be not needed depending on initializer\n",
    "    :param dtype: optional type,  may be not needed depending on initializer\n",
    "    :param scalar: if True divides the hyperparameter in its scalar components (use with `ForwardHG`)\n",
    "\n",
    "    :return: the newly created variable.\n",
    "    \"\"\"\n",
    "    if not scalar:\n",
    "        return tf.get_variable(name, shape, dtype, initializer, trainable=False,\n",
    "                               collections=HYPERPARAMETERS_COLLECTIONS)\n",
    "    else:\n",
    "        with tf.variable_scope(name + '_components'):\n",
    "            _shape = shape or initializer.shape\n",
    "            if isinstance(_shape, tf.TensorShape):\n",
    "                _shape = _shape.as_list()\n",
    "            # _tmp_lst = reduce(lambda a, v: [a]*v, shape[::-1], None)\n",
    "            _tmp_lst = np.empty(_shape, object)\n",
    "            for k in range(np.multiply.reduce(_shape)):\n",
    "                indices = np.unravel_index(k, _shape)\n",
    "                # print(indices)\n",
    "                _ind_name = '_'.join([str(ind) for ind in indices])\n",
    "                _tmp_lst[indices] = tf.get_variable(_ind_name, (), dtype,\n",
    "                                                    initializer if callable(initializer) else initializer[indices],\n",
    "                                                    trainable=False, collections=HYPERPARAMETERS_COLLECTIONS)\n",
    "        return tf.convert_to_tensor(_tmp_lst.tolist(), name=name)\n"
   ]
  },
  {
   "cell_type": "code",
   "execution_count": 116,
   "metadata": {
    "collapsed": true
   },
   "outputs": [],
   "source": [
    "HYPERPARAMETERS_COLLECTIONS = (far.GraphKeys.HYPERPARAMETERS, far.GraphKeys.GLOBAL_VARIABLES)"
   ]
  },
  {
   "cell_type": "code",
   "execution_count": 118,
   "metadata": {
    "collapsed": true
   },
   "outputs": [],
   "source": [
    "lmbd = get_hyperparameter('lambda_11121', initializer=tf.random_normal_initializer(stddev=10.), shape=shape, scalar=True)"
   ]
  },
  {
   "cell_type": "code",
   "execution_count": 120,
   "metadata": {},
   "outputs": [
    {
     "data": {
      "text/plain": [
       "<tf.Tensor 'lambda_11121:0' shape=(2, 3, 4, 1, 5) dtype=float32>"
      ]
     },
     "execution_count": 120,
     "metadata": {},
     "output_type": "execute_result"
    }
   ],
   "source": [
    "lmbd"
   ]
  },
  {
   "cell_type": "code",
   "execution_count": 123,
   "metadata": {},
   "outputs": [
    {
     "data": {
      "text/plain": [
       "[<tf.Variable 'lambda:0' shape=(2, 2) dtype=float32_ref>,\n",
       " <tf.Variable 'eta:0' shape=() dtype=float32_ref>,\n",
       " <tf.Variable 'mu:0' shape=() dtype=float32_ref>,\n",
       " <tf.Variable 'lambda_1_components/0_0_0_0_0:0' shape=() dtype=float32_ref>,\n",
       " <tf.Variable 'lambda_1_components/0_0_0_0_1:0' shape=() dtype=float32_ref>,\n",
       " <tf.Variable 'lambda_1_components/0_0_0_0_2:0' shape=() dtype=float32_ref>,\n",
       " <tf.Variable 'lambda_1_components/0_0_0_0_3:0' shape=() dtype=float32_ref>,\n",
       " <tf.Variable 'lambda_1_components/0_0_0_0_4:0' shape=() dtype=float32_ref>,\n",
       " <tf.Variable 'lambda_1_components/0_0_1_0_0:0' shape=() dtype=float32_ref>,\n",
       " <tf.Variable 'lambda_1_components/0_0_1_0_1:0' shape=() dtype=float32_ref>,\n",
       " <tf.Variable 'lambda_1_components/0_0_1_0_2:0' shape=() dtype=float32_ref>,\n",
       " <tf.Variable 'lambda_1_components/0_0_1_0_3:0' shape=() dtype=float32_ref>,\n",
       " <tf.Variable 'lambda_1_components/0_0_1_0_4:0' shape=() dtype=float32_ref>,\n",
       " <tf.Variable 'lambda_1_components/0_0_2_0_0:0' shape=() dtype=float32_ref>,\n",
       " <tf.Variable 'lambda_1_components/0_0_2_0_1:0' shape=() dtype=float32_ref>,\n",
       " <tf.Variable 'lambda_1_components/0_0_2_0_2:0' shape=() dtype=float32_ref>,\n",
       " <tf.Variable 'lambda_1_components/0_0_2_0_3:0' shape=() dtype=float32_ref>,\n",
       " <tf.Variable 'lambda_1_components/0_0_2_0_4:0' shape=() dtype=float32_ref>,\n",
       " <tf.Variable 'lambda_1_components/0_0_3_0_0:0' shape=() dtype=float32_ref>,\n",
       " <tf.Variable 'lambda_1_components/0_0_3_0_1:0' shape=() dtype=float32_ref>,\n",
       " <tf.Variable 'lambda_1_components/0_0_3_0_2:0' shape=() dtype=float32_ref>,\n",
       " <tf.Variable 'lambda_1_components/0_0_3_0_3:0' shape=() dtype=float32_ref>,\n",
       " <tf.Variable 'lambda_1_components/0_0_3_0_4:0' shape=() dtype=float32_ref>,\n",
       " <tf.Variable 'lambda_1_components/0_1_0_0_0:0' shape=() dtype=float32_ref>,\n",
       " <tf.Variable 'lambda_1_components/0_1_0_0_1:0' shape=() dtype=float32_ref>,\n",
       " <tf.Variable 'lambda_1_components/0_1_0_0_2:0' shape=() dtype=float32_ref>,\n",
       " <tf.Variable 'lambda_1_components/0_1_0_0_3:0' shape=() dtype=float32_ref>,\n",
       " <tf.Variable 'lambda_1_components/0_1_0_0_4:0' shape=() dtype=float32_ref>,\n",
       " <tf.Variable 'lambda_1_components/0_1_1_0_0:0' shape=() dtype=float32_ref>,\n",
       " <tf.Variable 'lambda_1_components/0_1_1_0_1:0' shape=() dtype=float32_ref>,\n",
       " <tf.Variable 'lambda_1_components/0_1_1_0_2:0' shape=() dtype=float32_ref>,\n",
       " <tf.Variable 'lambda_1_components/0_1_1_0_3:0' shape=() dtype=float32_ref>,\n",
       " <tf.Variable 'lambda_1_components/0_1_1_0_4:0' shape=() dtype=float32_ref>,\n",
       " <tf.Variable 'lambda_1_components/0_1_2_0_0:0' shape=() dtype=float32_ref>,\n",
       " <tf.Variable 'lambda_1_components/0_1_2_0_1:0' shape=() dtype=float32_ref>,\n",
       " <tf.Variable 'lambda_1_components/0_1_2_0_2:0' shape=() dtype=float32_ref>,\n",
       " <tf.Variable 'lambda_1_components/0_1_2_0_3:0' shape=() dtype=float32_ref>,\n",
       " <tf.Variable 'lambda_1_components/0_1_2_0_4:0' shape=() dtype=float32_ref>,\n",
       " <tf.Variable 'lambda_1_components/0_1_3_0_0:0' shape=() dtype=float32_ref>,\n",
       " <tf.Variable 'lambda_1_components/0_1_3_0_1:0' shape=() dtype=float32_ref>,\n",
       " <tf.Variable 'lambda_1_components/0_1_3_0_2:0' shape=() dtype=float32_ref>,\n",
       " <tf.Variable 'lambda_1_components/0_1_3_0_3:0' shape=() dtype=float32_ref>,\n",
       " <tf.Variable 'lambda_1_components/0_1_3_0_4:0' shape=() dtype=float32_ref>,\n",
       " <tf.Variable 'lambda_1_components/0_2_0_0_0:0' shape=() dtype=float32_ref>,\n",
       " <tf.Variable 'lambda_1_components/0_2_0_0_1:0' shape=() dtype=float32_ref>,\n",
       " <tf.Variable 'lambda_1_components/0_2_0_0_2:0' shape=() dtype=float32_ref>,\n",
       " <tf.Variable 'lambda_1_components/0_2_0_0_3:0' shape=() dtype=float32_ref>,\n",
       " <tf.Variable 'lambda_1_components/0_2_0_0_4:0' shape=() dtype=float32_ref>,\n",
       " <tf.Variable 'lambda_1_components/0_2_1_0_0:0' shape=() dtype=float32_ref>,\n",
       " <tf.Variable 'lambda_1_components/0_2_1_0_1:0' shape=() dtype=float32_ref>,\n",
       " <tf.Variable 'lambda_1_components/0_2_1_0_2:0' shape=() dtype=float32_ref>,\n",
       " <tf.Variable 'lambda_1_components/0_2_1_0_3:0' shape=() dtype=float32_ref>,\n",
       " <tf.Variable 'lambda_1_components/0_2_1_0_4:0' shape=() dtype=float32_ref>,\n",
       " <tf.Variable 'lambda_1_components/0_2_2_0_0:0' shape=() dtype=float32_ref>,\n",
       " <tf.Variable 'lambda_1_components/0_2_2_0_1:0' shape=() dtype=float32_ref>,\n",
       " <tf.Variable 'lambda_1_components/0_2_2_0_2:0' shape=() dtype=float32_ref>,\n",
       " <tf.Variable 'lambda_1_components/0_2_2_0_3:0' shape=() dtype=float32_ref>,\n",
       " <tf.Variable 'lambda_1_components/0_2_2_0_4:0' shape=() dtype=float32_ref>,\n",
       " <tf.Variable 'lambda_1_components/0_2_3_0_0:0' shape=() dtype=float32_ref>,\n",
       " <tf.Variable 'lambda_1_components/0_2_3_0_1:0' shape=() dtype=float32_ref>,\n",
       " <tf.Variable 'lambda_1_components/0_2_3_0_2:0' shape=() dtype=float32_ref>,\n",
       " <tf.Variable 'lambda_1_components/0_2_3_0_3:0' shape=() dtype=float32_ref>,\n",
       " <tf.Variable 'lambda_1_components/0_2_3_0_4:0' shape=() dtype=float32_ref>,\n",
       " <tf.Variable 'lambda_1_components/1_0_0_0_0:0' shape=() dtype=float32_ref>,\n",
       " <tf.Variable 'lambda_1_components/1_0_0_0_1:0' shape=() dtype=float32_ref>,\n",
       " <tf.Variable 'lambda_1_components/1_0_0_0_2:0' shape=() dtype=float32_ref>,\n",
       " <tf.Variable 'lambda_1_components/1_0_0_0_3:0' shape=() dtype=float32_ref>,\n",
       " <tf.Variable 'lambda_1_components/1_0_0_0_4:0' shape=() dtype=float32_ref>,\n",
       " <tf.Variable 'lambda_1_components/1_0_1_0_0:0' shape=() dtype=float32_ref>,\n",
       " <tf.Variable 'lambda_1_components/1_0_1_0_1:0' shape=() dtype=float32_ref>,\n",
       " <tf.Variable 'lambda_1_components/1_0_1_0_2:0' shape=() dtype=float32_ref>,\n",
       " <tf.Variable 'lambda_1_components/1_0_1_0_3:0' shape=() dtype=float32_ref>,\n",
       " <tf.Variable 'lambda_1_components/1_0_1_0_4:0' shape=() dtype=float32_ref>,\n",
       " <tf.Variable 'lambda_1_components/1_0_2_0_0:0' shape=() dtype=float32_ref>,\n",
       " <tf.Variable 'lambda_1_components/1_0_2_0_1:0' shape=() dtype=float32_ref>,\n",
       " <tf.Variable 'lambda_1_components/1_0_2_0_2:0' shape=() dtype=float32_ref>,\n",
       " <tf.Variable 'lambda_1_components/1_0_2_0_3:0' shape=() dtype=float32_ref>,\n",
       " <tf.Variable 'lambda_1_components/1_0_2_0_4:0' shape=() dtype=float32_ref>,\n",
       " <tf.Variable 'lambda_1_components/1_0_3_0_0:0' shape=() dtype=float32_ref>,\n",
       " <tf.Variable 'lambda_1_components/1_0_3_0_1:0' shape=() dtype=float32_ref>,\n",
       " <tf.Variable 'lambda_1_components/1_0_3_0_2:0' shape=() dtype=float32_ref>,\n",
       " <tf.Variable 'lambda_1_components/1_0_3_0_3:0' shape=() dtype=float32_ref>,\n",
       " <tf.Variable 'lambda_1_components/1_0_3_0_4:0' shape=() dtype=float32_ref>,\n",
       " <tf.Variable 'lambda_1_components/1_1_0_0_0:0' shape=() dtype=float32_ref>,\n",
       " <tf.Variable 'lambda_1_components/1_1_0_0_1:0' shape=() dtype=float32_ref>,\n",
       " <tf.Variable 'lambda_1_components/1_1_0_0_2:0' shape=() dtype=float32_ref>,\n",
       " <tf.Variable 'lambda_1_components/1_1_0_0_3:0' shape=() dtype=float32_ref>,\n",
       " <tf.Variable 'lambda_1_components/1_1_0_0_4:0' shape=() dtype=float32_ref>,\n",
       " <tf.Variable 'lambda_1_components/1_1_1_0_0:0' shape=() dtype=float32_ref>,\n",
       " <tf.Variable 'lambda_1_components/1_1_1_0_1:0' shape=() dtype=float32_ref>,\n",
       " <tf.Variable 'lambda_1_components/1_1_1_0_2:0' shape=() dtype=float32_ref>,\n",
       " <tf.Variable 'lambda_1_components/1_1_1_0_3:0' shape=() dtype=float32_ref>,\n",
       " <tf.Variable 'lambda_1_components/1_1_1_0_4:0' shape=() dtype=float32_ref>,\n",
       " <tf.Variable 'lambda_1_components/1_1_2_0_0:0' shape=() dtype=float32_ref>,\n",
       " <tf.Variable 'lambda_1_components/1_1_2_0_1:0' shape=() dtype=float32_ref>,\n",
       " <tf.Variable 'lambda_1_components/1_1_2_0_2:0' shape=() dtype=float32_ref>,\n",
       " <tf.Variable 'lambda_1_components/1_1_2_0_3:0' shape=() dtype=float32_ref>,\n",
       " <tf.Variable 'lambda_1_components/1_1_2_0_4:0' shape=() dtype=float32_ref>,\n",
       " <tf.Variable 'lambda_1_components/1_1_3_0_0:0' shape=() dtype=float32_ref>,\n",
       " <tf.Variable 'lambda_1_components/1_1_3_0_1:0' shape=() dtype=float32_ref>,\n",
       " <tf.Variable 'lambda_1_components/1_1_3_0_2:0' shape=() dtype=float32_ref>,\n",
       " <tf.Variable 'lambda_1_components/1_1_3_0_3:0' shape=() dtype=float32_ref>,\n",
       " <tf.Variable 'lambda_1_components/1_1_3_0_4:0' shape=() dtype=float32_ref>,\n",
       " <tf.Variable 'lambda_1_components/1_2_0_0_0:0' shape=() dtype=float32_ref>,\n",
       " <tf.Variable 'lambda_1_components/1_2_0_0_1:0' shape=() dtype=float32_ref>,\n",
       " <tf.Variable 'lambda_1_components/1_2_0_0_2:0' shape=() dtype=float32_ref>,\n",
       " <tf.Variable 'lambda_1_components/1_2_0_0_3:0' shape=() dtype=float32_ref>,\n",
       " <tf.Variable 'lambda_1_components/1_2_0_0_4:0' shape=() dtype=float32_ref>,\n",
       " <tf.Variable 'lambda_1_components/1_2_1_0_0:0' shape=() dtype=float32_ref>,\n",
       " <tf.Variable 'lambda_1_components/1_2_1_0_1:0' shape=() dtype=float32_ref>,\n",
       " <tf.Variable 'lambda_1_components/1_2_1_0_2:0' shape=() dtype=float32_ref>,\n",
       " <tf.Variable 'lambda_1_components/1_2_1_0_3:0' shape=() dtype=float32_ref>,\n",
       " <tf.Variable 'lambda_1_components/1_2_1_0_4:0' shape=() dtype=float32_ref>,\n",
       " <tf.Variable 'lambda_1_components/1_2_2_0_0:0' shape=() dtype=float32_ref>,\n",
       " <tf.Variable 'lambda_1_components/1_2_2_0_1:0' shape=() dtype=float32_ref>,\n",
       " <tf.Variable 'lambda_1_components/1_2_2_0_2:0' shape=() dtype=float32_ref>,\n",
       " <tf.Variable 'lambda_1_components/1_2_2_0_3:0' shape=() dtype=float32_ref>,\n",
       " <tf.Variable 'lambda_1_components/1_2_2_0_4:0' shape=() dtype=float32_ref>,\n",
       " <tf.Variable 'lambda_1_components/1_2_3_0_0:0' shape=() dtype=float32_ref>,\n",
       " <tf.Variable 'lambda_1_components/1_2_3_0_1:0' shape=() dtype=float32_ref>,\n",
       " <tf.Variable 'lambda_1_components/1_2_3_0_2:0' shape=() dtype=float32_ref>,\n",
       " <tf.Variable 'lambda_1_components/1_2_3_0_3:0' shape=() dtype=float32_ref>,\n",
       " <tf.Variable 'lambda_1_components/1_2_3_0_4:0' shape=() dtype=float32_ref>,\n",
       " <tf.Variable 'lambda_11_components/0_0_0_0_0:0' shape=() dtype=float32_ref>,\n",
       " <tf.Variable 'lambda_11_components/0_0_0_0_1:0' shape=() dtype=float32_ref>,\n",
       " <tf.Variable 'lambda_11_components/0_0_0_0_2:0' shape=() dtype=float32_ref>,\n",
       " <tf.Variable 'lambda_11_components/0_0_0_0_3:0' shape=() dtype=float32_ref>,\n",
       " <tf.Variable 'lambda_11_components/0_0_0_0_4:0' shape=() dtype=float32_ref>,\n",
       " <tf.Variable 'lambda_11_components/0_0_1_0_0:0' shape=() dtype=float32_ref>,\n",
       " <tf.Variable 'lambda_11_components/0_0_1_0_1:0' shape=() dtype=float32_ref>,\n",
       " <tf.Variable 'lambda_11_components/0_0_1_0_2:0' shape=() dtype=float32_ref>,\n",
       " <tf.Variable 'lambda_11_components/0_0_1_0_3:0' shape=() dtype=float32_ref>,\n",
       " <tf.Variable 'lambda_11_components/0_0_1_0_4:0' shape=() dtype=float32_ref>,\n",
       " <tf.Variable 'lambda_11_components/0_0_2_0_0:0' shape=() dtype=float32_ref>,\n",
       " <tf.Variable 'lambda_11_components/0_0_2_0_1:0' shape=() dtype=float32_ref>,\n",
       " <tf.Variable 'lambda_11_components/0_0_2_0_2:0' shape=() dtype=float32_ref>,\n",
       " <tf.Variable 'lambda_11_components/0_0_2_0_3:0' shape=() dtype=float32_ref>,\n",
       " <tf.Variable 'lambda_11_components/0_0_2_0_4:0' shape=() dtype=float32_ref>,\n",
       " <tf.Variable 'lambda_11_components/0_0_3_0_0:0' shape=() dtype=float32_ref>,\n",
       " <tf.Variable 'lambda_11_components/0_0_3_0_1:0' shape=() dtype=float32_ref>,\n",
       " <tf.Variable 'lambda_11_components/0_0_3_0_2:0' shape=() dtype=float32_ref>,\n",
       " <tf.Variable 'lambda_11_components/0_0_3_0_3:0' shape=() dtype=float32_ref>,\n",
       " <tf.Variable 'lambda_11_components/0_0_3_0_4:0' shape=() dtype=float32_ref>,\n",
       " <tf.Variable 'lambda_11_components/0_1_0_0_0:0' shape=() dtype=float32_ref>,\n",
       " <tf.Variable 'lambda_11_components/0_1_0_0_1:0' shape=() dtype=float32_ref>,\n",
       " <tf.Variable 'lambda_11_components/0_1_0_0_2:0' shape=() dtype=float32_ref>,\n",
       " <tf.Variable 'lambda_11_components/0_1_0_0_3:0' shape=() dtype=float32_ref>,\n",
       " <tf.Variable 'lambda_11_components/0_1_0_0_4:0' shape=() dtype=float32_ref>,\n",
       " <tf.Variable 'lambda_11_components/0_1_1_0_0:0' shape=() dtype=float32_ref>,\n",
       " <tf.Variable 'lambda_11_components/0_1_1_0_1:0' shape=() dtype=float32_ref>,\n",
       " <tf.Variable 'lambda_11_components/0_1_1_0_2:0' shape=() dtype=float32_ref>,\n",
       " <tf.Variable 'lambda_11_components/0_1_1_0_3:0' shape=() dtype=float32_ref>,\n",
       " <tf.Variable 'lambda_11_components/0_1_1_0_4:0' shape=() dtype=float32_ref>,\n",
       " <tf.Variable 'lambda_11_components/0_1_2_0_0:0' shape=() dtype=float32_ref>,\n",
       " <tf.Variable 'lambda_11_components/0_1_2_0_1:0' shape=() dtype=float32_ref>,\n",
       " <tf.Variable 'lambda_11_components/0_1_2_0_2:0' shape=() dtype=float32_ref>,\n",
       " <tf.Variable 'lambda_11_components/0_1_2_0_3:0' shape=() dtype=float32_ref>,\n",
       " <tf.Variable 'lambda_11_components/0_1_2_0_4:0' shape=() dtype=float32_ref>,\n",
       " <tf.Variable 'lambda_11_components/0_1_3_0_0:0' shape=() dtype=float32_ref>,\n",
       " <tf.Variable 'lambda_11_components/0_1_3_0_1:0' shape=() dtype=float32_ref>,\n",
       " <tf.Variable 'lambda_11_components/0_1_3_0_2:0' shape=() dtype=float32_ref>,\n",
       " <tf.Variable 'lambda_11_components/0_1_3_0_3:0' shape=() dtype=float32_ref>,\n",
       " <tf.Variable 'lambda_11_components/0_1_3_0_4:0' shape=() dtype=float32_ref>,\n",
       " <tf.Variable 'lambda_11_components/0_2_0_0_0:0' shape=() dtype=float32_ref>,\n",
       " <tf.Variable 'lambda_11_components/0_2_0_0_1:0' shape=() dtype=float32_ref>,\n",
       " <tf.Variable 'lambda_11_components/0_2_0_0_2:0' shape=() dtype=float32_ref>,\n",
       " <tf.Variable 'lambda_11_components/0_2_0_0_3:0' shape=() dtype=float32_ref>,\n",
       " <tf.Variable 'lambda_11_components/0_2_0_0_4:0' shape=() dtype=float32_ref>,\n",
       " <tf.Variable 'lambda_11_components/0_2_1_0_0:0' shape=() dtype=float32_ref>,\n",
       " <tf.Variable 'lambda_11_components/0_2_1_0_1:0' shape=() dtype=float32_ref>,\n",
       " <tf.Variable 'lambda_11_components/0_2_1_0_2:0' shape=() dtype=float32_ref>,\n",
       " <tf.Variable 'lambda_11_components/0_2_1_0_3:0' shape=() dtype=float32_ref>,\n",
       " <tf.Variable 'lambda_11_components/0_2_1_0_4:0' shape=() dtype=float32_ref>,\n",
       " <tf.Variable 'lambda_11_components/0_2_2_0_0:0' shape=() dtype=float32_ref>,\n",
       " <tf.Variable 'lambda_11_components/0_2_2_0_1:0' shape=() dtype=float32_ref>,\n",
       " <tf.Variable 'lambda_11_components/0_2_2_0_2:0' shape=() dtype=float32_ref>,\n",
       " <tf.Variable 'lambda_11_components/0_2_2_0_3:0' shape=() dtype=float32_ref>,\n",
       " <tf.Variable 'lambda_11_components/0_2_2_0_4:0' shape=() dtype=float32_ref>,\n",
       " <tf.Variable 'lambda_11_components/0_2_3_0_0:0' shape=() dtype=float32_ref>,\n",
       " <tf.Variable 'lambda_11_components/0_2_3_0_1:0' shape=() dtype=float32_ref>,\n",
       " <tf.Variable 'lambda_11_components/0_2_3_0_2:0' shape=() dtype=float32_ref>,\n",
       " <tf.Variable 'lambda_11_components/0_2_3_0_3:0' shape=() dtype=float32_ref>,\n",
       " <tf.Variable 'lambda_11_components/0_2_3_0_4:0' shape=() dtype=float32_ref>,\n",
       " <tf.Variable 'lambda_11_components/1_0_0_0_0:0' shape=() dtype=float32_ref>,\n",
       " <tf.Variable 'lambda_11_components/1_0_0_0_1:0' shape=() dtype=float32_ref>,\n",
       " <tf.Variable 'lambda_11_components/1_0_0_0_2:0' shape=() dtype=float32_ref>,\n",
       " <tf.Variable 'lambda_11_components/1_0_0_0_3:0' shape=() dtype=float32_ref>,\n",
       " <tf.Variable 'lambda_11_components/1_0_0_0_4:0' shape=() dtype=float32_ref>,\n",
       " <tf.Variable 'lambda_11_components/1_0_1_0_0:0' shape=() dtype=float32_ref>,\n",
       " <tf.Variable 'lambda_11_components/1_0_1_0_1:0' shape=() dtype=float32_ref>,\n",
       " <tf.Variable 'lambda_11_components/1_0_1_0_2:0' shape=() dtype=float32_ref>,\n",
       " <tf.Variable 'lambda_11_components/1_0_1_0_3:0' shape=() dtype=float32_ref>,\n",
       " <tf.Variable 'lambda_11_components/1_0_1_0_4:0' shape=() dtype=float32_ref>,\n",
       " <tf.Variable 'lambda_11_components/1_0_2_0_0:0' shape=() dtype=float32_ref>,\n",
       " <tf.Variable 'lambda_11_components/1_0_2_0_1:0' shape=() dtype=float32_ref>,\n",
       " <tf.Variable 'lambda_11_components/1_0_2_0_2:0' shape=() dtype=float32_ref>,\n",
       " <tf.Variable 'lambda_11_components/1_0_2_0_3:0' shape=() dtype=float32_ref>,\n",
       " <tf.Variable 'lambda_11_components/1_0_2_0_4:0' shape=() dtype=float32_ref>,\n",
       " <tf.Variable 'lambda_11_components/1_0_3_0_0:0' shape=() dtype=float32_ref>,\n",
       " <tf.Variable 'lambda_11_components/1_0_3_0_1:0' shape=() dtype=float32_ref>,\n",
       " <tf.Variable 'lambda_11_components/1_0_3_0_2:0' shape=() dtype=float32_ref>,\n",
       " <tf.Variable 'lambda_11_components/1_0_3_0_3:0' shape=() dtype=float32_ref>,\n",
       " <tf.Variable 'lambda_11_components/1_0_3_0_4:0' shape=() dtype=float32_ref>,\n",
       " <tf.Variable 'lambda_11_components/1_1_0_0_0:0' shape=() dtype=float32_ref>,\n",
       " <tf.Variable 'lambda_11_components/1_1_0_0_1:0' shape=() dtype=float32_ref>,\n",
       " <tf.Variable 'lambda_11_components/1_1_0_0_2:0' shape=() dtype=float32_ref>,\n",
       " <tf.Variable 'lambda_11_components/1_1_0_0_3:0' shape=() dtype=float32_ref>,\n",
       " <tf.Variable 'lambda_11_components/1_1_0_0_4:0' shape=() dtype=float32_ref>,\n",
       " <tf.Variable 'lambda_11_components/1_1_1_0_0:0' shape=() dtype=float32_ref>,\n",
       " <tf.Variable 'lambda_11_components/1_1_1_0_1:0' shape=() dtype=float32_ref>,\n",
       " <tf.Variable 'lambda_11_components/1_1_1_0_2:0' shape=() dtype=float32_ref>,\n",
       " <tf.Variable 'lambda_11_components/1_1_1_0_3:0' shape=() dtype=float32_ref>,\n",
       " <tf.Variable 'lambda_11_components/1_1_1_0_4:0' shape=() dtype=float32_ref>,\n",
       " <tf.Variable 'lambda_11_components/1_1_2_0_0:0' shape=() dtype=float32_ref>,\n",
       " <tf.Variable 'lambda_11_components/1_1_2_0_1:0' shape=() dtype=float32_ref>,\n",
       " <tf.Variable 'lambda_11_components/1_1_2_0_2:0' shape=() dtype=float32_ref>,\n",
       " <tf.Variable 'lambda_11_components/1_1_2_0_3:0' shape=() dtype=float32_ref>,\n",
       " <tf.Variable 'lambda_11_components/1_1_2_0_4:0' shape=() dtype=float32_ref>,\n",
       " <tf.Variable 'lambda_11_components/1_1_3_0_0:0' shape=() dtype=float32_ref>,\n",
       " <tf.Variable 'lambda_11_components/1_1_3_0_1:0' shape=() dtype=float32_ref>,\n",
       " <tf.Variable 'lambda_11_components/1_1_3_0_2:0' shape=() dtype=float32_ref>,\n",
       " <tf.Variable 'lambda_11_components/1_1_3_0_3:0' shape=() dtype=float32_ref>,\n",
       " <tf.Variable 'lambda_11_components/1_1_3_0_4:0' shape=() dtype=float32_ref>,\n",
       " <tf.Variable 'lambda_11_components/1_2_0_0_0:0' shape=() dtype=float32_ref>,\n",
       " <tf.Variable 'lambda_11_components/1_2_0_0_1:0' shape=() dtype=float32_ref>,\n",
       " <tf.Variable 'lambda_11_components/1_2_0_0_2:0' shape=() dtype=float32_ref>,\n",
       " <tf.Variable 'lambda_11_components/1_2_0_0_3:0' shape=() dtype=float32_ref>,\n",
       " <tf.Variable 'lambda_11_components/1_2_0_0_4:0' shape=() dtype=float32_ref>,\n",
       " <tf.Variable 'lambda_11_components/1_2_1_0_0:0' shape=() dtype=float32_ref>,\n",
       " <tf.Variable 'lambda_11_components/1_2_1_0_1:0' shape=() dtype=float32_ref>,\n",
       " <tf.Variable 'lambda_11_components/1_2_1_0_2:0' shape=() dtype=float32_ref>,\n",
       " <tf.Variable 'lambda_11_components/1_2_1_0_3:0' shape=() dtype=float32_ref>,\n",
       " <tf.Variable 'lambda_11_components/1_2_1_0_4:0' shape=() dtype=float32_ref>,\n",
       " <tf.Variable 'lambda_11_components/1_2_2_0_0:0' shape=() dtype=float32_ref>,\n",
       " <tf.Variable 'lambda_11_components/1_2_2_0_1:0' shape=() dtype=float32_ref>,\n",
       " <tf.Variable 'lambda_11_components/1_2_2_0_2:0' shape=() dtype=float32_ref>,\n",
       " <tf.Variable 'lambda_11_components/1_2_2_0_3:0' shape=() dtype=float32_ref>,\n",
       " <tf.Variable 'lambda_11_components/1_2_2_0_4:0' shape=() dtype=float32_ref>,\n",
       " <tf.Variable 'lambda_11_components/1_2_3_0_0:0' shape=() dtype=float32_ref>,\n",
       " <tf.Variable 'lambda_11_components/1_2_3_0_1:0' shape=() dtype=float32_ref>,\n",
       " <tf.Variable 'lambda_11_components/1_2_3_0_2:0' shape=() dtype=float32_ref>,\n",
       " <tf.Variable 'lambda_11_components/1_2_3_0_3:0' shape=() dtype=float32_ref>,\n",
       " <tf.Variable 'lambda_11_components/1_2_3_0_4:0' shape=() dtype=float32_ref>,\n",
       " <tf.Variable 'lambda_111_components/0_0_0_0_0:0' shape=() dtype=float32_ref>,\n",
       " <tf.Variable 'lambda_111_components/0_0_0_0_1:0' shape=() dtype=float32_ref>,\n",
       " <tf.Variable 'lambda_111_components/0_0_0_0_2:0' shape=() dtype=float32_ref>,\n",
       " <tf.Variable 'lambda_111_components/0_0_0_0_3:0' shape=() dtype=float32_ref>,\n",
       " <tf.Variable 'lambda_111_components/0_0_0_0_4:0' shape=() dtype=float32_ref>,\n",
       " <tf.Variable 'lambda_111_components/0_0_1_0_0:0' shape=() dtype=float32_ref>,\n",
       " <tf.Variable 'lambda_111_components/0_0_1_0_1:0' shape=() dtype=float32_ref>,\n",
       " <tf.Variable 'lambda_111_components/0_0_1_0_2:0' shape=() dtype=float32_ref>,\n",
       " <tf.Variable 'lambda_111_components/0_0_1_0_3:0' shape=() dtype=float32_ref>,\n",
       " <tf.Variable 'lambda_111_components/0_0_1_0_4:0' shape=() dtype=float32_ref>,\n",
       " <tf.Variable 'lambda_111_components/0_0_2_0_0:0' shape=() dtype=float32_ref>,\n",
       " <tf.Variable 'lambda_111_components/0_0_2_0_1:0' shape=() dtype=float32_ref>,\n",
       " <tf.Variable 'lambda_111_components/0_0_2_0_2:0' shape=() dtype=float32_ref>,\n",
       " <tf.Variable 'lambda_111_components/0_0_2_0_3:0' shape=() dtype=float32_ref>,\n",
       " <tf.Variable 'lambda_111_components/0_0_2_0_4:0' shape=() dtype=float32_ref>,\n",
       " <tf.Variable 'lambda_111_components/0_0_3_0_0:0' shape=() dtype=float32_ref>,\n",
       " <tf.Variable 'lambda_111_components/0_0_3_0_1:0' shape=() dtype=float32_ref>,\n",
       " <tf.Variable 'lambda_111_components/0_0_3_0_2:0' shape=() dtype=float32_ref>,\n",
       " <tf.Variable 'lambda_111_components/0_0_3_0_3:0' shape=() dtype=float32_ref>,\n",
       " <tf.Variable 'lambda_111_components/0_0_3_0_4:0' shape=() dtype=float32_ref>,\n",
       " <tf.Variable 'lambda_111_components/0_1_0_0_0:0' shape=() dtype=float32_ref>,\n",
       " <tf.Variable 'lambda_111_components/0_1_0_0_1:0' shape=() dtype=float32_ref>,\n",
       " <tf.Variable 'lambda_111_components/0_1_0_0_2:0' shape=() dtype=float32_ref>,\n",
       " <tf.Variable 'lambda_111_components/0_1_0_0_3:0' shape=() dtype=float32_ref>,\n",
       " <tf.Variable 'lambda_111_components/0_1_0_0_4:0' shape=() dtype=float32_ref>,\n",
       " <tf.Variable 'lambda_111_components/0_1_1_0_0:0' shape=() dtype=float32_ref>,\n",
       " <tf.Variable 'lambda_111_components/0_1_1_0_1:0' shape=() dtype=float32_ref>,\n",
       " <tf.Variable 'lambda_111_components/0_1_1_0_2:0' shape=() dtype=float32_ref>,\n",
       " <tf.Variable 'lambda_111_components/0_1_1_0_3:0' shape=() dtype=float32_ref>,\n",
       " <tf.Variable 'lambda_111_components/0_1_1_0_4:0' shape=() dtype=float32_ref>,\n",
       " <tf.Variable 'lambda_111_components/0_1_2_0_0:0' shape=() dtype=float32_ref>,\n",
       " <tf.Variable 'lambda_111_components/0_1_2_0_1:0' shape=() dtype=float32_ref>,\n",
       " <tf.Variable 'lambda_111_components/0_1_2_0_2:0' shape=() dtype=float32_ref>,\n",
       " <tf.Variable 'lambda_111_components/0_1_2_0_3:0' shape=() dtype=float32_ref>,\n",
       " <tf.Variable 'lambda_111_components/0_1_2_0_4:0' shape=() dtype=float32_ref>,\n",
       " <tf.Variable 'lambda_111_components/0_1_3_0_0:0' shape=() dtype=float32_ref>,\n",
       " <tf.Variable 'lambda_111_components/0_1_3_0_1:0' shape=() dtype=float32_ref>,\n",
       " <tf.Variable 'lambda_111_components/0_1_3_0_2:0' shape=() dtype=float32_ref>,\n",
       " <tf.Variable 'lambda_111_components/0_1_3_0_3:0' shape=() dtype=float32_ref>,\n",
       " <tf.Variable 'lambda_111_components/0_1_3_0_4:0' shape=() dtype=float32_ref>,\n",
       " <tf.Variable 'lambda_111_components/0_2_0_0_0:0' shape=() dtype=float32_ref>,\n",
       " <tf.Variable 'lambda_111_components/0_2_0_0_1:0' shape=() dtype=float32_ref>,\n",
       " <tf.Variable 'lambda_111_components/0_2_0_0_2:0' shape=() dtype=float32_ref>,\n",
       " <tf.Variable 'lambda_111_components/0_2_0_0_3:0' shape=() dtype=float32_ref>,\n",
       " <tf.Variable 'lambda_111_components/0_2_0_0_4:0' shape=() dtype=float32_ref>,\n",
       " <tf.Variable 'lambda_111_components/0_2_1_0_0:0' shape=() dtype=float32_ref>,\n",
       " <tf.Variable 'lambda_111_components/0_2_1_0_1:0' shape=() dtype=float32_ref>,\n",
       " <tf.Variable 'lambda_111_components/0_2_1_0_2:0' shape=() dtype=float32_ref>,\n",
       " <tf.Variable 'lambda_111_components/0_2_1_0_3:0' shape=() dtype=float32_ref>,\n",
       " <tf.Variable 'lambda_111_components/0_2_1_0_4:0' shape=() dtype=float32_ref>,\n",
       " <tf.Variable 'lambda_111_components/0_2_2_0_0:0' shape=() dtype=float32_ref>,\n",
       " <tf.Variable 'lambda_111_components/0_2_2_0_1:0' shape=() dtype=float32_ref>,\n",
       " <tf.Variable 'lambda_111_components/0_2_2_0_2:0' shape=() dtype=float32_ref>,\n",
       " <tf.Variable 'lambda_111_components/0_2_2_0_3:0' shape=() dtype=float32_ref>,\n",
       " <tf.Variable 'lambda_111_components/0_2_2_0_4:0' shape=() dtype=float32_ref>,\n",
       " <tf.Variable 'lambda_111_components/0_2_3_0_0:0' shape=() dtype=float32_ref>,\n",
       " <tf.Variable 'lambda_111_components/0_2_3_0_1:0' shape=() dtype=float32_ref>,\n",
       " <tf.Variable 'lambda_111_components/0_2_3_0_2:0' shape=() dtype=float32_ref>,\n",
       " <tf.Variable 'lambda_111_components/0_2_3_0_3:0' shape=() dtype=float32_ref>,\n",
       " <tf.Variable 'lambda_111_components/0_2_3_0_4:0' shape=() dtype=float32_ref>,\n",
       " <tf.Variable 'lambda_111_components/1_0_0_0_0:0' shape=() dtype=float32_ref>,\n",
       " <tf.Variable 'lambda_111_components/1_0_0_0_1:0' shape=() dtype=float32_ref>,\n",
       " <tf.Variable 'lambda_111_components/1_0_0_0_2:0' shape=() dtype=float32_ref>,\n",
       " <tf.Variable 'lambda_111_components/1_0_0_0_3:0' shape=() dtype=float32_ref>,\n",
       " <tf.Variable 'lambda_111_components/1_0_0_0_4:0' shape=() dtype=float32_ref>,\n",
       " <tf.Variable 'lambda_111_components/1_0_1_0_0:0' shape=() dtype=float32_ref>,\n",
       " <tf.Variable 'lambda_111_components/1_0_1_0_1:0' shape=() dtype=float32_ref>,\n",
       " <tf.Variable 'lambda_111_components/1_0_1_0_2:0' shape=() dtype=float32_ref>,\n",
       " <tf.Variable 'lambda_111_components/1_0_1_0_3:0' shape=() dtype=float32_ref>,\n",
       " <tf.Variable 'lambda_111_components/1_0_1_0_4:0' shape=() dtype=float32_ref>,\n",
       " <tf.Variable 'lambda_111_components/1_0_2_0_0:0' shape=() dtype=float32_ref>,\n",
       " <tf.Variable 'lambda_111_components/1_0_2_0_1:0' shape=() dtype=float32_ref>,\n",
       " <tf.Variable 'lambda_111_components/1_0_2_0_2:0' shape=() dtype=float32_ref>,\n",
       " <tf.Variable 'lambda_111_components/1_0_2_0_3:0' shape=() dtype=float32_ref>,\n",
       " <tf.Variable 'lambda_111_components/1_0_2_0_4:0' shape=() dtype=float32_ref>,\n",
       " <tf.Variable 'lambda_111_components/1_0_3_0_0:0' shape=() dtype=float32_ref>,\n",
       " <tf.Variable 'lambda_111_components/1_0_3_0_1:0' shape=() dtype=float32_ref>,\n",
       " <tf.Variable 'lambda_111_components/1_0_3_0_2:0' shape=() dtype=float32_ref>,\n",
       " <tf.Variable 'lambda_111_components/1_0_3_0_3:0' shape=() dtype=float32_ref>,\n",
       " <tf.Variable 'lambda_111_components/1_0_3_0_4:0' shape=() dtype=float32_ref>,\n",
       " <tf.Variable 'lambda_111_components/1_1_0_0_0:0' shape=() dtype=float32_ref>,\n",
       " <tf.Variable 'lambda_111_components/1_1_0_0_1:0' shape=() dtype=float32_ref>,\n",
       " <tf.Variable 'lambda_111_components/1_1_0_0_2:0' shape=() dtype=float32_ref>,\n",
       " <tf.Variable 'lambda_111_components/1_1_0_0_3:0' shape=() dtype=float32_ref>,\n",
       " <tf.Variable 'lambda_111_components/1_1_0_0_4:0' shape=() dtype=float32_ref>,\n",
       " <tf.Variable 'lambda_111_components/1_1_1_0_0:0' shape=() dtype=float32_ref>,\n",
       " <tf.Variable 'lambda_111_components/1_1_1_0_1:0' shape=() dtype=float32_ref>,\n",
       " <tf.Variable 'lambda_111_components/1_1_1_0_2:0' shape=() dtype=float32_ref>,\n",
       " <tf.Variable 'lambda_111_components/1_1_1_0_3:0' shape=() dtype=float32_ref>,\n",
       " <tf.Variable 'lambda_111_components/1_1_1_0_4:0' shape=() dtype=float32_ref>,\n",
       " <tf.Variable 'lambda_111_components/1_1_2_0_0:0' shape=() dtype=float32_ref>,\n",
       " <tf.Variable 'lambda_111_components/1_1_2_0_1:0' shape=() dtype=float32_ref>,\n",
       " <tf.Variable 'lambda_111_components/1_1_2_0_2:0' shape=() dtype=float32_ref>,\n",
       " <tf.Variable 'lambda_111_components/1_1_2_0_3:0' shape=() dtype=float32_ref>,\n",
       " <tf.Variable 'lambda_111_components/1_1_2_0_4:0' shape=() dtype=float32_ref>,\n",
       " <tf.Variable 'lambda_111_components/1_1_3_0_0:0' shape=() dtype=float32_ref>,\n",
       " <tf.Variable 'lambda_111_components/1_1_3_0_1:0' shape=() dtype=float32_ref>,\n",
       " <tf.Variable 'lambda_111_components/1_1_3_0_2:0' shape=() dtype=float32_ref>,\n",
       " <tf.Variable 'lambda_111_components/1_1_3_0_3:0' shape=() dtype=float32_ref>,\n",
       " <tf.Variable 'lambda_111_components/1_1_3_0_4:0' shape=() dtype=float32_ref>,\n",
       " <tf.Variable 'lambda_111_components/1_2_0_0_0:0' shape=() dtype=float32_ref>,\n",
       " <tf.Variable 'lambda_111_components/1_2_0_0_1:0' shape=() dtype=float32_ref>,\n",
       " <tf.Variable 'lambda_111_components/1_2_0_0_2:0' shape=() dtype=float32_ref>,\n",
       " <tf.Variable 'lambda_111_components/1_2_0_0_3:0' shape=() dtype=float32_ref>,\n",
       " <tf.Variable 'lambda_111_components/1_2_0_0_4:0' shape=() dtype=float32_ref>,\n",
       " <tf.Variable 'lambda_111_components/1_2_1_0_0:0' shape=() dtype=float32_ref>,\n",
       " <tf.Variable 'lambda_111_components/1_2_1_0_1:0' shape=() dtype=float32_ref>,\n",
       " <tf.Variable 'lambda_111_components/1_2_1_0_2:0' shape=() dtype=float32_ref>,\n",
       " <tf.Variable 'lambda_111_components/1_2_1_0_3:0' shape=() dtype=float32_ref>,\n",
       " <tf.Variable 'lambda_111_components/1_2_1_0_4:0' shape=() dtype=float32_ref>,\n",
       " <tf.Variable 'lambda_111_components/1_2_2_0_0:0' shape=() dtype=float32_ref>,\n",
       " <tf.Variable 'lambda_111_components/1_2_2_0_1:0' shape=() dtype=float32_ref>,\n",
       " <tf.Variable 'lambda_111_components/1_2_2_0_2:0' shape=() dtype=float32_ref>,\n",
       " <tf.Variable 'lambda_111_components/1_2_2_0_3:0' shape=() dtype=float32_ref>,\n",
       " <tf.Variable 'lambda_111_components/1_2_2_0_4:0' shape=() dtype=float32_ref>,\n",
       " <tf.Variable 'lambda_111_components/1_2_3_0_0:0' shape=() dtype=float32_ref>,\n",
       " <tf.Variable 'lambda_111_components/1_2_3_0_1:0' shape=() dtype=float32_ref>,\n",
       " <tf.Variable 'lambda_111_components/1_2_3_0_2:0' shape=() dtype=float32_ref>,\n",
       " <tf.Variable 'lambda_111_components/1_2_3_0_3:0' shape=() dtype=float32_ref>,\n",
       " <tf.Variable 'lambda_111_components/1_2_3_0_4:0' shape=() dtype=float32_ref>,\n",
       " <tf.Variable 'lambda_1112_components/0_0_0_0_0:0' shape=() dtype=float32_ref>,\n",
       " <tf.Variable 'lambda_1112_components/0_0_0_0_1:0' shape=() dtype=float32_ref>,\n",
       " <tf.Variable 'lambda_1112_components/0_0_0_0_2:0' shape=() dtype=float32_ref>,\n",
       " <tf.Variable 'lambda_1112_components/0_0_0_0_3:0' shape=() dtype=float32_ref>,\n",
       " <tf.Variable 'lambda_1112_components/0_0_0_0_4:0' shape=() dtype=float32_ref>,\n",
       " <tf.Variable 'lambda_1112_components/0_0_1_0_0:0' shape=() dtype=float32_ref>,\n",
       " <tf.Variable 'lambda_1112_components/0_0_1_0_1:0' shape=() dtype=float32_ref>,\n",
       " <tf.Variable 'lambda_1112_components/0_0_1_0_2:0' shape=() dtype=float32_ref>,\n",
       " <tf.Variable 'lambda_1112_components/0_0_1_0_3:0' shape=() dtype=float32_ref>,\n",
       " <tf.Variable 'lambda_1112_components/0_0_1_0_4:0' shape=() dtype=float32_ref>,\n",
       " <tf.Variable 'lambda_1112_components/0_0_2_0_0:0' shape=() dtype=float32_ref>,\n",
       " <tf.Variable 'lambda_1112_components/0_0_2_0_1:0' shape=() dtype=float32_ref>,\n",
       " <tf.Variable 'lambda_1112_components/0_0_2_0_2:0' shape=() dtype=float32_ref>,\n",
       " <tf.Variable 'lambda_1112_components/0_0_2_0_3:0' shape=() dtype=float32_ref>,\n",
       " <tf.Variable 'lambda_1112_components/0_0_2_0_4:0' shape=() dtype=float32_ref>,\n",
       " <tf.Variable 'lambda_1112_components/0_0_3_0_0:0' shape=() dtype=float32_ref>,\n",
       " <tf.Variable 'lambda_1112_components/0_0_3_0_1:0' shape=() dtype=float32_ref>,\n",
       " <tf.Variable 'lambda_1112_components/0_0_3_0_2:0' shape=() dtype=float32_ref>,\n",
       " <tf.Variable 'lambda_1112_components/0_0_3_0_3:0' shape=() dtype=float32_ref>,\n",
       " <tf.Variable 'lambda_1112_components/0_0_3_0_4:0' shape=() dtype=float32_ref>,\n",
       " <tf.Variable 'lambda_1112_components/0_1_0_0_0:0' shape=() dtype=float32_ref>,\n",
       " <tf.Variable 'lambda_1112_components/0_1_0_0_1:0' shape=() dtype=float32_ref>,\n",
       " <tf.Variable 'lambda_1112_components/0_1_0_0_2:0' shape=() dtype=float32_ref>,\n",
       " <tf.Variable 'lambda_1112_components/0_1_0_0_3:0' shape=() dtype=float32_ref>,\n",
       " <tf.Variable 'lambda_1112_components/0_1_0_0_4:0' shape=() dtype=float32_ref>,\n",
       " <tf.Variable 'lambda_1112_components/0_1_1_0_0:0' shape=() dtype=float32_ref>,\n",
       " <tf.Variable 'lambda_1112_components/0_1_1_0_1:0' shape=() dtype=float32_ref>,\n",
       " <tf.Variable 'lambda_1112_components/0_1_1_0_2:0' shape=() dtype=float32_ref>,\n",
       " <tf.Variable 'lambda_1112_components/0_1_1_0_3:0' shape=() dtype=float32_ref>,\n",
       " <tf.Variable 'lambda_1112_components/0_1_1_0_4:0' shape=() dtype=float32_ref>,\n",
       " <tf.Variable 'lambda_1112_components/0_1_2_0_0:0' shape=() dtype=float32_ref>,\n",
       " <tf.Variable 'lambda_1112_components/0_1_2_0_1:0' shape=() dtype=float32_ref>,\n",
       " <tf.Variable 'lambda_1112_components/0_1_2_0_2:0' shape=() dtype=float32_ref>,\n",
       " <tf.Variable 'lambda_1112_components/0_1_2_0_3:0' shape=() dtype=float32_ref>,\n",
       " <tf.Variable 'lambda_1112_components/0_1_2_0_4:0' shape=() dtype=float32_ref>,\n",
       " <tf.Variable 'lambda_1112_components/0_1_3_0_0:0' shape=() dtype=float32_ref>,\n",
       " <tf.Variable 'lambda_1112_components/0_1_3_0_1:0' shape=() dtype=float32_ref>,\n",
       " <tf.Variable 'lambda_1112_components/0_1_3_0_2:0' shape=() dtype=float32_ref>,\n",
       " <tf.Variable 'lambda_1112_components/0_1_3_0_3:0' shape=() dtype=float32_ref>,\n",
       " <tf.Variable 'lambda_1112_components/0_1_3_0_4:0' shape=() dtype=float32_ref>,\n",
       " <tf.Variable 'lambda_1112_components/0_2_0_0_0:0' shape=() dtype=float32_ref>,\n",
       " <tf.Variable 'lambda_1112_components/0_2_0_0_1:0' shape=() dtype=float32_ref>,\n",
       " <tf.Variable 'lambda_1112_components/0_2_0_0_2:0' shape=() dtype=float32_ref>,\n",
       " <tf.Variable 'lambda_1112_components/0_2_0_0_3:0' shape=() dtype=float32_ref>,\n",
       " <tf.Variable 'lambda_1112_components/0_2_0_0_4:0' shape=() dtype=float32_ref>,\n",
       " <tf.Variable 'lambda_1112_components/0_2_1_0_0:0' shape=() dtype=float32_ref>,\n",
       " <tf.Variable 'lambda_1112_components/0_2_1_0_1:0' shape=() dtype=float32_ref>,\n",
       " <tf.Variable 'lambda_1112_components/0_2_1_0_2:0' shape=() dtype=float32_ref>,\n",
       " <tf.Variable 'lambda_1112_components/0_2_1_0_3:0' shape=() dtype=float32_ref>,\n",
       " <tf.Variable 'lambda_1112_components/0_2_1_0_4:0' shape=() dtype=float32_ref>,\n",
       " <tf.Variable 'lambda_1112_components/0_2_2_0_0:0' shape=() dtype=float32_ref>,\n",
       " <tf.Variable 'lambda_1112_components/0_2_2_0_1:0' shape=() dtype=float32_ref>,\n",
       " <tf.Variable 'lambda_1112_components/0_2_2_0_2:0' shape=() dtype=float32_ref>,\n",
       " <tf.Variable 'lambda_1112_components/0_2_2_0_3:0' shape=() dtype=float32_ref>,\n",
       " <tf.Variable 'lambda_1112_components/0_2_2_0_4:0' shape=() dtype=float32_ref>,\n",
       " <tf.Variable 'lambda_1112_components/0_2_3_0_0:0' shape=() dtype=float32_ref>,\n",
       " <tf.Variable 'lambda_1112_components/0_2_3_0_1:0' shape=() dtype=float32_ref>,\n",
       " <tf.Variable 'lambda_1112_components/0_2_3_0_2:0' shape=() dtype=float32_ref>,\n",
       " <tf.Variable 'lambda_1112_components/0_2_3_0_3:0' shape=() dtype=float32_ref>,\n",
       " <tf.Variable 'lambda_1112_components/0_2_3_0_4:0' shape=() dtype=float32_ref>,\n",
       " <tf.Variable 'lambda_1112_components/1_0_0_0_0:0' shape=() dtype=float32_ref>,\n",
       " <tf.Variable 'lambda_1112_components/1_0_0_0_1:0' shape=() dtype=float32_ref>,\n",
       " <tf.Variable 'lambda_1112_components/1_0_0_0_2:0' shape=() dtype=float32_ref>,\n",
       " <tf.Variable 'lambda_1112_components/1_0_0_0_3:0' shape=() dtype=float32_ref>,\n",
       " <tf.Variable 'lambda_1112_components/1_0_0_0_4:0' shape=() dtype=float32_ref>,\n",
       " <tf.Variable 'lambda_1112_components/1_0_1_0_0:0' shape=() dtype=float32_ref>,\n",
       " <tf.Variable 'lambda_1112_components/1_0_1_0_1:0' shape=() dtype=float32_ref>,\n",
       " <tf.Variable 'lambda_1112_components/1_0_1_0_2:0' shape=() dtype=float32_ref>,\n",
       " <tf.Variable 'lambda_1112_components/1_0_1_0_3:0' shape=() dtype=float32_ref>,\n",
       " <tf.Variable 'lambda_1112_components/1_0_1_0_4:0' shape=() dtype=float32_ref>,\n",
       " <tf.Variable 'lambda_1112_components/1_0_2_0_0:0' shape=() dtype=float32_ref>,\n",
       " <tf.Variable 'lambda_1112_components/1_0_2_0_1:0' shape=() dtype=float32_ref>,\n",
       " <tf.Variable 'lambda_1112_components/1_0_2_0_2:0' shape=() dtype=float32_ref>,\n",
       " <tf.Variable 'lambda_1112_components/1_0_2_0_3:0' shape=() dtype=float32_ref>,\n",
       " <tf.Variable 'lambda_1112_components/1_0_2_0_4:0' shape=() dtype=float32_ref>,\n",
       " <tf.Variable 'lambda_1112_components/1_0_3_0_0:0' shape=() dtype=float32_ref>,\n",
       " <tf.Variable 'lambda_1112_components/1_0_3_0_1:0' shape=() dtype=float32_ref>,\n",
       " <tf.Variable 'lambda_1112_components/1_0_3_0_2:0' shape=() dtype=float32_ref>,\n",
       " <tf.Variable 'lambda_1112_components/1_0_3_0_3:0' shape=() dtype=float32_ref>,\n",
       " <tf.Variable 'lambda_1112_components/1_0_3_0_4:0' shape=() dtype=float32_ref>,\n",
       " <tf.Variable 'lambda_1112_components/1_1_0_0_0:0' shape=() dtype=float32_ref>,\n",
       " <tf.Variable 'lambda_1112_components/1_1_0_0_1:0' shape=() dtype=float32_ref>,\n",
       " <tf.Variable 'lambda_1112_components/1_1_0_0_2:0' shape=() dtype=float32_ref>,\n",
       " <tf.Variable 'lambda_1112_components/1_1_0_0_3:0' shape=() dtype=float32_ref>,\n",
       " <tf.Variable 'lambda_1112_components/1_1_0_0_4:0' shape=() dtype=float32_ref>,\n",
       " <tf.Variable 'lambda_1112_components/1_1_1_0_0:0' shape=() dtype=float32_ref>,\n",
       " <tf.Variable 'lambda_1112_components/1_1_1_0_1:0' shape=() dtype=float32_ref>,\n",
       " <tf.Variable 'lambda_1112_components/1_1_1_0_2:0' shape=() dtype=float32_ref>,\n",
       " <tf.Variable 'lambda_1112_components/1_1_1_0_3:0' shape=() dtype=float32_ref>,\n",
       " <tf.Variable 'lambda_1112_components/1_1_1_0_4:0' shape=() dtype=float32_ref>,\n",
       " <tf.Variable 'lambda_1112_components/1_1_2_0_0:0' shape=() dtype=float32_ref>,\n",
       " <tf.Variable 'lambda_1112_components/1_1_2_0_1:0' shape=() dtype=float32_ref>,\n",
       " <tf.Variable 'lambda_1112_components/1_1_2_0_2:0' shape=() dtype=float32_ref>,\n",
       " <tf.Variable 'lambda_1112_components/1_1_2_0_3:0' shape=() dtype=float32_ref>,\n",
       " <tf.Variable 'lambda_1112_components/1_1_2_0_4:0' shape=() dtype=float32_ref>,\n",
       " <tf.Variable 'lambda_1112_components/1_1_3_0_0:0' shape=() dtype=float32_ref>,\n",
       " <tf.Variable 'lambda_1112_components/1_1_3_0_1:0' shape=() dtype=float32_ref>,\n",
       " <tf.Variable 'lambda_1112_components/1_1_3_0_2:0' shape=() dtype=float32_ref>,\n",
       " <tf.Variable 'lambda_1112_components/1_1_3_0_3:0' shape=() dtype=float32_ref>,\n",
       " <tf.Variable 'lambda_1112_components/1_1_3_0_4:0' shape=() dtype=float32_ref>,\n",
       " <tf.Variable 'lambda_1112_components/1_2_0_0_0:0' shape=() dtype=float32_ref>,\n",
       " <tf.Variable 'lambda_1112_components/1_2_0_0_1:0' shape=() dtype=float32_ref>,\n",
       " <tf.Variable 'lambda_1112_components/1_2_0_0_2:0' shape=() dtype=float32_ref>,\n",
       " <tf.Variable 'lambda_1112_components/1_2_0_0_3:0' shape=() dtype=float32_ref>,\n",
       " <tf.Variable 'lambda_1112_components/1_2_0_0_4:0' shape=() dtype=float32_ref>,\n",
       " <tf.Variable 'lambda_1112_components/1_2_1_0_0:0' shape=() dtype=float32_ref>,\n",
       " <tf.Variable 'lambda_1112_components/1_2_1_0_1:0' shape=() dtype=float32_ref>,\n",
       " <tf.Variable 'lambda_1112_components/1_2_1_0_2:0' shape=() dtype=float32_ref>,\n",
       " <tf.Variable 'lambda_1112_components/1_2_1_0_3:0' shape=() dtype=float32_ref>,\n",
       " <tf.Variable 'lambda_1112_components/1_2_1_0_4:0' shape=() dtype=float32_ref>,\n",
       " <tf.Variable 'lambda_1112_components/1_2_2_0_0:0' shape=() dtype=float32_ref>,\n",
       " <tf.Variable 'lambda_1112_components/1_2_2_0_1:0' shape=() dtype=float32_ref>,\n",
       " <tf.Variable 'lambda_1112_components/1_2_2_0_2:0' shape=() dtype=float32_ref>,\n",
       " <tf.Variable 'lambda_1112_components/1_2_2_0_3:0' shape=() dtype=float32_ref>,\n",
       " <tf.Variable 'lambda_1112_components/1_2_2_0_4:0' shape=() dtype=float32_ref>,\n",
       " <tf.Variable 'lambda_1112_components/1_2_3_0_0:0' shape=() dtype=float32_ref>,\n",
       " <tf.Variable 'lambda_1112_components/1_2_3_0_1:0' shape=() dtype=float32_ref>,\n",
       " <tf.Variable 'lambda_1112_components/1_2_3_0_2:0' shape=() dtype=float32_ref>,\n",
       " <tf.Variable 'lambda_1112_components/1_2_3_0_3:0' shape=() dtype=float32_ref>,\n",
       " <tf.Variable 'lambda_1112_components/1_2_3_0_4:0' shape=() dtype=float32_ref>,\n",
       " <tf.Variable 'lambda_11121_components/0_0_0_0_0:0' shape=() dtype=float32_ref>,\n",
       " <tf.Variable 'lambda_11121_components/0_0_0_0_1:0' shape=() dtype=float32_ref>,\n",
       " <tf.Variable 'lambda_11121_components/0_0_0_0_2:0' shape=() dtype=float32_ref>,\n",
       " <tf.Variable 'lambda_11121_components/0_0_0_0_3:0' shape=() dtype=float32_ref>,\n",
       " <tf.Variable 'lambda_11121_components/0_0_0_0_4:0' shape=() dtype=float32_ref>,\n",
       " <tf.Variable 'lambda_11121_components/0_0_1_0_0:0' shape=() dtype=float32_ref>,\n",
       " <tf.Variable 'lambda_11121_components/0_0_1_0_1:0' shape=() dtype=float32_ref>,\n",
       " <tf.Variable 'lambda_11121_components/0_0_1_0_2:0' shape=() dtype=float32_ref>,\n",
       " <tf.Variable 'lambda_11121_components/0_0_1_0_3:0' shape=() dtype=float32_ref>,\n",
       " <tf.Variable 'lambda_11121_components/0_0_1_0_4:0' shape=() dtype=float32_ref>,\n",
       " <tf.Variable 'lambda_11121_components/0_0_2_0_0:0' shape=() dtype=float32_ref>,\n",
       " <tf.Variable 'lambda_11121_components/0_0_2_0_1:0' shape=() dtype=float32_ref>,\n",
       " <tf.Variable 'lambda_11121_components/0_0_2_0_2:0' shape=() dtype=float32_ref>,\n",
       " <tf.Variable 'lambda_11121_components/0_0_2_0_3:0' shape=() dtype=float32_ref>,\n",
       " <tf.Variable 'lambda_11121_components/0_0_2_0_4:0' shape=() dtype=float32_ref>,\n",
       " <tf.Variable 'lambda_11121_components/0_0_3_0_0:0' shape=() dtype=float32_ref>,\n",
       " <tf.Variable 'lambda_11121_components/0_0_3_0_1:0' shape=() dtype=float32_ref>,\n",
       " <tf.Variable 'lambda_11121_components/0_0_3_0_2:0' shape=() dtype=float32_ref>,\n",
       " <tf.Variable 'lambda_11121_components/0_0_3_0_3:0' shape=() dtype=float32_ref>,\n",
       " <tf.Variable 'lambda_11121_components/0_0_3_0_4:0' shape=() dtype=float32_ref>,\n",
       " <tf.Variable 'lambda_11121_components/0_1_0_0_0:0' shape=() dtype=float32_ref>,\n",
       " <tf.Variable 'lambda_11121_components/0_1_0_0_1:0' shape=() dtype=float32_ref>,\n",
       " <tf.Variable 'lambda_11121_components/0_1_0_0_2:0' shape=() dtype=float32_ref>,\n",
       " <tf.Variable 'lambda_11121_components/0_1_0_0_3:0' shape=() dtype=float32_ref>,\n",
       " <tf.Variable 'lambda_11121_components/0_1_0_0_4:0' shape=() dtype=float32_ref>,\n",
       " <tf.Variable 'lambda_11121_components/0_1_1_0_0:0' shape=() dtype=float32_ref>,\n",
       " <tf.Variable 'lambda_11121_components/0_1_1_0_1:0' shape=() dtype=float32_ref>,\n",
       " <tf.Variable 'lambda_11121_components/0_1_1_0_2:0' shape=() dtype=float32_ref>,\n",
       " <tf.Variable 'lambda_11121_components/0_1_1_0_3:0' shape=() dtype=float32_ref>,\n",
       " <tf.Variable 'lambda_11121_components/0_1_1_0_4:0' shape=() dtype=float32_ref>,\n",
       " <tf.Variable 'lambda_11121_components/0_1_2_0_0:0' shape=() dtype=float32_ref>,\n",
       " <tf.Variable 'lambda_11121_components/0_1_2_0_1:0' shape=() dtype=float32_ref>,\n",
       " <tf.Variable 'lambda_11121_components/0_1_2_0_2:0' shape=() dtype=float32_ref>,\n",
       " <tf.Variable 'lambda_11121_components/0_1_2_0_3:0' shape=() dtype=float32_ref>,\n",
       " <tf.Variable 'lambda_11121_components/0_1_2_0_4:0' shape=() dtype=float32_ref>,\n",
       " <tf.Variable 'lambda_11121_components/0_1_3_0_0:0' shape=() dtype=float32_ref>,\n",
       " <tf.Variable 'lambda_11121_components/0_1_3_0_1:0' shape=() dtype=float32_ref>,\n",
       " <tf.Variable 'lambda_11121_components/0_1_3_0_2:0' shape=() dtype=float32_ref>,\n",
       " <tf.Variable 'lambda_11121_components/0_1_3_0_3:0' shape=() dtype=float32_ref>,\n",
       " <tf.Variable 'lambda_11121_components/0_1_3_0_4:0' shape=() dtype=float32_ref>,\n",
       " <tf.Variable 'lambda_11121_components/0_2_0_0_0:0' shape=() dtype=float32_ref>,\n",
       " <tf.Variable 'lambda_11121_components/0_2_0_0_1:0' shape=() dtype=float32_ref>,\n",
       " <tf.Variable 'lambda_11121_components/0_2_0_0_2:0' shape=() dtype=float32_ref>,\n",
       " <tf.Variable 'lambda_11121_components/0_2_0_0_3:0' shape=() dtype=float32_ref>,\n",
       " <tf.Variable 'lambda_11121_components/0_2_0_0_4:0' shape=() dtype=float32_ref>,\n",
       " <tf.Variable 'lambda_11121_components/0_2_1_0_0:0' shape=() dtype=float32_ref>,\n",
       " <tf.Variable 'lambda_11121_components/0_2_1_0_1:0' shape=() dtype=float32_ref>,\n",
       " <tf.Variable 'lambda_11121_components/0_2_1_0_2:0' shape=() dtype=float32_ref>,\n",
       " <tf.Variable 'lambda_11121_components/0_2_1_0_3:0' shape=() dtype=float32_ref>,\n",
       " <tf.Variable 'lambda_11121_components/0_2_1_0_4:0' shape=() dtype=float32_ref>,\n",
       " <tf.Variable 'lambda_11121_components/0_2_2_0_0:0' shape=() dtype=float32_ref>,\n",
       " <tf.Variable 'lambda_11121_components/0_2_2_0_1:0' shape=() dtype=float32_ref>,\n",
       " <tf.Variable 'lambda_11121_components/0_2_2_0_2:0' shape=() dtype=float32_ref>,\n",
       " <tf.Variable 'lambda_11121_components/0_2_2_0_3:0' shape=() dtype=float32_ref>,\n",
       " <tf.Variable 'lambda_11121_components/0_2_2_0_4:0' shape=() dtype=float32_ref>,\n",
       " <tf.Variable 'lambda_11121_components/0_2_3_0_0:0' shape=() dtype=float32_ref>,\n",
       " <tf.Variable 'lambda_11121_components/0_2_3_0_1:0' shape=() dtype=float32_ref>,\n",
       " <tf.Variable 'lambda_11121_components/0_2_3_0_2:0' shape=() dtype=float32_ref>,\n",
       " <tf.Variable 'lambda_11121_components/0_2_3_0_3:0' shape=() dtype=float32_ref>,\n",
       " <tf.Variable 'lambda_11121_components/0_2_3_0_4:0' shape=() dtype=float32_ref>,\n",
       " <tf.Variable 'lambda_11121_components/1_0_0_0_0:0' shape=() dtype=float32_ref>,\n",
       " <tf.Variable 'lambda_11121_components/1_0_0_0_1:0' shape=() dtype=float32_ref>,\n",
       " <tf.Variable 'lambda_11121_components/1_0_0_0_2:0' shape=() dtype=float32_ref>,\n",
       " <tf.Variable 'lambda_11121_components/1_0_0_0_3:0' shape=() dtype=float32_ref>,\n",
       " <tf.Variable 'lambda_11121_components/1_0_0_0_4:0' shape=() dtype=float32_ref>,\n",
       " <tf.Variable 'lambda_11121_components/1_0_1_0_0:0' shape=() dtype=float32_ref>,\n",
       " <tf.Variable 'lambda_11121_components/1_0_1_0_1:0' shape=() dtype=float32_ref>,\n",
       " <tf.Variable 'lambda_11121_components/1_0_1_0_2:0' shape=() dtype=float32_ref>,\n",
       " <tf.Variable 'lambda_11121_components/1_0_1_0_3:0' shape=() dtype=float32_ref>,\n",
       " <tf.Variable 'lambda_11121_components/1_0_1_0_4:0' shape=() dtype=float32_ref>,\n",
       " <tf.Variable 'lambda_11121_components/1_0_2_0_0:0' shape=() dtype=float32_ref>,\n",
       " <tf.Variable 'lambda_11121_components/1_0_2_0_1:0' shape=() dtype=float32_ref>,\n",
       " <tf.Variable 'lambda_11121_components/1_0_2_0_2:0' shape=() dtype=float32_ref>,\n",
       " <tf.Variable 'lambda_11121_components/1_0_2_0_3:0' shape=() dtype=float32_ref>,\n",
       " <tf.Variable 'lambda_11121_components/1_0_2_0_4:0' shape=() dtype=float32_ref>,\n",
       " <tf.Variable 'lambda_11121_components/1_0_3_0_0:0' shape=() dtype=float32_ref>,\n",
       " <tf.Variable 'lambda_11121_components/1_0_3_0_1:0' shape=() dtype=float32_ref>,\n",
       " <tf.Variable 'lambda_11121_components/1_0_3_0_2:0' shape=() dtype=float32_ref>,\n",
       " <tf.Variable 'lambda_11121_components/1_0_3_0_3:0' shape=() dtype=float32_ref>,\n",
       " <tf.Variable 'lambda_11121_components/1_0_3_0_4:0' shape=() dtype=float32_ref>,\n",
       " <tf.Variable 'lambda_11121_components/1_1_0_0_0:0' shape=() dtype=float32_ref>,\n",
       " <tf.Variable 'lambda_11121_components/1_1_0_0_1:0' shape=() dtype=float32_ref>,\n",
       " <tf.Variable 'lambda_11121_components/1_1_0_0_2:0' shape=() dtype=float32_ref>,\n",
       " <tf.Variable 'lambda_11121_components/1_1_0_0_3:0' shape=() dtype=float32_ref>,\n",
       " <tf.Variable 'lambda_11121_components/1_1_0_0_4:0' shape=() dtype=float32_ref>,\n",
       " <tf.Variable 'lambda_11121_components/1_1_1_0_0:0' shape=() dtype=float32_ref>,\n",
       " <tf.Variable 'lambda_11121_components/1_1_1_0_1:0' shape=() dtype=float32_ref>,\n",
       " <tf.Variable 'lambda_11121_components/1_1_1_0_2:0' shape=() dtype=float32_ref>,\n",
       " <tf.Variable 'lambda_11121_components/1_1_1_0_3:0' shape=() dtype=float32_ref>,\n",
       " <tf.Variable 'lambda_11121_components/1_1_1_0_4:0' shape=() dtype=float32_ref>,\n",
       " <tf.Variable 'lambda_11121_components/1_1_2_0_0:0' shape=() dtype=float32_ref>,\n",
       " <tf.Variable 'lambda_11121_components/1_1_2_0_1:0' shape=() dtype=float32_ref>,\n",
       " <tf.Variable 'lambda_11121_components/1_1_2_0_2:0' shape=() dtype=float32_ref>,\n",
       " <tf.Variable 'lambda_11121_components/1_1_2_0_3:0' shape=() dtype=float32_ref>,\n",
       " <tf.Variable 'lambda_11121_components/1_1_2_0_4:0' shape=() dtype=float32_ref>,\n",
       " <tf.Variable 'lambda_11121_components/1_1_3_0_0:0' shape=() dtype=float32_ref>,\n",
       " <tf.Variable 'lambda_11121_components/1_1_3_0_1:0' shape=() dtype=float32_ref>,\n",
       " <tf.Variable 'lambda_11121_components/1_1_3_0_2:0' shape=() dtype=float32_ref>,\n",
       " <tf.Variable 'lambda_11121_components/1_1_3_0_3:0' shape=() dtype=float32_ref>,\n",
       " <tf.Variable 'lambda_11121_components/1_1_3_0_4:0' shape=() dtype=float32_ref>,\n",
       " <tf.Variable 'lambda_11121_components/1_2_0_0_0:0' shape=() dtype=float32_ref>,\n",
       " <tf.Variable 'lambda_11121_components/1_2_0_0_1:0' shape=() dtype=float32_ref>,\n",
       " <tf.Variable 'lambda_11121_components/1_2_0_0_2:0' shape=() dtype=float32_ref>,\n",
       " <tf.Variable 'lambda_11121_components/1_2_0_0_3:0' shape=() dtype=float32_ref>,\n",
       " <tf.Variable 'lambda_11121_components/1_2_0_0_4:0' shape=() dtype=float32_ref>,\n",
       " <tf.Variable 'lambda_11121_components/1_2_1_0_0:0' shape=() dtype=float32_ref>,\n",
       " <tf.Variable 'lambda_11121_components/1_2_1_0_1:0' shape=() dtype=float32_ref>,\n",
       " <tf.Variable 'lambda_11121_components/1_2_1_0_2:0' shape=() dtype=float32_ref>,\n",
       " <tf.Variable 'lambda_11121_components/1_2_1_0_3:0' shape=() dtype=float32_ref>,\n",
       " <tf.Variable 'lambda_11121_components/1_2_1_0_4:0' shape=() dtype=float32_ref>,\n",
       " <tf.Variable 'lambda_11121_components/1_2_2_0_0:0' shape=() dtype=float32_ref>,\n",
       " <tf.Variable 'lambda_11121_components/1_2_2_0_1:0' shape=() dtype=float32_ref>,\n",
       " <tf.Variable 'lambda_11121_components/1_2_2_0_2:0' shape=() dtype=float32_ref>,\n",
       " <tf.Variable 'lambda_11121_components/1_2_2_0_3:0' shape=() dtype=float32_ref>,\n",
       " <tf.Variable 'lambda_11121_components/1_2_2_0_4:0' shape=() dtype=float32_ref>,\n",
       " <tf.Variable 'lambda_11121_components/1_2_3_0_0:0' shape=() dtype=float32_ref>,\n",
       " <tf.Variable 'lambda_11121_components/1_2_3_0_1:0' shape=() dtype=float32_ref>,\n",
       " <tf.Variable 'lambda_11121_components/1_2_3_0_2:0' shape=() dtype=float32_ref>,\n",
       " <tf.Variable 'lambda_11121_components/1_2_3_0_3:0' shape=() dtype=float32_ref>,\n",
       " <tf.Variable 'lambda_11121_components/1_2_3_0_4:0' shape=() dtype=float32_ref>]"
      ]
     },
     "execution_count": 123,
     "metadata": {},
     "output_type": "execute_result"
    }
   ],
   "source": [
    "far.utils.hyperparameters()"
   ]
  },
  {
   "cell_type": "code",
   "execution_count": 125,
   "metadata": {
    "collapsed": true
   },
   "outputs": [],
   "source": [
    "tf.global_variables_initializer().run()"
   ]
  },
  {
   "cell_type": "code",
   "execution_count": 126,
   "metadata": {},
   "outputs": [
    {
     "data": {
      "text/plain": [
       "array([[[[[ 13.63513184,  14.00071239,   7.39320803,  -0.74280453,\n",
       "             9.5134182 ]],\n",
       "\n",
       "         [[ -8.83658886, -13.9394207 , -12.10483456,  -5.75274944,\n",
       "            10.6792841 ]],\n",
       "\n",
       "         [[  9.53555298,   6.12478638,   7.11979389,  -3.60314012,\n",
       "            -8.63583946]],\n",
       "\n",
       "         [[ -2.39586926,  12.63607216,   3.63382721,  18.8909111 ,\n",
       "             0.49042448]]],\n",
       "\n",
       "\n",
       "        [[[ -6.85972214,  11.65580845,  -2.73105001,  -7.0301199 ,\n",
       "            26.33629608]],\n",
       "\n",
       "         [[  1.86420655,  -1.69461322,   3.97628689,   0.17976785,\n",
       "           -19.1612606 ]],\n",
       "\n",
       "         [[ -2.68925381,   3.14724493,   5.15794992,  -7.49233532,\n",
       "           -16.58163834]],\n",
       "\n",
       "         [[ 10.82481956,  -5.98878765, -15.80984211,  15.24536896,\n",
       "            -2.77124619]]],\n",
       "\n",
       "\n",
       "        [[[ -8.06270981,   7.08530235,  -3.35549355,   1.07518125,\n",
       "            -5.39646864]],\n",
       "\n",
       "         [[-17.54975128,  13.82890701,  10.00484276,  11.93820953,\n",
       "            -9.01740646]],\n",
       "\n",
       "         [[ -1.03552425, -13.41908073,   3.10195088,   8.33427238,\n",
       "            -4.86453438]],\n",
       "\n",
       "         [[ -0.25534168, -15.22998238,  10.39632416,  -5.94596338,\n",
       "             0.6262365 ]]]],\n",
       "\n",
       "\n",
       "\n",
       "       [[[[-15.17926693,  -3.97187996,  20.16460609, -13.74735355,\n",
       "            -0.43296561]],\n",
       "\n",
       "         [[  1.50218141, -13.28140354,   0.35740948,  10.05423069,\n",
       "             8.01319504]],\n",
       "\n",
       "         [[ -7.08365631,   1.58640242,  26.86502075,   3.42216635,\n",
       "             4.70197821]],\n",
       "\n",
       "         [[  2.07957435,  -2.18303275,   1.03606534,   4.54787588,\n",
       "             9.46031284]]],\n",
       "\n",
       "\n",
       "        [[[ 10.04035473,  -5.62664461,   1.49882579,  17.42515945,\n",
       "           -19.74773026]],\n",
       "\n",
       "         [[  4.19061089, -14.9673996 ,  -6.68347597,  21.35684967,\n",
       "             1.46824646]],\n",
       "\n",
       "         [[  8.20352554,   6.31310463,  -2.59315372,   0.72107428,\n",
       "             6.71254587]],\n",
       "\n",
       "         [[-10.14711952,   8.42323208,   3.26675057,  -0.81099838,\n",
       "            12.64314175]]],\n",
       "\n",
       "\n",
       "        [[[ -4.49827147,  -1.26786292,  -1.83673596,  -5.03115368,\n",
       "            10.20423508]],\n",
       "\n",
       "         [[-10.27030945,   4.33157206,  -5.11915398,   4.54426861,\n",
       "            -2.51503968]],\n",
       "\n",
       "         [[ -2.81219196,  -1.98172402, -14.03419304,   0.43122584,\n",
       "            -2.93388462]],\n",
       "\n",
       "         [[  5.81580877,   5.1383996 ,  -6.4781456 ,   3.82936978,\n",
       "           -17.91604996]]]]], dtype=float32)"
      ]
     },
     "execution_count": 126,
     "metadata": {},
     "output_type": "execute_result"
    }
   ],
   "source": [
    "lmbd.eval()"
   ]
  },
  {
   "cell_type": "code",
   "execution_count": 119,
   "metadata": {
    "collapsed": true
   },
   "outputs": [],
   "source": [
    "c = tf.convert_to_tensor(lmbd)"
   ]
  },
  {
   "cell_type": "code",
   "execution_count": 73,
   "metadata": {
    "collapsed": true
   },
   "outputs": [],
   "source": [
    "# this look quite right..."
   ]
  },
  {
   "cell_type": "code",
   "execution_count": 74,
   "metadata": {},
   "outputs": [
    {
     "data": {
      "text/plain": [
       "[<tf.Variable 'Variable:0' shape=(2,) dtype=float32_ref>,\n",
       " <tf.Variable 'Variable_1:0' shape=(2, 2) dtype=float32_ref>,\n",
       " <tf.Variable 'lambda:0' shape=(2, 2) dtype=float32_ref>,\n",
       " <tf.Variable 'eta:0' shape=() dtype=float32_ref>,\n",
       " <tf.Variable 'mu:0' shape=() dtype=float32_ref>,\n",
       " <tf.Variable 'Variable/Momentum:0' shape=(2,) dtype=float32_ref>,\n",
       " <tf.Variable 'Variable_1/Momentum:0' shape=(2, 2) dtype=float32_ref>]"
      ]
     },
     "execution_count": 74,
     "metadata": {},
     "output_type": "execute_result"
    }
   ],
   "source": [
    "tf.global_variables()"
   ]
  },
  {
   "cell_type": "code",
   "execution_count": 303,
   "metadata": {},
   "outputs": [
    {
     "data": {
      "text/plain": [
       "[<tf.Variable 'lambda:0' shape=(2, 2) dtype=float32_ref>,\n",
       " <tf.Variable 'eta:0' shape=() dtype=float32_ref>,\n",
       " <tf.Variable 'mu:0' shape=() dtype=float32_ref>]"
      ]
     },
     "execution_count": 303,
     "metadata": {},
     "output_type": "execute_result"
    }
   ],
   "source": [
    "far.utils.hyperparameters()"
   ]
  },
  {
   "cell_type": "code",
   "execution_count": 304,
   "metadata": {},
   "outputs": [
    {
     "data": {
      "text/plain": [
       "[array([[ 1.,  1.],\n",
       "        [ 1.,  1.]], dtype=float32), 0.1, 0.89999998]"
      ]
     },
     "execution_count": 304,
     "metadata": {},
     "output_type": "execute_result"
    }
   ],
   "source": [
    "tf.global_variables_initializer().run()\n",
    "ss.run(far.utils.hyperparameters())"
   ]
  },
  {
   "cell_type": "code",
   "execution_count": 305,
   "metadata": {
    "collapsed": true
   },
   "outputs": [],
   "source": [
    "rhg.run(10)"
   ]
  },
  {
   "cell_type": "code",
   "execution_count": 306,
   "metadata": {},
   "outputs": [
    {
     "data": {
      "text/plain": [
       "[array([[ 0.22334358,  1.34006155],\n",
       "        [-0.22334358,  0.        ]], dtype=float32), 13.395197, 0.28557456]"
      ]
     },
     "execution_count": 306,
     "metadata": {},
     "output_type": "execute_result"
    }
   ],
   "source": [
    "ss.run(far.utils.hypergradients())"
   ]
  },
  {
   "cell_type": "code",
   "execution_count": null,
   "metadata": {
    "collapsed": true
   },
   "outputs": [],
   "source": []
  },
  {
   "cell_type": "code",
   "execution_count": 307,
   "metadata": {
    "collapsed": true
   },
   "outputs": [],
   "source": [
    "# ss.run(ts_hy)  # perform an hypergradient descent step....\n",
    "# print(ss.run(far.utils.hyperparameters()))\n",
    "# print(ss.run(oo))"
   ]
  },
  {
   "cell_type": "markdown",
   "metadata": {},
   "source": [
    "# check with rfho"
   ]
  },
  {
   "cell_type": "code",
   "execution_count": 308,
   "metadata": {
    "collapsed": true
   },
   "outputs": [],
   "source": [
    "import rfho as rf"
   ]
  },
  {
   "cell_type": "code",
   "execution_count": 309,
   "metadata": {},
   "outputs": [
    {
     "name": "stderr",
     "output_type": "stream",
     "text": [
      "Warning: creating nodes at tf.Session runtime: node Tensor(\"vectorization:0\", shape=(6,), dtype=float32)\n",
      "Warning: creating nodes at tf.Session runtime: node Tensor(\"augmented_variables/0/vectorization:0\", shape=(6,), dtype=float32)\n",
      "Warning: creating nodes at tf.Session runtime: node Tensor(\"vectorization_1:0\", shape=(12,), dtype=float32)\n",
      "Warning: creating nodes at tf.Session runtime: node Tensor(\"Reshape_4:0\", shape=(2, 2), dtype=float32)\n",
      "Warning: creating nodes at tf.Session runtime: node Tensor(\"Reshape_5:0\", shape=(2,), dtype=float32)\n",
      "Warning: creating nodes at tf.Session runtime: node Tensor(\"Reshape_6:0\", shape=(2,), dtype=float32)\n",
      "Warning: creating nodes at tf.Session runtime: node Tensor(\"Reshape_7:0\", shape=(2, 2), dtype=float32)\n"
     ]
    }
   ],
   "source": [
    "w, c, co = rf.vectorize_model([v1, v2], cost, oo, augment=1)"
   ]
  },
  {
   "cell_type": "code",
   "execution_count": 310,
   "metadata": {},
   "outputs": [
    {
     "name": "stderr",
     "output_type": "stream",
     "text": [
      "Warning: creating nodes at tf.Session runtime: node Tensor(\"Momentum_1/Reshape:0\", shape=(2,), dtype=float32)\n",
      "Warning: creating nodes at tf.Session runtime: node Tensor(\"Momentum_1/Assign:0\", shape=(2,), dtype=float32_ref)\n",
      "Warning: creating nodes at tf.Session runtime: node Tensor(\"Momentum_1/Reshape_1:0\", shape=(2, 2), dtype=float32)\n",
      "Warning: creating nodes at tf.Session runtime: node Tensor(\"Momentum_1/Assign_1:0\", shape=(2, 2), dtype=float32_ref)\n",
      "Warning: creating nodes at tf.Session runtime: node Tensor(\"Momentum_1/Reshape_2:0\", shape=(2,), dtype=float32)\n",
      "Warning: creating nodes at tf.Session runtime: node Tensor(\"Momentum_1/Assign_2:0\", shape=(2,), dtype=float32_ref)\n",
      "Warning: creating nodes at tf.Session runtime: node Tensor(\"Momentum_1/Reshape_3:0\", shape=(2, 2), dtype=float32)\n",
      "Warning: creating nodes at tf.Session runtime: node Tensor(\"Momentum_1/Assign_3:0\", shape=(2, 2), dtype=float32_ref)\n"
     ]
    }
   ],
   "source": [
    "dyn = rf.MomentumOptimizer.create(w, 0.1, 0.9, loss=c)"
   ]
  },
  {
   "cell_type": "code",
   "execution_count": 311,
   "metadata": {},
   "outputs": [
    {
     "name": "stderr",
     "output_type": "stream",
     "text": [
      "Warning: creating nodes at tf.Session runtime: node Tensor(\"w_history_ops/Reshape:0\", shape=(2, 2), dtype=float32)\n",
      "Warning: creating nodes at tf.Session runtime: node Tensor(\"w_history_ops/Assign:0\", shape=(2, 2), dtype=float32_ref)\n",
      "Warning: creating nodes at tf.Session runtime: node Tensor(\"w_history_ops/Reshape_1:0\", shape=(2,), dtype=float32)\n",
      "Warning: creating nodes at tf.Session runtime: node Tensor(\"w_history_ops/Assign_1:0\", shape=(2,), dtype=float32_ref)\n",
      "Warning: creating nodes at tf.Session runtime: node Tensor(\"w_history_ops/Reshape_2:0\", shape=(2,), dtype=float32)\n",
      "Warning: creating nodes at tf.Session runtime: node Tensor(\"w_history_ops/Assign_2:0\", shape=(2,), dtype=float32_ref)\n",
      "Warning: creating nodes at tf.Session runtime: node Tensor(\"w_history_ops/Reshape_3:0\", shape=(2, 2), dtype=float32)\n",
      "Warning: creating nodes at tf.Session runtime: node Tensor(\"w_history_ops/Assign_3:0\", shape=(2, 2), dtype=float32_ref)\n"
     ]
    }
   ],
   "source": [
    "hyperg = rf.HyperOptimizer(dyn, {co: lmbd}, rf.ReverseHG)"
   ]
  },
  {
   "cell_type": "code",
   "execution_count": 312,
   "metadata": {},
   "outputs": [
    {
     "data": {
      "text/plain": [
       "True"
      ]
     },
     "execution_count": 312,
     "metadata": {},
     "output_type": "execute_result"
    }
   ],
   "source": [
    "hyperg.initialize()"
   ]
  },
  {
   "cell_type": "code",
   "execution_count": 313,
   "metadata": {
    "collapsed": true
   },
   "outputs": [],
   "source": [
    "hgs = hyperg.run(10, val_feed_dict_suppliers={co:lambda: None},\n",
    "                 _debug_no_hyper_update=True)"
   ]
  },
  {
   "cell_type": "code",
   "execution_count": 314,
   "metadata": {},
   "outputs": [
    {
     "data": {
      "text/plain": [
       "[array([[ 0.2233436 ,  1.34006178],\n",
       "        [-0.2233436 ,  0.        ]], dtype=float32)]"
      ]
     },
     "execution_count": 314,
     "metadata": {},
     "output_type": "execute_result"
    }
   ],
   "source": [
    "ss.run(hyperg.hyper_gradients.hyper_gradient_vars)"
   ]
  },
  {
   "cell_type": "markdown",
   "metadata": {},
   "source": [
    "# END... RESULTS ARE (almost the) SAME (CFR cell 306)"
   ]
  },
  {
   "cell_type": "code",
   "execution_count": 209,
   "metadata": {
    "collapsed": true
   },
   "outputs": [],
   "source": [
    "rfho_hs = hyperg.hyper_gradients.w_hist"
   ]
  },
  {
   "cell_type": "code",
   "execution_count": 210,
   "metadata": {},
   "outputs": [
    {
     "data": {
      "text/plain": [
       "10"
      ]
     },
     "execution_count": 210,
     "metadata": {},
     "output_type": "execute_result"
    }
   ],
   "source": [
    "len(rfho_hs)"
   ]
  },
  {
   "cell_type": "code",
   "execution_count": 218,
   "metadata": {},
   "outputs": [
    {
     "data": {
      "text/plain": [
       "(array([-24.56974983, -22.56974983, -21.56974983,   0.27419662,\n",
       "          0.54839325,  -0.27419662,   0.        ,  44.92248917,\n",
       "         44.92248917,  44.92248917,   2.48619032,   4.97238111,\n",
       "         -2.48619032,   0.        ], dtype=float32),\n",
       " [array([-29.34610748, -27.34610748, -26.34610748], dtype=float32),\n",
       "  array([ 47.76357651,  47.76357651,  47.76357651], dtype=float32),\n",
       "  array([[-0.00439989, -0.00879972],\n",
       "         [ 0.00439989,  0.        ]], dtype=float32),\n",
       "  array([[ 2.78596425,  5.57192898],\n",
       "         [-2.78596425,  0.        ]], dtype=float32)])"
      ]
     },
     "execution_count": 218,
     "metadata": {},
     "output_type": "execute_result"
    }
   ],
   "source": [
    "rfho_hs[9], rhg._history[10]  # in far version also last value is saved"
   ]
  },
  {
   "cell_type": "code",
   "execution_count": 219,
   "metadata": {},
   "outputs": [
    {
     "data": {
      "text/plain": [
       "[1, 2]"
      ]
     },
     "execution_count": 219,
     "metadata": {},
     "output_type": "execute_result"
    }
   ],
   "source": [
    "[1,2,4][:-1]"
   ]
  },
  {
   "cell_type": "code",
   "execution_count": 222,
   "metadata": {},
   "outputs": [
    {
     "data": {
      "text/plain": [
       "[array([  7.33333349e+00,   7.33333349e+00,   7.33333349e+00,\n",
       "         -3.87176406e-05,  -7.74352811e-05,   3.87176406e-05,\n",
       "          0.00000000e+00,  -4.29872227e+00,  -4.29872227e+00,\n",
       "         -4.29872227e+00,  -1.10320083e-03,  -2.20641680e-03,\n",
       "          1.10320083e-03,   0.00000000e+00], dtype=float32)]"
      ]
     },
     "execution_count": 222,
     "metadata": {},
     "output_type": "execute_result"
    }
   ],
   "source": [
    "ss.run(list(hyperg.hyper_gradients.p_dict.values()))"
   ]
  },
  {
   "cell_type": "code",
   "execution_count": null,
   "metadata": {
    "collapsed": true
   },
   "outputs": [],
   "source": []
  }
 ],
 "metadata": {
  "anaconda-cloud": {},
  "kernelspec": {
   "display_name": "Python 3",
   "language": "python",
   "name": "python3"
  },
  "language_info": {
   "codemirror_mode": {
    "name": "ipython",
    "version": 3
   },
   "file_extension": ".py",
   "mimetype": "text/x-python",
   "name": "python",
   "nbconvert_exporter": "python",
   "pygments_lexer": "ipython3",
   "version": "3.6.1"
  }
 },
 "nbformat": 4,
 "nbformat_minor": 1
}
