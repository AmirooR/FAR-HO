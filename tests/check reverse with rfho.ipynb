{
 "cells": [
  {
   "cell_type": "code",
   "execution_count": 297,
   "metadata": {},
   "outputs": [
    {
     "name": "stdout",
     "output_type": "stream",
     "text": [
      "The autoreload extension is already loaded. To reload it, use:\n",
      "  %reload_ext autoreload\n"
     ]
    }
   ],
   "source": [
    "%load_ext autoreload\n",
    "%autoreload 2"
   ]
  },
  {
   "cell_type": "code",
   "execution_count": 298,
   "metadata": {},
   "outputs": [],
   "source": [
    "import tensorflow as tf\n",
    "import numpy as np\n",
    "import experiment_manager as em\n",
    "import far_ho as far"
   ]
  },
  {
   "cell_type": "code",
   "execution_count": 299,
   "metadata": {},
   "outputs": [
    {
     "name": "stdout",
     "output_type": "stream",
     "text": [
      "2\n"
     ]
    }
   ],
   "source": [
    "far.utils.check()"
   ]
  },
  {
   "cell_type": "code",
   "execution_count": 300,
   "metadata": {
    "collapsed": true
   },
   "outputs": [],
   "source": [
    "try: ss.close()\n",
    "except: pass\n",
    "tf.reset_default_graph()\n",
    "ss = tf.InteractiveSession()\n",
    "v1 = tf.Variable([1.,3])\n",
    "\n",
    "v2 = tf.Variable([[-1., -2], [1., 0.]])"
   ]
  },
  {
   "cell_type": "code",
   "execution_count": 301,
   "metadata": {},
   "outputs": [],
   "source": [
    "lmbd = far.get_hyperparameter('lambda', \n",
    "                              initializer=tf.ones_initializer,\n",
    "                             shape=v2.get_shape())\n",
    "\n",
    "cost = tf.reduce_mean(v1**2) + tf.reduce_sum(lmbd*v2**2)\n",
    "\n",
    "io_optim = far.MomentumOptimizer(far.get_hyperparameter('eta', 0.1), \n",
    "                                   far.get_hyperparameter('mu', .9))\n",
    "\n",
    "io_optim_dict = io_optim.minimize(cost) \n",
    "\n",
    "oo = tf.reduce_mean(v1*v2)\n",
    "rhg = far.ReverseHg(io_optim_dict).compute_gradients(oo)\n",
    "\n",
    "optim_oo = tf.train.AdamOptimizer(.01)\n",
    "ts_hy = optim_oo.apply_gradients(rhg.hgrad_hvar)"
   ]
  },
  {
   "cell_type": "code",
   "execution_count": null,
   "metadata": {
    "collapsed": true
   },
   "outputs": [],
   "source": [
    ""
   ]
  },
  {
   "cell_type": "code",
   "execution_count": null,
   "metadata": {
    "collapsed": true
   },
   "outputs": [],
   "source": [
    ""
   ]
  },
  {
   "cell_type": "code",
   "execution_count": 302,
   "metadata": {},
   "outputs": [
    {
     "data": {
      "text/plain": [
       "[<tf.Variable 'Variable:0' shape=(2,) dtype=float32_ref>,\n",
       " <tf.Variable 'Variable_1:0' shape=(2, 2) dtype=float32_ref>,\n",
       " <tf.Variable 'lambda:0' shape=(2, 2) dtype=float32_ref>,\n",
       " <tf.Variable 'eta:0' shape=() dtype=float32_ref>,\n",
       " <tf.Variable 'mu:0' shape=() dtype=float32_ref>,\n",
       " <tf.Variable 'Variable/Momentum:0' shape=(2,) dtype=float32_ref>,\n",
       " <tf.Variable 'Variable_1/Momentum:0' shape=(2, 2) dtype=float32_ref>,\n",
       " <tf.Variable 'beta1_power:0' shape=() dtype=float32_ref>,\n",
       " <tf.Variable 'beta2_power:0' shape=() dtype=float32_ref>,\n",
       " <tf.Variable 'lambda/Adam:0' shape=(2, 2) dtype=float32_ref>,\n",
       " <tf.Variable 'lambda/Adam_1:0' shape=(2, 2) dtype=float32_ref>,\n",
       " <tf.Variable 'eta/Adam:0' shape=() dtype=float32_ref>,\n",
       " <tf.Variable 'eta/Adam_1:0' shape=() dtype=float32_ref>,\n",
       " <tf.Variable 'mu/Adam:0' shape=() dtype=float32_ref>,\n",
       " <tf.Variable 'mu/Adam_1:0' shape=() dtype=float32_ref>]"
      ]
     },
     "execution_count": 302,
     "metadata": {},
     "output_type": "execute_result"
    }
   ],
   "source": [
    "tf.global_variables()"
   ]
  },
  {
   "cell_type": "code",
   "execution_count": 303,
   "metadata": {},
   "outputs": [
    {
     "data": {
      "text/plain": [
       "[<tf.Variable 'lambda:0' shape=(2, 2) dtype=float32_ref>,\n",
       " <tf.Variable 'eta:0' shape=() dtype=float32_ref>,\n",
       " <tf.Variable 'mu:0' shape=() dtype=float32_ref>]"
      ]
     },
     "execution_count": 303,
     "metadata": {},
     "output_type": "execute_result"
    }
   ],
   "source": [
    "far.utils.hyperparameters()"
   ]
  },
  {
   "cell_type": "code",
   "execution_count": 304,
   "metadata": {},
   "outputs": [
    {
     "data": {
      "text/plain": [
       "[array([[ 1.,  1.],\n",
       "        [ 1.,  1.]], dtype=float32), 0.1, 0.89999998]"
      ]
     },
     "execution_count": 304,
     "metadata": {},
     "output_type": "execute_result"
    }
   ],
   "source": [
    "tf.global_variables_initializer().run()\n",
    "ss.run(far.utils.hyperparameters())"
   ]
  },
  {
   "cell_type": "code",
   "execution_count": 305,
   "metadata": {},
   "outputs": [],
   "source": [
    "rhg.run(10)"
   ]
  },
  {
   "cell_type": "code",
   "execution_count": 306,
   "metadata": {},
   "outputs": [
    {
     "data": {
      "text/plain": [
       "[array([[ 0.22334358,  1.34006155],\n",
       "        [-0.22334358,  0.        ]], dtype=float32), 13.395197, 0.28557456]"
      ]
     },
     "execution_count": 306,
     "metadata": {},
     "output_type": "execute_result"
    }
   ],
   "source": [
    "ss.run(far.utils.hypergradients())"
   ]
  },
  {
   "cell_type": "code",
   "execution_count": null,
   "metadata": {
    "collapsed": true
   },
   "outputs": [],
   "source": [
    ""
   ]
  },
  {
   "cell_type": "code",
   "execution_count": 307,
   "metadata": {},
   "outputs": [],
   "source": [
    "# ss.run(ts_hy)  # perform an hypergradient descent step....\n",
    "# print(ss.run(far.utils.hyperparameters()))\n",
    "# print(ss.run(oo))"
   ]
  },
  {
   "cell_type": "markdown",
   "metadata": {},
   "source": [
    "# check with rfho"
   ]
  },
  {
   "cell_type": "code",
   "execution_count": 308,
   "metadata": {},
   "outputs": [],
   "source": [
    "import rfho as rf"
   ]
  },
  {
   "cell_type": "code",
   "execution_count": 309,
   "metadata": {},
   "outputs": [
    {
     "name": "stderr",
     "output_type": "stream",
     "text": [
      "Warning: creating nodes at tf.Session runtime: node Tensor(\"vectorization:0\", shape=(6,), dtype=float32)\n",
      "Warning: creating nodes at tf.Session runtime: node Tensor(\"augmented_variables/0/vectorization:0\", shape=(6,), dtype=float32)\n",
      "Warning: creating nodes at tf.Session runtime: node Tensor(\"vectorization_1:0\", shape=(12,), dtype=float32)\n",
      "Warning: creating nodes at tf.Session runtime: node Tensor(\"Reshape_4:0\", shape=(2, 2), dtype=float32)\n",
      "Warning: creating nodes at tf.Session runtime: node Tensor(\"Reshape_5:0\", shape=(2,), dtype=float32)\n",
      "Warning: creating nodes at tf.Session runtime: node Tensor(\"Reshape_6:0\", shape=(2,), dtype=float32)\n",
      "Warning: creating nodes at tf.Session runtime: node Tensor(\"Reshape_7:0\", shape=(2, 2), dtype=float32)\n"
     ]
    }
   ],
   "source": [
    "w, c, co = rf.vectorize_model([v1, v2], cost, oo, augment=1)"
   ]
  },
  {
   "cell_type": "code",
   "execution_count": 310,
   "metadata": {},
   "outputs": [
    {
     "name": "stderr",
     "output_type": "stream",
     "text": [
      "Warning: creating nodes at tf.Session runtime: node Tensor(\"Momentum_1/Reshape:0\", shape=(2,), dtype=float32)\n",
      "Warning: creating nodes at tf.Session runtime: node Tensor(\"Momentum_1/Assign:0\", shape=(2,), dtype=float32_ref)\n",
      "Warning: creating nodes at tf.Session runtime: node Tensor(\"Momentum_1/Reshape_1:0\", shape=(2, 2), dtype=float32)\n",
      "Warning: creating nodes at tf.Session runtime: node Tensor(\"Momentum_1/Assign_1:0\", shape=(2, 2), dtype=float32_ref)\n",
      "Warning: creating nodes at tf.Session runtime: node Tensor(\"Momentum_1/Reshape_2:0\", shape=(2,), dtype=float32)\n",
      "Warning: creating nodes at tf.Session runtime: node Tensor(\"Momentum_1/Assign_2:0\", shape=(2,), dtype=float32_ref)\n",
      "Warning: creating nodes at tf.Session runtime: node Tensor(\"Momentum_1/Reshape_3:0\", shape=(2, 2), dtype=float32)\n",
      "Warning: creating nodes at tf.Session runtime: node Tensor(\"Momentum_1/Assign_3:0\", shape=(2, 2), dtype=float32_ref)\n"
     ]
    }
   ],
   "source": [
    "dyn = rf.MomentumOptimizer.create(w, 0.1, 0.9, loss=c)"
   ]
  },
  {
   "cell_type": "code",
   "execution_count": 311,
   "metadata": {},
   "outputs": [
    {
     "name": "stderr",
     "output_type": "stream",
     "text": [
      "Warning: creating nodes at tf.Session runtime: node Tensor(\"w_history_ops/Reshape:0\", shape=(2, 2), dtype=float32)\n",
      "Warning: creating nodes at tf.Session runtime: node Tensor(\"w_history_ops/Assign:0\", shape=(2, 2), dtype=float32_ref)\n",
      "Warning: creating nodes at tf.Session runtime: node Tensor(\"w_history_ops/Reshape_1:0\", shape=(2,), dtype=float32)\n",
      "Warning: creating nodes at tf.Session runtime: node Tensor(\"w_history_ops/Assign_1:0\", shape=(2,), dtype=float32_ref)\n",
      "Warning: creating nodes at tf.Session runtime: node Tensor(\"w_history_ops/Reshape_2:0\", shape=(2,), dtype=float32)\n",
      "Warning: creating nodes at tf.Session runtime: node Tensor(\"w_history_ops/Assign_2:0\", shape=(2,), dtype=float32_ref)\n",
      "Warning: creating nodes at tf.Session runtime: node Tensor(\"w_history_ops/Reshape_3:0\", shape=(2, 2), dtype=float32)\n",
      "Warning: creating nodes at tf.Session runtime: node Tensor(\"w_history_ops/Assign_3:0\", shape=(2, 2), dtype=float32_ref)\n"
     ]
    }
   ],
   "source": [
    "hyperg = rf.HyperOptimizer(dyn, {co: lmbd}, rf.ReverseHG)"
   ]
  },
  {
   "cell_type": "code",
   "execution_count": 312,
   "metadata": {},
   "outputs": [
    {
     "data": {
      "text/plain": [
       "True"
      ]
     },
     "execution_count": 312,
     "metadata": {},
     "output_type": "execute_result"
    }
   ],
   "source": [
    "hyperg.initialize()"
   ]
  },
  {
   "cell_type": "code",
   "execution_count": 313,
   "metadata": {},
   "outputs": [],
   "source": [
    "hgs = hyperg.run(10, val_feed_dict_suppliers={co:lambda: None},\n",
    "                 _debug_no_hyper_update=True)"
   ]
  },
  {
   "cell_type": "code",
   "execution_count": 314,
   "metadata": {},
   "outputs": [
    {
     "data": {
      "text/plain": [
       "[array([[ 0.2233436 ,  1.34006178],\n",
       "        [-0.2233436 ,  0.        ]], dtype=float32)]"
      ]
     },
     "execution_count": 314,
     "metadata": {},
     "output_type": "execute_result"
    }
   ],
   "source": [
    "ss.run(hyperg.hyper_gradients.hyper_gradient_vars)"
   ]
  },
  {
   "cell_type": "markdown",
   "metadata": {},
   "source": [
    "# END... RESULTS ARE (almost the) SAME (CFR cell 306)"
   ]
  },
  {
   "cell_type": "code",
   "execution_count": 209,
   "metadata": {},
   "outputs": [],
   "source": [
    "rfho_hs = hyperg.hyper_gradients.w_hist"
   ]
  },
  {
   "cell_type": "code",
   "execution_count": 210,
   "metadata": {},
   "outputs": [
    {
     "data": {
      "text/plain": [
       "10"
      ]
     },
     "execution_count": 210,
     "metadata": {},
     "output_type": "execute_result"
    }
   ],
   "source": [
    "len(rfho_hs)"
   ]
  },
  {
   "cell_type": "code",
   "execution_count": 218,
   "metadata": {},
   "outputs": [
    {
     "data": {
      "text/plain": [
       "(array([-24.56974983, -22.56974983, -21.56974983,   0.27419662,\n",
       "          0.54839325,  -0.27419662,   0.        ,  44.92248917,\n",
       "         44.92248917,  44.92248917,   2.48619032,   4.97238111,\n",
       "         -2.48619032,   0.        ], dtype=float32),\n",
       " [array([-29.34610748, -27.34610748, -26.34610748], dtype=float32),\n",
       "  array([ 47.76357651,  47.76357651,  47.76357651], dtype=float32),\n",
       "  array([[-0.00439989, -0.00879972],\n",
       "         [ 0.00439989,  0.        ]], dtype=float32),\n",
       "  array([[ 2.78596425,  5.57192898],\n",
       "         [-2.78596425,  0.        ]], dtype=float32)])"
      ]
     },
     "execution_count": 218,
     "metadata": {},
     "output_type": "execute_result"
    }
   ],
   "source": [
    "rfho_hs[9], rhg._history[10]  # in far version also last value is saved"
   ]
  },
  {
   "cell_type": "code",
   "execution_count": 219,
   "metadata": {},
   "outputs": [
    {
     "data": {
      "text/plain": [
       "[1, 2]"
      ]
     },
     "execution_count": 219,
     "metadata": {},
     "output_type": "execute_result"
    }
   ],
   "source": [
    "[1,2,4][:-1]"
   ]
  },
  {
   "cell_type": "code",
   "execution_count": 222,
   "metadata": {},
   "outputs": [
    {
     "data": {
      "text/plain": [
       "[array([  7.33333349e+00,   7.33333349e+00,   7.33333349e+00,\n",
       "         -3.87176406e-05,  -7.74352811e-05,   3.87176406e-05,\n",
       "          0.00000000e+00,  -4.29872227e+00,  -4.29872227e+00,\n",
       "         -4.29872227e+00,  -1.10320083e-03,  -2.20641680e-03,\n",
       "          1.10320083e-03,   0.00000000e+00], dtype=float32)]"
      ]
     },
     "execution_count": 222,
     "metadata": {},
     "output_type": "execute_result"
    }
   ],
   "source": [
    "ss.run(list(hyperg.hyper_gradients.p_dict.values()))"
   ]
  },
  {
   "cell_type": "code",
   "execution_count": null,
   "metadata": {
    "collapsed": true
   },
   "outputs": [],
   "source": [
    ""
   ]
  }
 ],
 "metadata": {
  "anaconda-cloud": {},
  "kernelspec": {
   "display_name": "Python [conda root]",
   "language": "python",
   "name": "conda-root-py"
  },
  "language_info": {
   "codemirror_mode": {
    "name": "ipython",
    "version": 3.0
   },
   "file_extension": ".py",
   "mimetype": "text/x-python",
   "name": "python",
   "nbconvert_exporter": "python",
   "pygments_lexer": "ipython3",
   "version": "3.5.2"
  }
 },
 "nbformat": 4,
 "nbformat_minor": 0
}