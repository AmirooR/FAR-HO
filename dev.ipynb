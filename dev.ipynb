{
 "cells": [
  {
   "cell_type": "code",
   "execution_count": 1,
   "metadata": {
    "collapsed": false
   },
   "outputs": [],
   "source": [
    "%load_ext autoreload\n",
    "%autoreload 2\n"
   ]
  },
  {
   "cell_type": "code",
   "execution_count": 2,
   "metadata": {
    "collapsed": false
   },
   "outputs": [
    {
     "name": "stdout",
     "output_type": "stream",
     "text": [
      "Data folder is C:\\Users\\lfranceschi\\DATASETS\n",
      "Experiment save directory is  C:\\Users\\lfranceschi\\EXPERIMENTS\n"
     ]
    }
   ],
   "source": [
    "\n",
    "import tensorflow as tf\n",
    "import numpy as np\n",
    "import experiment_manager as em\n",
    "import far_ho as far\n",
    "from far_ho import hypergradients, hyperparameters"
   ]
  },
  {
   "cell_type": "code",
   "execution_count": 3,
   "metadata": {
    "collapsed": false
   },
   "outputs": [
    {
     "name": "stdout",
     "output_type": "stream",
     "text": [
      "3\n"
     ]
    }
   ],
   "source": [
    "far.utils.check()"
   ]
  },
  {
   "cell_type": "markdown",
   "metadata": {},
   "source": [
    "## single instance: 1 outer 1 inner problem (most common case I guess...) \n",
    "use `HyperOptimizer.minimize`"
   ]
  },
  {
   "cell_type": "code",
   "execution_count": 50,
   "metadata": {
    "collapsed": true
   },
   "outputs": [],
   "source": [
    "try: ss.close()\n",
    "except: pass\n",
    "tf.reset_default_graph()\n",
    "ss = tf.InteractiveSession()\n",
    "v1 = tf.Variable([1.,3])\n",
    "\n",
    "v2 = tf.Variable([[-1., -2], [1., 0.]])\n",
    "lmbd = far.get_hyperparameter('lambda', \n",
    "                              initializer=tf.ones_initializer,\n",
    "                             shape=v2.get_shape())\n",
    "\n",
    "cost = tf.reduce_mean(v1**2) + tf.reduce_sum(lmbd*v2**2)\n",
    "oo = tf.reduce_mean(v1*v2)"
   ]
  },
  {
   "cell_type": "code",
   "execution_count": 51,
   "metadata": {
    "collapsed": false
   },
   "outputs": [],
   "source": [
    "hyper_training_step = far.HyperOptimizer().minimize(oo, tf.train.AdamOptimizer(), \n",
    "                                                   cost, far.MomentumOptimizer(far.get_hyperparameter('lr', 0.1), \n",
    "                                                                              far.get_hyperparameter('mu', 0.9)))\n"
   ]
  },
  {
   "cell_type": "code",
   "execution_count": 52,
   "metadata": {
    "collapsed": false
   },
   "outputs": [
    {
     "data": {
      "text/plain": [
       "[array([[ 1.,  1.],\n",
       "        [ 1.,  1.]], dtype=float32), 0.1, 0.89999998]"
      ]
     },
     "execution_count": 52,
     "metadata": {},
     "output_type": "execute_result"
    }
   ],
   "source": [
    "tf.global_variables_initializer().run()\n",
    "ss.run(far.utils.hyperparameters())"
   ]
  },
  {
   "cell_type": "code",
   "execution_count": 53,
   "metadata": {
    "collapsed": false
   },
   "outputs": [
    {
     "data": {
      "text/plain": [
       "[array([[ 0.2233436 ,  1.34006166],\n",
       "        [-0.2233436 ,  0.        ]], dtype=float32),\n",
       " 13.395198,\n",
       " 0.28557462,\n",
       " 0.0038858911]"
      ]
     },
     "execution_count": 53,
     "metadata": {},
     "output_type": "execute_result"
    }
   ],
   "source": [
    "hyper_training_step(10, _skip_hyper_ts=False)\n",
    "\n",
    "ss.run(far.utils.hypergradients() + [oo])"
   ]
  },
  {
   "cell_type": "code",
   "execution_count": 55,
   "metadata": {
    "collapsed": false
   },
   "outputs": [
    {
     "data": {
      "text/plain": [
       "[<tf.Variable 'lambda/hypergradient:0' shape=(2, 2) dtype=float32_ref>,\n",
       " <tf.Variable 'lr/hypergradient:0' shape=() dtype=float32_ref>,\n",
       " <tf.Variable 'mu/hypergradient:0' shape=() dtype=float32_ref>]"
      ]
     },
     "execution_count": 55,
     "metadata": {},
     "output_type": "execute_result"
    }
   ],
   "source": [
    "far.utils.hypergradients()"
   ]
  },
  {
   "cell_type": "markdown",
   "metadata": {
    "collapsed": true
   },
   "source": [
    "# TRY MULTIPLE DYNAMICS"
   ]
  },
  {
   "cell_type": "code",
   "execution_count": 44,
   "metadata": {
    "collapsed": true
   },
   "outputs": [],
   "source": [
    "try: ss.close()\n",
    "except: pass\n",
    "tf.reset_default_graph()\n",
    "ss = tf.InteractiveSession()\n",
    "v1 = tf.Variable([1.,3])\n",
    "v2 = tf.Variable([[-1., -2], [1., 0.]])\n",
    "lmbd = far.get_hyperparameter('lambda', \n",
    "                              initializer=tf.ones_initializer,\n",
    "                             shape=v2.get_shape())\n",
    "cost = tf.reduce_mean(v1**2) + tf.reduce_sum(lmbd*v2**2)\n",
    "\n",
    "same = False\n",
    "if same:\n",
    "    v11 = tf.Variable([1.,3])\n",
    "    v21 = tf.Variable([[-1., -2], [1., 0.]])\n",
    "else:\n",
    "    v11 = tf.Variable([13.,3])\n",
    "    v21 = tf.Variable([[-10., -2], [1., -1.]])\n",
    "cost1 = tf.reduce_mean(v11**2) + tf.reduce_sum(lmbd*v21**2)\n",
    "\n",
    "io_optim = far.MomentumOptimizer(far.get_hyperparameter('eta', 0.1), \n",
    "                                   far.get_hyperparameter('mu', .9))\n",
    "\n",
    "oo = tf.reduce_mean(v1*v2)\n",
    "oo1 = tf.reduce_mean(v11*v21)"
   ]
  },
  {
   "cell_type": "code",
   "execution_count": 45,
   "metadata": {
    "collapsed": false
   },
   "outputs": [],
   "source": [
    "oo_optim = tf.train.GradientDescentOptimizer(0.0001)\n",
    "\n",
    "farho = far.HyperOptimizer()\n",
    "optim_dict = farho.set_dynamics(cost, io_optim, var_list=[v1, v2])\n",
    "farho.set_problem(oo, optim_dict, oo_optim)\n",
    "optim_dict = farho.set_dynamics(cost1, io_optim, var_list=[v11, v21])\n",
    "farho.set_problem(oo1, optim_dict, oo_optim)\n",
    "farho.finalize()\n",
    "\n"
   ]
  },
  {
   "cell_type": "code",
   "execution_count": 46,
   "metadata": {
    "collapsed": false
   },
   "outputs": [
    {
     "data": {
      "text/plain": [
       "[array([[ 1.,  1.],\n",
       "        [ 1.,  1.]], dtype=float32), 0.1, 0.89999998]"
      ]
     },
     "execution_count": 46,
     "metadata": {},
     "output_type": "execute_result"
    }
   ],
   "source": [
    "tf.global_variables_initializer().run()\n",
    "ss.run(far.utils.hyperparameters())"
   ]
  },
  {
   "cell_type": "code",
   "execution_count": 47,
   "metadata": {
    "collapsed": false
   },
   "outputs": [
    {
     "data": {
      "text/plain": [
       "[array([[ 14.62900543,   1.34006166],\n",
       "        [ -1.56340539,   0.33501542]], dtype=float32),\n",
       " 147.34718,\n",
       " 3.1413214,\n",
       " 0.0038858911]"
      ]
     },
     "execution_count": 47,
     "metadata": {},
     "output_type": "execute_result"
    }
   ],
   "source": [
    "farho.run(10, _skip_hyper_ts=False)\n",
    "\n",
    "ss.run(far.utils.hypergradients() + [oo])"
   ]
  },
  {
   "cell_type": "code",
   "execution_count": 48,
   "metadata": {
    "collapsed": false
   },
   "outputs": [
    {
     "data": {
      "text/plain": [
       "[array([[ 0.99853712,  0.99986601],\n",
       "        [ 1.00015628,  0.9999665 ]], dtype=float32), 0.085265286, 0.89968586]"
      ]
     },
     "execution_count": 48,
     "metadata": {},
     "output_type": "execute_result"
    }
   ],
   "source": [
    "ss.run(far.utils.hyperparameters())"
   ]
  },
  {
   "cell_type": "code",
   "execution_count": 49,
   "metadata": {
    "collapsed": false
   },
   "outputs": [
    {
     "data": {
      "text/plain": [
       "[<tf.Tensor 'lambda/hypergradient_2/Mean:0' shape=(2, 2) dtype=float32>,\n",
       " <tf.Tensor 'eta/hypergradient_2/Mean:0' shape=() dtype=float32>,\n",
       " <tf.Tensor 'mu/hypergradient_2/Mean:0' shape=() dtype=float32>]"
      ]
     },
     "execution_count": 49,
     "metadata": {},
     "output_type": "execute_result"
    }
   ],
   "source": [
    "far.utils.hypergradients()"
   ]
  },
  {
   "cell_type": "code",
   "execution_count": 79,
   "metadata": {
    "collapsed": true
   },
   "outputs": [],
   "source": [
    "# ss.run(ts_hy)  # perform an hypergradient descent step....\n",
    "# print(ss.run(far.utils.hyperparameters()))\n",
    "# print(ss.run(oo))"
   ]
  }
 ],
 "metadata": {
  "anaconda-cloud": {},
  "kernelspec": {
   "display_name": "Python [conda root]",
   "language": "python",
   "name": "conda-root-py"
  },
  "language_info": {
   "codemirror_mode": {
    "name": "ipython",
    "version": 3
   },
   "file_extension": ".py",
   "mimetype": "text/x-python",
   "name": "python",
   "nbconvert_exporter": "python",
   "pygments_lexer": "ipython3",
   "version": "3.5.3"
  }
 },
 "nbformat": 4,
 "nbformat_minor": 1
}
