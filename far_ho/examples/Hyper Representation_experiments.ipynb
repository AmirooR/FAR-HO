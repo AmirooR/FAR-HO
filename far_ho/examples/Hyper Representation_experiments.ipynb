{
 "cells": [
  {
   "cell_type": "code",
   "execution_count": 1,
   "metadata": {},
   "outputs": [
    {
     "name": "stdout",
     "output_type": "stream",
     "text": [
      "Data folder is /media/luca/DATA/DATASETS\n",
      "Experiment save directory is  /media/luca/DATA/EXPERIMENTS\n"
     ]
    }
   ],
   "source": [
    "import experiment_manager as em\n",
    "import far_ho as far\n",
    "from far_ho.examples import hyper_representation\n",
    "import tensorflow as tf"
   ]
  },
  {
   "cell_type": "code",
   "execution_count": null,
   "metadata": {},
   "outputs": [],
   "source": [
    "omniglot = em.load.meta_omniglot(std_num_classes=5, std_num_examples=(1*5, 15*5), _rand=1)"
   ]
  },
  {
   "cell_type": "code",
   "execution_count": null,
   "metadata": {
    "collapsed": true
   },
   "outputs": [],
   "source": [
    "name_of_exp = 'one_shot_5clssMBS_32'"
   ]
  },
  {
   "cell_type": "code",
   "execution_count": null,
   "metadata": {
    "scrolled": false
   },
   "outputs": [],
   "source": [
    "res = hyper_representation.train(omniglot, name_of_exp, hyper_representation.omniglot_model, T=2, print_every=1000, MBS=32,\n",
    "                           n_episodes_testing=120)"
   ]
  },
  {
   "cell_type": "code",
   "execution_count": null,
   "metadata": {
    "collapsed": true
   },
   "outputs": [],
   "source": [
    ""
   ]
  }
 ],
 "metadata": {
  "anaconda-cloud": {},
  "kernelspec": {
   "display_name": "Python [conda root]",
   "language": "python",
   "name": "conda-root-py"
  },
  "language_info": {
   "codemirror_mode": {
    "name": "ipython",
    "version": 3.0
   },
   "file_extension": ".py",
   "mimetype": "text/x-python",
   "name": "python",
   "nbconvert_exporter": "python",
   "pygments_lexer": "ipython3",
   "version": "3.5.2"
  }
 },
 "nbformat": 4,
 "nbformat_minor": 0
}